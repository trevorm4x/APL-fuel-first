{
 "cells": [
  {
   "cell_type": "code",
   "execution_count": 511,
   "id": "japanese-genome",
   "metadata": {
    "ExecuteTime": {
     "end_time": "2021-05-23T16:40:34.354478Z",
     "start_time": "2021-05-23T16:40:34.341451Z"
    }
   },
   "outputs": [],
   "source": [
    "import numpy as np\n",
    "import pandas as pd\n",
    "import matplotlib.pyplot as plt"
   ]
  },
  {
   "cell_type": "code",
   "execution_count": 512,
   "id": "explicit-grove",
   "metadata": {
    "ExecuteTime": {
     "end_time": "2021-05-23T16:40:34.426961Z",
     "start_time": "2021-05-23T16:40:34.355835Z"
    }
   },
   "outputs": [],
   "source": [
    "from jupyterthemes import jtplot\n",
    "jtplot.style(theme='monokai', context='notebook', ticks=False, grid=False)"
   ]
  },
  {
   "cell_type": "code",
   "execution_count": 513,
   "id": "intellectual-ideal",
   "metadata": {
    "ExecuteTime": {
     "end_time": "2021-05-23T16:40:34.437457Z",
     "start_time": "2021-05-23T16:40:34.428354Z"
    }
   },
   "outputs": [],
   "source": [
    "import matplotlib as mpl"
   ]
  },
  {
   "cell_type": "code",
   "execution_count": 514,
   "id": "empirical-reconstruction",
   "metadata": {
    "ExecuteTime": {
     "end_time": "2021-05-23T16:40:34.447580Z",
     "start_time": "2021-05-23T16:40:34.438562Z"
    }
   },
   "outputs": [],
   "source": [
    "# Edit the font, font size, and axes width\n",
    "# mpl.rcParams['font.family'] = 'Avenir'\n",
    "plt.rcParams['font.size'] = 24\n",
    "plt.rcParams['axes.linewidth'] = 2"
   ]
  },
  {
   "cell_type": "code",
   "execution_count": 515,
   "id": "independent-bones",
   "metadata": {
    "ExecuteTime": {
     "end_time": "2021-05-23T16:40:34.458303Z",
     "start_time": "2021-05-23T16:40:34.448441Z"
    }
   },
   "outputs": [
    {
     "name": "stdout",
     "output_type": "stream",
     "text": [
      "The autoreload extension is already loaded. To reload it, use:\n",
      "  %reload_ext autoreload\n"
     ]
    }
   ],
   "source": [
    "%load_ext autoreload\n",
    "%autoreload 2"
   ]
  },
  {
   "cell_type": "code",
   "execution_count": 516,
   "id": "wooden-deployment",
   "metadata": {
    "ExecuteTime": {
     "end_time": "2021-05-23T16:40:34.468088Z",
     "start_time": "2021-05-23T16:40:34.459269Z"
    }
   },
   "outputs": [],
   "source": [
    "import sys\n",
    "sys.path.insert(0, '/home/trevormjs/Documents/Science/APL/Lab')"
   ]
  },
  {
   "cell_type": "code",
   "execution_count": 517,
   "id": "rubber-variety",
   "metadata": {
    "ExecuteTime": {
     "end_time": "2021-05-23T16:40:34.477879Z",
     "start_time": "2021-05-23T16:40:34.469060Z"
    }
   },
   "outputs": [],
   "source": [
    "from Helper.plotting import my_graph"
   ]
  },
  {
   "cell_type": "markdown",
   "id": "extreme-maintenance",
   "metadata": {},
   "source": [
    "#### PV"
   ]
  },
  {
   "cell_type": "markdown",
   "id": "comic-observer",
   "metadata": {},
   "source": [
    "##### Basic starting measurements"
   ]
  },
  {
   "cell_type": "code",
   "execution_count": 518,
   "id": "unable-outside",
   "metadata": {
    "ExecuteTime": {
     "end_time": "2021-05-23T16:40:34.488491Z",
     "start_time": "2021-05-23T16:40:34.479575Z"
    }
   },
   "outputs": [],
   "source": [
    "meter_readings = np.array([\n",
    "    [22.7, 23.9, 24.2, 23.1],\n",
    "    [22.2, 26.2, 32.9, 26.2]\n",
    "])"
   ]
  },
  {
   "cell_type": "code",
   "execution_count": 519,
   "id": "prescribed-creature",
   "metadata": {
    "ExecuteTime": {
     "end_time": "2021-05-23T16:40:34.499795Z",
     "start_time": "2021-05-23T16:40:34.489817Z"
    }
   },
   "outputs": [
    {
     "data": {
      "text/plain": [
       "array([[22.7+/-0.6809999999999999, 23.9+/-0.717, 24.2+/-0.726,\n",
       "        23.1+/-0.6930000000000001],\n",
       "       [22.2+/-0.6659999999999999, 26.2+/-0.7859999999999999,\n",
       "        32.9+/-0.9869999999999999, 26.2+/-0.7859999999999999]],\n",
       "      dtype=object)"
      ]
     },
     "execution_count": 519,
     "metadata": {},
     "output_type": "execute_result"
    }
   ],
   "source": [
    "umeter_readings = np.array([\n",
    "    [ufloat(i, i*.03) for i in j]\n",
    "    for j in meter_readings\n",
    "])\n",
    "umeter_readings"
   ]
  },
  {
   "cell_type": "code",
   "execution_count": 523,
   "id": "narrow-nepal",
   "metadata": {
    "ExecuteTime": {
     "end_time": "2021-05-23T16:40:45.056210Z",
     "start_time": "2021-05-23T16:40:45.041195Z"
    }
   },
   "outputs": [
    {
     "data": {
      "text/plain": [
       "array([[1.8159999999999998+/-0.054479999999999994, 1.912+/-0.05736,\n",
       "        1.936+/-0.05808, 1.848+/-0.05544],\n",
       "       [1.776+/-0.053279999999999994, 2.096+/-0.06287999999999999,\n",
       "        2.6319999999999997+/-0.07895999999999999,\n",
       "        2.096+/-0.06287999999999999]], dtype=object)"
      ]
     },
     "execution_count": 523,
     "metadata": {},
     "output_type": "execute_result"
    }
   ],
   "source": [
    "true_power = meter_readings/12.5\n",
    "true_power  # mW\n",
    "utrue_power = umeter_readings/12.5\n",
    "utrue_power"
   ]
  },
  {
   "cell_type": "code",
   "execution_count": 524,
   "id": "answering-world",
   "metadata": {
    "ExecuteTime": {
     "end_time": "2021-05-23T16:40:45.128034Z",
     "start_time": "2021-05-23T16:40:45.057618Z"
    }
   },
   "outputs": [],
   "source": [
    "uncertainty = true_power.reshape(-1).std()*1e-3"
   ]
  },
  {
   "cell_type": "code",
   "execution_count": 612,
   "id": "official-privilege",
   "metadata": {
    "ExecuteTime": {
     "end_time": "2021-05-23T17:52:53.789263Z",
     "start_time": "2021-05-23T17:52:53.777139Z"
    }
   },
   "outputs": [],
   "source": [
    "def print_unc(val, unc=[]):\n",
    "    if isinstance(unc, list):\n",
    "        val, unc = val.n, val.s\n",
    "    dig = get_leading_figure(unc)\n",
    "\n",
    "#     print(\"{:.{}f} +- {:.{}f}\".format(val, dig, unc, dig))\n",
    "    return np.round(val, dig), np.round(unc, dig), dig"
   ]
  },
  {
   "cell_type": "code",
   "execution_count": 538,
   "id": "secure-induction",
   "metadata": {
    "ExecuteTime": {
     "end_time": "2021-05-23T16:41:01.657989Z",
     "start_time": "2021-05-23T16:41:01.641954Z"
    },
    "scrolled": true
   },
   "outputs": [
    {
     "data": {
      "text/plain": [
       "0.0020139999999999997"
      ]
     },
     "execution_count": 538,
     "metadata": {},
     "output_type": "execute_result"
    }
   ],
   "source": [
    "avg_power = true_power.mean().mean()*1e-3\n",
    "avg_power  # W"
   ]
  },
  {
   "cell_type": "code",
   "execution_count": 537,
   "id": "thorough-driving",
   "metadata": {
    "ExecuteTime": {
     "end_time": "2021-05-23T16:41:01.266761Z",
     "start_time": "2021-05-23T16:41:01.244585Z"
    },
    "scrolled": true
   },
   "outputs": [
    {
     "name": "stdout",
     "output_type": "stream",
     "text": [
      "0.0002586658075587107\n",
      "0.0025866580755871072\n",
      "0.025866580755871074\n",
      "0.2586658075587107\n",
      "0.0020 +- 0.0003\n"
     ]
    },
    {
     "data": {
      "text/plain": [
       "(0.002, 0.0003, 4)"
      ]
     },
     "execution_count": 537,
     "metadata": {},
     "output_type": "execute_result"
    }
   ],
   "source": [
    "from uncertainties import ufloat\n",
    "uavg_power = ufloat(avg_power, uncertainty)\n",
    "print_unc(uavg_power)"
   ]
  },
  {
   "cell_type": "code",
   "execution_count": 539,
   "id": "restricted-popularity",
   "metadata": {
    "ExecuteTime": {
     "end_time": "2021-05-23T16:41:03.061723Z",
     "start_time": "2021-05-23T16:41:03.042960Z"
    }
   },
   "outputs": [
    {
     "data": {
      "text/plain": [
       "7.08821842466197e-05"
      ]
     },
     "execution_count": 539,
     "metadata": {},
     "output_type": "execute_result"
    }
   ],
   "source": [
    "meter_area = (9.5e-3/2)**2*np.pi\n",
    "meter_area  # m^2"
   ]
  },
  {
   "cell_type": "code",
   "execution_count": 541,
   "id": "improving-police",
   "metadata": {
    "ExecuteTime": {
     "end_time": "2021-05-23T16:41:06.390920Z",
     "start_time": "2021-05-23T16:41:06.378882Z"
    }
   },
   "outputs": [
    {
     "data": {
      "text/plain": [
       "(0.00773225+/-6.297717840614964e-05, 0.00773225)"
      ]
     },
     "execution_count": 541,
     "metadata": {},
     "output_type": "execute_result"
    }
   ],
   "source": [
    "pvc_dimensions = [0.0985, 0.0785]  # in meters\n",
    "pvc_area = pvc_dimensions[0]*pvc_dimensions[1]\n",
    "upvc_dimensions = [ufloat(i, 5e-4) for i in pvc_dimensions]\n",
    "upvc_area = upvc_dimensions[0]*upvc_dimensions[1]\n",
    "upvc_area, pvc_area\n",
    "\n",
    "# single_cell_dimension = []  # in meters\n",
    "# n_cells = 8\n",
    "# pvc_area = single_cell_dimension[0] * single_cell_dimension[1] * n_cells"
   ]
  },
  {
   "cell_type": "code",
   "execution_count": 542,
   "id": "frozen-scheduling",
   "metadata": {
    "ExecuteTime": {
     "end_time": "2021-05-23T16:41:10.936518Z",
     "start_time": "2021-05-23T16:41:10.925152Z"
    }
   },
   "outputs": [
    {
     "name": "stdout",
     "output_type": "stream",
     "text": [
      "0.00773 +- 0.00006\n"
     ]
    },
    {
     "data": {
      "text/plain": [
       "(0.00773, 6e-05, 5)"
      ]
     },
     "execution_count": 542,
     "metadata": {},
     "output_type": "execute_result"
    }
   ],
   "source": [
    "print_unc(upvc_area)"
   ]
  },
  {
   "cell_type": "markdown",
   "id": "inappropriate-falls",
   "metadata": {},
   "source": [
    "##### Prelim calculations"
   ]
  },
  {
   "cell_type": "code",
   "execution_count": 543,
   "id": "apart-yesterday",
   "metadata": {
    "ExecuteTime": {
     "end_time": "2021-05-23T16:41:11.008181Z",
     "start_time": "2021-05-23T16:41:10.937704Z"
    }
   },
   "outputs": [],
   "source": [
    "avg_intensity = uavg_power/meter_area"
   ]
  },
  {
   "cell_type": "code",
   "execution_count": 544,
   "id": "verbal-celebrity",
   "metadata": {
    "ExecuteTime": {
     "end_time": "2021-05-23T16:41:11.019362Z",
     "start_time": "2021-05-23T16:41:11.009477Z"
    }
   },
   "outputs": [
    {
     "data": {
      "text/plain": [
       "28.41334562987942+/-3.6492358454803995"
      ]
     },
     "execution_count": 544,
     "metadata": {},
     "output_type": "execute_result"
    }
   ],
   "source": [
    "avg_intensity"
   ]
  },
  {
   "cell_type": "code",
   "execution_count": 545,
   "id": "pacific-update",
   "metadata": {
    "ExecuteTime": {
     "end_time": "2021-05-23T16:41:11.029793Z",
     "start_time": "2021-05-23T16:41:11.020595Z"
    }
   },
   "outputs": [],
   "source": [
    "total_avg_light_power = avg_intensity * pvc_area"
   ]
  },
  {
   "cell_type": "code",
   "execution_count": 546,
   "id": "romance-verse",
   "metadata": {
    "ExecuteTime": {
     "end_time": "2021-05-23T16:41:11.043212Z",
     "start_time": "2021-05-23T16:41:11.031001Z"
    }
   },
   "outputs": [
    {
     "name": "stdout",
     "output_type": "stream",
     "text": [
      "0.02821680386621582\n",
      "0.2821680386621582\n",
      "0.22 +- 0.03\n"
     ]
    },
    {
     "data": {
      "text/plain": [
       "(0.22, 0.03, 2)"
      ]
     },
     "execution_count": 546,
     "metadata": {},
     "output_type": "execute_result"
    }
   ],
   "source": [
    "total_avg_light_power  # Watts\n",
    "print_unc(total_avg_light_power)"
   ]
  },
  {
   "cell_type": "markdown",
   "id": "vocal-vegetation",
   "metadata": {},
   "source": [
    "##### Main test measurements"
   ]
  },
  {
   "cell_type": "code",
   "execution_count": 547,
   "id": "precise-reminder",
   "metadata": {
    "ExecuteTime": {
     "end_time": "2021-05-23T16:41:11.056877Z",
     "start_time": "2021-05-23T16:41:11.044347Z"
    }
   },
   "outputs": [],
   "source": [
    "pv = pd.DataFrame({\n",
    "    'R': [\n",
    "        0.1, 3, 10, 30, 70, 100, 150, 300,\n",
    "        500, 800, 1e3, 5e3, 10e3, 5e4, 8e4, 1e5,\n",
    "        5e5, 1e6\n",
    "    ],\n",
    "    'C': [\n",
    "        23.77, 23.7, 23.67, 23.52, 21.3, 17.2,\n",
    "        12.29, 6.49, 3.98, 2.54, 2.05, 0.3886,\n",
    "        .1971, .03088, .02454, .01957, .00403,\n",
    "        .00206\n",
    "    ],\n",
    "    'V': [\n",
    "        .02918, .1014, .2645, .7361, 1.529, 1.7444,\n",
    "        1.8527, 1.9285, 1.9528, 1.9651, 1.97, 1.9816,\n",
    "        1.9829, 1.9838, 1.9843, 1.9834, 1.9832, 1.985\n",
    "    ]\n",
    "})"
   ]
  },
  {
   "cell_type": "code",
   "execution_count": 548,
   "id": "satellite-armstrong",
   "metadata": {
    "ExecuteTime": {
     "end_time": "2021-05-23T16:41:11.068463Z",
     "start_time": "2021-05-23T16:41:11.057932Z"
    }
   },
   "outputs": [],
   "source": [
    "def make_unc_4(val):\n",
    "    return get_leading_figure(val) + 4"
   ]
  },
  {
   "cell_type": "code",
   "execution_count": 549,
   "id": "reserved-prisoner",
   "metadata": {
    "ExecuteTime": {
     "end_time": "2021-05-23T16:41:11.085420Z",
     "start_time": "2021-05-23T16:41:11.071082Z"
    },
    "scrolled": true
   },
   "outputs": [
    {
     "name": "stdout",
     "output_type": "stream",
     "text": [
      "0.3886\n",
      "0.1971\n",
      "0.03088\n",
      "0.3088\n",
      "0.02454\n",
      "0.2454\n",
      "0.01957\n",
      "0.1957\n",
      "0.00403\n",
      "0.040299999999999996\n",
      "0.40299999999999997\n",
      "0.00206\n",
      "0.0206\n",
      "0.20600000000000002\n",
      "0.02918\n",
      "0.2918\n",
      "0.1014\n",
      "0.2645\n",
      "0.7361\n"
     ]
    }
   ],
   "source": [
    "pv[['uC', 'uV']] = pv[['C', 'V']].apply(\n",
    "    lambda x: [ufloat(i, 10**-make_unc_4(i)) for i in x.values])"
   ]
  },
  {
   "cell_type": "markdown",
   "id": "atlantic-tactics",
   "metadata": {},
   "source": [
    "##### Analysis"
   ]
  },
  {
   "cell_type": "code",
   "execution_count": 560,
   "id": "advisory-confusion",
   "metadata": {
    "ExecuteTime": {
     "end_time": "2021-05-23T16:43:40.929756Z",
     "start_time": "2021-05-23T16:43:40.761235Z"
    }
   },
   "outputs": [
    {
     "data": {
      "image/png": "[encoded data removed]",
      "text/plain": [
       "<Figure size 504x252 with 1 Axes>"
      ]
     },
     "metadata": {},
     "output_type": "display_data"
    }
   ],
   "source": [
    "# plt.figure(figsize = (9, 5.5))\n",
    "# plt.plot(pv.V, pv.C)\n",
    "# plt.xlabel('V')\n",
    "# plt.ylabel('I (mA)')\n",
    "# plt.title('I(V) with varying Resistance')\n",
    "# plt.savefig(\"../Images/l1_a_1.png\")\n",
    "# plt.show()\n",
    "my_graph(pv.V, pv.C, 'linear', 'linear',\n",
    "         'Voltage (V)', 'Current (mA)', \"l1_a_1\", 'linear')"
   ]
  },
  {
   "cell_type": "code",
   "execution_count": 562,
   "id": "amended-design",
   "metadata": {
    "ExecuteTime": {
     "end_time": "2021-05-23T16:43:47.876455Z",
     "start_time": "2021-05-23T16:43:47.661122Z"
    },
    "scrolled": false
   },
   "outputs": [
    {
     "data": {
      "image/png": "[encoded data removed]",
      "text/plain": [
       "<Figure size 504x252 with 1 Axes>"
      ]
     },
     "metadata": {},
     "output_type": "display_data"
    }
   ],
   "source": [
    "my_graph(pv.R, pv.C*pv.V, 'log', 'linear',\n",
    "         r'Resistance ($\\mathregular{\\Omega}$)', 'Power (mW)', 'l1_a_2', 'linear')"
   ]
  },
  {
   "cell_type": "markdown",
   "id": "satisfactory-briefing",
   "metadata": {},
   "source": [
    "##### Results"
   ]
  },
  {
   "cell_type": "code",
   "execution_count": 563,
   "id": "dated-burke",
   "metadata": {
    "ExecuteTime": {
     "end_time": "2021-05-23T16:43:54.655232Z",
     "start_time": "2021-05-23T16:43:54.631519Z"
    }
   },
   "outputs": [],
   "source": [
    "P = pv.V*pv.C  # power in mW\n",
    "uP = pv.uV*pv.uC  # power in mW"
   ]
  },
  {
   "cell_type": "code",
   "execution_count": 564,
   "id": "commercial-convertible",
   "metadata": {
    "ExecuteTime": {
     "end_time": "2021-05-23T16:43:54.776166Z",
     "start_time": "2021-05-23T16:43:54.762434Z"
    }
   },
   "outputs": [],
   "source": [
    "# quick aside to interpolate the peak just for fun"
   ]
  },
  {
   "cell_type": "code",
   "execution_count": 565,
   "id": "naked-empty",
   "metadata": {
    "ExecuteTime": {
     "end_time": "2021-05-23T16:43:54.877614Z",
     "start_time": "2021-05-23T16:43:54.865914Z"
    }
   },
   "outputs": [],
   "source": [
    "from scipy.interpolate import interp1d"
   ]
  },
  {
   "cell_type": "code",
   "execution_count": 645,
   "id": "opened-shift",
   "metadata": {
    "ExecuteTime": {
     "end_time": "2021-05-24T06:18:35.533908Z",
     "start_time": "2021-05-24T06:18:35.523576Z"
    }
   },
   "outputs": [],
   "source": [
    "lmax = np.where(P == P.max())[0][0]"
   ]
  },
  {
   "cell_type": "code",
   "execution_count": 649,
   "id": "diverse-bobby",
   "metadata": {
    "ExecuteTime": {
     "end_time": "2021-05-24T06:20:35.448696Z",
     "start_time": "2021-05-24T06:20:35.435874Z"
    }
   },
   "outputs": [
    {
     "data": {
      "text/plain": [
       "(R                    70\n",
       " C                  21.3\n",
       " V                 1.529\n",
       " uC     21.3000+/-0.0010\n",
       " uV    1.52900+/-0.00010\n",
       " Name: 4, dtype: object,\n",
       " 32.5677)"
      ]
     },
     "execution_count": 649,
     "metadata": {},
     "output_type": "execute_result"
    }
   ],
   "source": [
    "pv.loc[lmax], P[lmax]"
   ]
  },
  {
   "cell_type": "code",
   "execution_count": 567,
   "id": "secure-oklahoma",
   "metadata": {
    "ExecuteTime": {
     "end_time": "2021-05-23T16:43:55.077989Z",
     "start_time": "2021-05-23T16:43:55.065380Z"
    }
   },
   "outputs": [],
   "source": [
    "inds = [lmax - 1, lmax, lmax + 1, lmax + 2]"
   ]
  },
  {
   "cell_type": "code",
   "execution_count": 568,
   "id": "atomic-dream",
   "metadata": {
    "ExecuteTime": {
     "end_time": "2021-05-23T16:43:55.782516Z",
     "start_time": "2021-05-23T16:43:55.192226Z"
    }
   },
   "outputs": [
    {
     "data": {
      "image/png": "[encoded data removed]",
      "text/plain": [
       "<Figure size 648x396 with 1 Axes>"
      ]
     },
     "metadata": {},
     "output_type": "display_data"
    },
    {
     "ename": "TypeError",
     "evalue": "my_graph() missing 3 required positional arguments: 'ylabel', 'name', and 'interp'",
     "output_type": "error",
     "traceback": [
      "\u001b[0;31m---------------------------------------------------------------------------\u001b[0m",
      "\u001b[0;31mTypeError\u001b[0m                                 Traceback (most recent call last)",
      "\u001b[0;32m<ipython-input-568-44f5d4c34952>\u001b[0m in \u001b[0;36m<module>\u001b[0;34m\u001b[0m\n\u001b[1;32m     14\u001b[0m \u001b[0mplt\u001b[0m\u001b[0;34m.\u001b[0m\u001b[0msavefig\u001b[0m\u001b[0;34m(\u001b[0m\u001b[0;34m\"../Images/l1_b_1.png\"\u001b[0m\u001b[0;34m)\u001b[0m\u001b[0;34m\u001b[0m\u001b[0;34m\u001b[0m\u001b[0m\n\u001b[1;32m     15\u001b[0m \u001b[0mplt\u001b[0m\u001b[0;34m.\u001b[0m\u001b[0mshow\u001b[0m\u001b[0;34m(\u001b[0m\u001b[0;34m)\u001b[0m\u001b[0;34m\u001b[0m\u001b[0;34m\u001b[0m\u001b[0m\n\u001b[0;32m---> 16\u001b[0;31m my_graph(pv.R, pv.V*pv.C, 'log', 'linear',\n\u001b[0m\u001b[1;32m     17\u001b[0m          r'Resistance ($\\mathregular{\\Omega}$)',)\n",
      "\u001b[0;31mTypeError\u001b[0m: my_graph() missing 3 required positional arguments: 'ylabel', 'name', and 'interp'"
     ]
    }
   ],
   "source": [
    "plt.figure(figsize=(9, 5.5))\n",
    "plt.plot(pv.R, pv.V*pv.C, label='Measured')\n",
    "inp = np.log10(pv.R[inds])\n",
    "interp = interp1d(np.log10(pv.R), P, 'cubic')\n",
    "x = np.linspace(inp.min(), inp.max(), 1000)\n",
    "y = interp(x)\n",
    "plt.plot(10**x, y, label='Spline')\n",
    "plt.legend()\n",
    "plt.xscale('log')\n",
    "plt.xlabel('log R')\n",
    "plt.ylabel('P (mW)')\n",
    "plt.ylim([0, 40])\n",
    "plt.title('Output PVC Power with varying Resistance')\n",
    "plt.savefig(\"../Images/l1_b_1.png\")\n",
    "plt.show()\n",
    "my_graph(pv.R, pv.V*pv.C, 'log', 'linear',\n",
    "         r'Resistance ($\\mathregular{\\Omega}$)',)"
   ]
  },
  {
   "cell_type": "code",
   "execution_count": 571,
   "id": "earlier-freight",
   "metadata": {
    "ExecuteTime": {
     "end_time": "2021-05-23T16:44:05.497914Z",
     "start_time": "2021-05-23T16:44:05.487997Z"
    }
   },
   "outputs": [],
   "source": [
    "max_p_e = (uP).max()*1e-3"
   ]
  },
  {
   "cell_type": "code",
   "execution_count": 644,
   "id": "brutal-girlfriend",
   "metadata": {
    "ExecuteTime": {
     "end_time": "2021-05-24T06:18:30.305530Z",
     "start_time": "2021-05-24T06:18:30.295128Z"
    }
   },
   "outputs": [
    {
     "data": {
      "text/plain": [
       "0.032567700000000005+/-2.621972730598089e-06"
      ]
     },
     "execution_count": 644,
     "metadata": {},
     "output_type": "execute_result"
    }
   ],
   "source": [
    "max_p_e"
   ]
  },
  {
   "cell_type": "code",
   "execution_count": 572,
   "id": "beneficial-lodge",
   "metadata": {
    "ExecuteTime": {
     "end_time": "2021-05-23T16:44:05.659102Z",
     "start_time": "2021-05-23T16:44:05.646581Z"
    }
   },
   "outputs": [
    {
     "data": {
      "text/plain": [
       "0.1482377543806974+/-0.0190387517283863"
      ]
     },
     "execution_count": 572,
     "metadata": {},
     "output_type": "execute_result"
    }
   ],
   "source": [
    "max_p_e/total_avg_light_power"
   ]
  },
  {
   "cell_type": "code",
   "execution_count": 573,
   "id": "atlantic-melissa",
   "metadata": {
    "ExecuteTime": {
     "end_time": "2021-05-23T16:44:05.855196Z",
     "start_time": "2021-05-23T16:44:05.836117Z"
    }
   },
   "outputs": [
    {
     "name": "stdout",
     "output_type": "stream",
     "text": [
      "15 +- 2\n"
     ]
    },
    {
     "data": {
      "text/plain": [
       "'(15.0, 2.0) % Efficiency'"
      ]
     },
     "execution_count": 573,
     "metadata": {},
     "output_type": "execute_result"
    }
   ],
   "source": [
    "# n_pv = P_E/P_L\n",
    "f\"{print_unc(max_p_e/total_avg_light_power * 100)[:2]} % Efficiency\""
   ]
  },
  {
   "cell_type": "markdown",
   "id": "prospective-partner",
   "metadata": {},
   "source": [
    "#### Part C"
   ]
  },
  {
   "cell_type": "markdown",
   "id": "broken-philippines",
   "metadata": {},
   "source": [
    "#####  starting values"
   ]
  },
  {
   "cell_type": "code",
   "execution_count": 574,
   "id": "sought-czech",
   "metadata": {
    "ExecuteTime": {
     "end_time": "2021-05-23T16:44:06.800151Z",
     "start_time": "2021-05-23T16:44:06.784381Z"
    }
   },
   "outputs": [],
   "source": [
    "vol = 5  # cm^3\n",
    "HHV = 1.42e8\n",
    "LHV = 1.20e8  # J/kg\n",
    "M_H2 = 2.01e-3"
   ]
  },
  {
   "cell_type": "markdown",
   "id": "comprehensive-permission",
   "metadata": {},
   "source": [
    "##### measurements"
   ]
  },
  {
   "cell_type": "code",
   "execution_count": 635,
   "id": "adjacent-patient",
   "metadata": {
    "ExecuteTime": {
     "end_time": "2021-05-23T18:01:36.706218Z",
     "start_time": "2021-05-23T18:01:36.694079Z"
    }
   },
   "outputs": [],
   "source": [
    "res = pd.DataFrame({\n",
    "    't': [ufloat(112.5, 3)],\n",
    "    'V': [1.892],\n",
    "    'I': [0.3215],\n",
    "    'Volume': [ufloat(5, .3)],\n",
    "})"
   ]
  },
  {
   "cell_type": "markdown",
   "id": "operating-underwear",
   "metadata": {},
   "source": [
    "##### Results"
   ]
  },
  {
   "cell_type": "code",
   "execution_count": 636,
   "id": "fancy-player",
   "metadata": {
    "ExecuteTime": {
     "end_time": "2021-05-23T18:01:36.949810Z",
     "start_time": "2021-05-23T18:01:36.937973Z"
    }
   },
   "outputs": [],
   "source": [
    "res.insert(3, 'P', res.V*res.I)\n",
    "res.insert(4, 'E', res.P*res.t)"
   ]
  },
  {
   "cell_type": "code",
   "execution_count": 637,
   "id": "unknown-athletics",
   "metadata": {
    "ExecuteTime": {
     "end_time": "2021-05-23T18:01:37.063220Z",
     "start_time": "2021-05-23T18:01:37.043125Z"
    }
   },
   "outputs": [],
   "source": [
    "res['umass'] = 2.015e-3 * 101300 * res['Volume'] * 1e-6 / 8.314 / 293"
   ]
  },
  {
   "cell_type": "code",
   "execution_count": 638,
   "id": "amazing-gabriel",
   "metadata": {
    "ExecuteTime": {
     "end_time": "2021-05-23T18:01:37.173451Z",
     "start_time": "2021-05-23T18:01:37.161029Z"
    }
   },
   "outputs": [],
   "source": [
    "res['uE_EL'] = (res['t'] * res['P'])\n",
    "res['uE_H'] = res['umass'] * HHV"
   ]
  },
  {
   "cell_type": "code",
   "execution_count": 639,
   "id": "interim-consumption",
   "metadata": {
    "ExecuteTime": {
     "end_time": "2021-05-23T18:01:37.304803Z",
     "start_time": "2021-05-23T18:01:37.292657Z"
    }
   },
   "outputs": [
    {
     "data": {
      "text/plain": [
       "'Resistance ($\\\\mathregular{\\\\Omega}$)'"
      ]
     },
     "execution_count": 639,
     "metadata": {},
     "output_type": "execute_result"
    }
   ],
   "source": [
    "rohms"
   ]
  },
  {
   "cell_type": "code",
   "execution_count": 642,
   "id": "peripheral-system",
   "metadata": {
    "ExecuteTime": {
     "end_time": "2021-05-23T18:01:44.899394Z",
     "start_time": "2021-05-23T18:01:44.888203Z"
    },
    "scrolled": true
   },
   "outputs": [],
   "source": [
    "res['Efficiency'] = res['uE_H']/res['uE_EL']"
   ]
  },
  {
   "cell_type": "code",
   "execution_count": 643,
   "id": "intellectual-tooth",
   "metadata": {
    "ExecuteTime": {
     "end_time": "2021-05-23T18:01:45.210292Z",
     "start_time": "2021-05-23T18:01:45.190626Z"
    }
   },
   "outputs": [
    {
     "data": {
      "text/html": [
       "<div>\n",
       "<style scoped>\n",
       "    .dataframe tbody tr th:only-of-type {\n",
       "        vertical-align: middle;\n",
       "    }\n",
       "\n",
       "    .dataframe tbody tr th {\n",
       "        vertical-align: top;\n",
       "    }\n",
       "\n",
       "    .dataframe thead th {\n",
       "        text-align: right;\n",
       "    }\n",
       "</style>\n",
       "<table border=\"1\" class=\"dataframe\">\n",
       "  <thead>\n",
       "    <tr style=\"text-align: right;\">\n",
       "      <th></th>\n",
       "      <th>t</th>\n",
       "      <th>V</th>\n",
       "      <th>I</th>\n",
       "      <th>P</th>\n",
       "      <th>E</th>\n",
       "      <th>Volume</th>\n",
       "      <th>umass</th>\n",
       "      <th>uE_EL</th>\n",
       "      <th>uE_H</th>\n",
       "      <th></th>\n",
       "      <th>Efficiency</th>\n",
       "    </tr>\n",
       "  </thead>\n",
       "  <tbody>\n",
       "    <tr>\n",
       "      <th>0</th>\n",
       "      <td>112.5+/-3.0</td>\n",
       "      <td>1.892</td>\n",
       "      <td>0.3215</td>\n",
       "      <td>0.608278</td>\n",
       "      <td>68.4+/-1.8</td>\n",
       "      <td>5.00+/-0.30</td>\n",
       "      <td>(4.19+/-0.25)e-07</td>\n",
       "      <td>68.4+/-1.8</td>\n",
       "      <td>59+/-4</td>\n",
       "      <td>0.87+/-0.06</td>\n",
       "      <td>0.87+/-0.06</td>\n",
       "    </tr>\n",
       "  </tbody>\n",
       "</table>\n",
       "</div>"
      ],
      "text/plain": [
       "             t      V       I         P           E       Volume  \\\n",
       "0  112.5+/-3.0  1.892  0.3215  0.608278  68.4+/-1.8  5.00+/-0.30   \n",
       "\n",
       "               umass       uE_EL    uE_H                Efficiency  \n",
       "0  (4.19+/-0.25)e-07  68.4+/-1.8  59+/-4  0.87+/-0.06  0.87+/-0.06  "
      ]
     },
     "execution_count": 643,
     "metadata": {},
     "output_type": "execute_result"
    }
   ],
   "source": [
    "res"
   ]
  },
  {
   "cell_type": "markdown",
   "id": "peripheral-spine",
   "metadata": {},
   "source": [
    "### Part D"
   ]
  },
  {
   "cell_type": "markdown",
   "id": "injured-organization",
   "metadata": {
    "heading_collapsed": true
   },
   "source": [
    "#### Trial 1"
   ]
  },
  {
   "cell_type": "code",
   "execution_count": 583,
   "id": "public-banana",
   "metadata": {
    "ExecuteTime": {
     "end_time": "2021-05-23T16:46:45.362827Z",
     "start_time": "2021-05-23T16:46:45.349390Z"
    },
    "hidden": true
   },
   "outputs": [],
   "source": [
    "res = pd.DataFrame([\n",
    "    [1, 0.079, 62.3, 0.0623, 0.0049217],\n",
    "    [3, 0.1942, 59.9, 0.0599, 0.01163258],\n",
    "    [3, 0.29, 88, 0.088, 0.02552],\n",
    "    [4, 0.505, 95.5, 0.0955, 0.0482275],\n",
    "    [5, 0.545, 86.4, 0.0864, 0.047088],\n",
    "    [7, 0.483, 58.6, 0.0586, 0.0283038],\n",
    "    [7, 0.4343, 52.7, 0.0527, 0.02288761],\n",
    "    [10, 0.496, 49.5, 0.0495, 0.024552],\n",
    "    [30, 0.626, 21.6, 0.0216, 0.0135216],\n",
    "    [100, 0.71, 7.9, 0.0079, 0.005609],\n",
    "    [300, 0.774, 3.5, 0.0035, 0.002709],\n",
    "    [1000, 0.83, 1.73, 0.00173, 0.0014359],\n",
    "    [3000, 0.855, 0.294, 0.000294, 0.00025137],\n",
    "    [10000, 0.872, 0.096, 0.000096, 0.000083712]],\n",
    "    columns=['R', 'V', 'I', 'I(A)', 'P'],\n",
    ")"
   ]
  },
  {
   "cell_type": "code",
   "execution_count": 584,
   "id": "indie-language",
   "metadata": {
    "ExecuteTime": {
     "end_time": "2021-05-23T16:46:45.611363Z",
     "start_time": "2021-05-23T16:46:45.589354Z"
    },
    "hidden": true
   },
   "outputs": [
    {
     "data": {
      "text/html": [
       "<div>\n",
       "<style scoped>\n",
       "    .dataframe tbody tr th:only-of-type {\n",
       "        vertical-align: middle;\n",
       "    }\n",
       "\n",
       "    .dataframe tbody tr th {\n",
       "        vertical-align: top;\n",
       "    }\n",
       "\n",
       "    .dataframe thead th {\n",
       "        text-align: right;\n",
       "    }\n",
       "</style>\n",
       "<table border=\"1\" class=\"dataframe\">\n",
       "  <thead>\n",
       "    <tr style=\"text-align: right;\">\n",
       "      <th></th>\n",
       "      <th>R</th>\n",
       "      <th>V</th>\n",
       "      <th>I</th>\n",
       "      <th>I(A)</th>\n",
       "      <th>P</th>\n",
       "    </tr>\n",
       "  </thead>\n",
       "  <tbody>\n",
       "    <tr>\n",
       "      <th>0</th>\n",
       "      <td>1</td>\n",
       "      <td>0.0790</td>\n",
       "      <td>62.300</td>\n",
       "      <td>0.062300</td>\n",
       "      <td>0.004922</td>\n",
       "    </tr>\n",
       "    <tr>\n",
       "      <th>1</th>\n",
       "      <td>3</td>\n",
       "      <td>0.1942</td>\n",
       "      <td>59.900</td>\n",
       "      <td>0.059900</td>\n",
       "      <td>0.011633</td>\n",
       "    </tr>\n",
       "    <tr>\n",
       "      <th>2</th>\n",
       "      <td>3</td>\n",
       "      <td>0.2900</td>\n",
       "      <td>88.000</td>\n",
       "      <td>0.088000</td>\n",
       "      <td>0.025520</td>\n",
       "    </tr>\n",
       "    <tr>\n",
       "      <th>3</th>\n",
       "      <td>4</td>\n",
       "      <td>0.5050</td>\n",
       "      <td>95.500</td>\n",
       "      <td>0.095500</td>\n",
       "      <td>0.048227</td>\n",
       "    </tr>\n",
       "    <tr>\n",
       "      <th>4</th>\n",
       "      <td>5</td>\n",
       "      <td>0.5450</td>\n",
       "      <td>86.400</td>\n",
       "      <td>0.086400</td>\n",
       "      <td>0.047088</td>\n",
       "    </tr>\n",
       "    <tr>\n",
       "      <th>5</th>\n",
       "      <td>7</td>\n",
       "      <td>0.4830</td>\n",
       "      <td>58.600</td>\n",
       "      <td>0.058600</td>\n",
       "      <td>0.028304</td>\n",
       "    </tr>\n",
       "    <tr>\n",
       "      <th>6</th>\n",
       "      <td>7</td>\n",
       "      <td>0.4343</td>\n",
       "      <td>52.700</td>\n",
       "      <td>0.052700</td>\n",
       "      <td>0.022888</td>\n",
       "    </tr>\n",
       "    <tr>\n",
       "      <th>7</th>\n",
       "      <td>10</td>\n",
       "      <td>0.4960</td>\n",
       "      <td>49.500</td>\n",
       "      <td>0.049500</td>\n",
       "      <td>0.024552</td>\n",
       "    </tr>\n",
       "    <tr>\n",
       "      <th>8</th>\n",
       "      <td>30</td>\n",
       "      <td>0.6260</td>\n",
       "      <td>21.600</td>\n",
       "      <td>0.021600</td>\n",
       "      <td>0.013522</td>\n",
       "    </tr>\n",
       "    <tr>\n",
       "      <th>9</th>\n",
       "      <td>100</td>\n",
       "      <td>0.7100</td>\n",
       "      <td>7.900</td>\n",
       "      <td>0.007900</td>\n",
       "      <td>0.005609</td>\n",
       "    </tr>\n",
       "    <tr>\n",
       "      <th>10</th>\n",
       "      <td>300</td>\n",
       "      <td>0.7740</td>\n",
       "      <td>3.500</td>\n",
       "      <td>0.003500</td>\n",
       "      <td>0.002709</td>\n",
       "    </tr>\n",
       "    <tr>\n",
       "      <th>11</th>\n",
       "      <td>1000</td>\n",
       "      <td>0.8300</td>\n",
       "      <td>1.730</td>\n",
       "      <td>0.001730</td>\n",
       "      <td>0.001436</td>\n",
       "    </tr>\n",
       "    <tr>\n",
       "      <th>12</th>\n",
       "      <td>3000</td>\n",
       "      <td>0.8550</td>\n",
       "      <td>0.294</td>\n",
       "      <td>0.000294</td>\n",
       "      <td>0.000251</td>\n",
       "    </tr>\n",
       "    <tr>\n",
       "      <th>13</th>\n",
       "      <td>10000</td>\n",
       "      <td>0.8720</td>\n",
       "      <td>0.096</td>\n",
       "      <td>0.000096</td>\n",
       "      <td>0.000084</td>\n",
       "    </tr>\n",
       "  </tbody>\n",
       "</table>\n",
       "</div>"
      ],
      "text/plain": [
       "        R       V       I      I(A)         P\n",
       "0       1  0.0790  62.300  0.062300  0.004922\n",
       "1       3  0.1942  59.900  0.059900  0.011633\n",
       "2       3  0.2900  88.000  0.088000  0.025520\n",
       "3       4  0.5050  95.500  0.095500  0.048227\n",
       "4       5  0.5450  86.400  0.086400  0.047088\n",
       "5       7  0.4830  58.600  0.058600  0.028304\n",
       "6       7  0.4343  52.700  0.052700  0.022888\n",
       "7      10  0.4960  49.500  0.049500  0.024552\n",
       "8      30  0.6260  21.600  0.021600  0.013522\n",
       "9     100  0.7100   7.900  0.007900  0.005609\n",
       "10    300  0.7740   3.500  0.003500  0.002709\n",
       "11   1000  0.8300   1.730  0.001730  0.001436\n",
       "12   3000  0.8550   0.294  0.000294  0.000251\n",
       "13  10000  0.8720   0.096  0.000096  0.000084"
      ]
     },
     "execution_count": 584,
     "metadata": {},
     "output_type": "execute_result"
    }
   ],
   "source": [
    "res"
   ]
  },
  {
   "cell_type": "code",
   "execution_count": 585,
   "id": "tamil-forward",
   "metadata": {
    "ExecuteTime": {
     "end_time": "2021-05-23T16:46:45.790650Z",
     "start_time": "2021-05-23T16:46:45.780658Z"
    },
    "hidden": true
   },
   "outputs": [],
   "source": [
    "import seaborn as sns\n",
    "from scipy.optimize import curve_fit"
   ]
  },
  {
   "cell_type": "code",
   "execution_count": 586,
   "id": "urban-colorado",
   "metadata": {
    "ExecuteTime": {
     "end_time": "2021-05-23T16:46:45.972336Z",
     "start_time": "2021-05-23T16:46:45.959186Z"
    },
    "hidden": true
   },
   "outputs": [],
   "source": [
    "rohms = r'Resistance ($\\mathregular{\\Omega}$)'"
   ]
  },
  {
   "cell_type": "code",
   "execution_count": 588,
   "id": "satellite-cradle",
   "metadata": {
    "ExecuteTime": {
     "end_time": "2021-05-23T16:47:11.884880Z",
     "start_time": "2021-05-23T16:47:10.983899Z"
    },
    "hidden": true
   },
   "outputs": [
    {
     "data": {
      "image/png": "[encoded data removed]",
      "text/plain": [
       "<Figure size 576x504 with 1 Axes>"
      ]
     },
     "metadata": {},
     "output_type": "display_data"
    },
    {
     "data": {
      "image/png": "[encoded data removed]",
      "text/plain": [
       "<Figure size 504x252 with 1 Axes>"
      ]
     },
     "metadata": {},
     "output_type": "display_data"
    },
    {
     "data": {
      "image/png": "[encoded data removed]",
      "text/plain": [
       "<Figure size 504x252 with 1 Axes>"
      ]
     },
     "metadata": {},
     "output_type": "display_data"
    }
   ],
   "source": [
    "n = sum(res.P[:5])\n",
    "mean = sum(res.R[:5]*res.P[:5])/n\n",
    "sigma = np.sqrt(sum(res.P[:5]*(res.R[:5]-mean)**2)/n)\n",
    "\n",
    "\n",
    "def gaus(x, a, x0, sigma, offset):\n",
    "    return a*np.exp(-(x-x0)**2/(2*sigma**2)) + offset\n",
    "\n",
    "\n",
    "popt, pcov = curve_fit(gaus, res.R[:5], res.P[:5], p0=[1, mean, sigma, 0.0])\n",
    "\n",
    "plt.scatter(res.R, res.P)\n",
    "plt.plot(10**np.linspace(0, 2, 100),\n",
    "         gaus(10**np.linspace(0, 2, 100), *popt), 'b*:', label='fit')\n",
    "plt.xscale('log')\n",
    "plt.xlabel('R (Ohms)')\n",
    "plt.ylabel('P (J/s)')\n",
    "plt.show()\n",
    "my_graph(res.V, res.I, 'linear', 'linear', 'Voltage (V)',\n",
    "         'Current (A)', 'l1_d_1_trial_a', '')\n",
    "my_graph(res.R, res.P, 'log', 'linear',  rohms,\n",
    "         'Power (J/s)', 'l1_d_2_trial_a', '')"
   ]
  },
  {
   "cell_type": "markdown",
   "id": "animated-intersection",
   "metadata": {},
   "source": [
    "#### Trial 2"
   ]
  },
  {
   "cell_type": "markdown",
   "id": "mobile-alpha",
   "metadata": {
    "heading_collapsed": true
   },
   "source": [
    "##### Phase 1"
   ]
  },
  {
   "cell_type": "code",
   "execution_count": 589,
   "id": "banned-delivery",
   "metadata": {
    "ExecuteTime": {
     "end_time": "2021-05-23T16:47:12.860732Z",
     "start_time": "2021-05-23T16:47:12.839018Z"
    },
    "hidden": true
   },
   "outputs": [
    {
     "data": {
      "text/html": [
       "<div>\n",
       "<style scoped>\n",
       "    .dataframe tbody tr th:only-of-type {\n",
       "        vertical-align: middle;\n",
       "    }\n",
       "\n",
       "    .dataframe tbody tr th {\n",
       "        vertical-align: top;\n",
       "    }\n",
       "\n",
       "    .dataframe thead th {\n",
       "        text-align: right;\n",
       "    }\n",
       "</style>\n",
       "<table border=\"1\" class=\"dataframe\">\n",
       "  <thead>\n",
       "    <tr style=\"text-align: right;\">\n",
       "      <th></th>\n",
       "      <th>R</th>\n",
       "      <th>V</th>\n",
       "      <th>I</th>\n",
       "      <th>P</th>\n",
       "    </tr>\n",
       "  </thead>\n",
       "  <tbody>\n",
       "    <tr>\n",
       "      <th>0</th>\n",
       "      <td>1.0</td>\n",
       "      <td>0.05600</td>\n",
       "      <td>0.049000</td>\n",
       "      <td>2.744000e-03</td>\n",
       "    </tr>\n",
       "    <tr>\n",
       "      <th>1</th>\n",
       "      <td>3.0</td>\n",
       "      <td>0.12560</td>\n",
       "      <td>0.040500</td>\n",
       "      <td>5.086800e-03</td>\n",
       "    </tr>\n",
       "    <tr>\n",
       "      <th>2</th>\n",
       "      <td>4.0</td>\n",
       "      <td>0.16500</td>\n",
       "      <td>0.040000</td>\n",
       "      <td>6.600000e-03</td>\n",
       "    </tr>\n",
       "    <tr>\n",
       "      <th>3</th>\n",
       "      <td>5.0</td>\n",
       "      <td>0.12036</td>\n",
       "      <td>0.040000</td>\n",
       "      <td>4.814400e-03</td>\n",
       "    </tr>\n",
       "    <tr>\n",
       "      <th>4</th>\n",
       "      <td>6.0</td>\n",
       "      <td>0.24320</td>\n",
       "      <td>0.039400</td>\n",
       "      <td>9.582080e-03</td>\n",
       "    </tr>\n",
       "    <tr>\n",
       "      <th>5</th>\n",
       "      <td>7.0</td>\n",
       "      <td>0.28150</td>\n",
       "      <td>0.039800</td>\n",
       "      <td>1.120370e-02</td>\n",
       "    </tr>\n",
       "    <tr>\n",
       "      <th>6</th>\n",
       "      <td>8.0</td>\n",
       "      <td>0.35440</td>\n",
       "      <td>0.038500</td>\n",
       "      <td>1.364440e-02</td>\n",
       "    </tr>\n",
       "    <tr>\n",
       "      <th>7</th>\n",
       "      <td>9.0</td>\n",
       "      <td>0.38810</td>\n",
       "      <td>0.038260</td>\n",
       "      <td>1.484871e-02</td>\n",
       "    </tr>\n",
       "    <tr>\n",
       "      <th>8</th>\n",
       "      <td>10.0</td>\n",
       "      <td>0.41620</td>\n",
       "      <td>0.037610</td>\n",
       "      <td>1.565328e-02</td>\n",
       "    </tr>\n",
       "    <tr>\n",
       "      <th>9</th>\n",
       "      <td>15.0</td>\n",
       "      <td>0.54790</td>\n",
       "      <td>0.034600</td>\n",
       "      <td>1.895734e-02</td>\n",
       "    </tr>\n",
       "    <tr>\n",
       "      <th>10</th>\n",
       "      <td>20.0</td>\n",
       "      <td>0.62810</td>\n",
       "      <td>0.029960</td>\n",
       "      <td>1.881788e-02</td>\n",
       "    </tr>\n",
       "    <tr>\n",
       "      <th>11</th>\n",
       "      <td>30.0</td>\n",
       "      <td>0.71950</td>\n",
       "      <td>0.022930</td>\n",
       "      <td>1.649814e-02</td>\n",
       "    </tr>\n",
       "    <tr>\n",
       "      <th>12</th>\n",
       "      <td>60.0</td>\n",
       "      <td>0.78440</td>\n",
       "      <td>0.012300</td>\n",
       "      <td>9.648120e-03</td>\n",
       "    </tr>\n",
       "    <tr>\n",
       "      <th>13</th>\n",
       "      <td>100.0</td>\n",
       "      <td>0.83320</td>\n",
       "      <td>0.008310</td>\n",
       "      <td>6.923892e-03</td>\n",
       "    </tr>\n",
       "    <tr>\n",
       "      <th>14</th>\n",
       "      <td>500.0</td>\n",
       "      <td>0.88130</td>\n",
       "      <td>0.001850</td>\n",
       "      <td>1.630405e-03</td>\n",
       "    </tr>\n",
       "    <tr>\n",
       "      <th>15</th>\n",
       "      <td>1000.0</td>\n",
       "      <td>0.90070</td>\n",
       "      <td>0.000890</td>\n",
       "      <td>8.016230e-04</td>\n",
       "    </tr>\n",
       "    <tr>\n",
       "      <th>16</th>\n",
       "      <td>5000.0</td>\n",
       "      <td>0.91560</td>\n",
       "      <td>0.000180</td>\n",
       "      <td>1.649911e-04</td>\n",
       "    </tr>\n",
       "    <tr>\n",
       "      <th>17</th>\n",
       "      <td>10000.0</td>\n",
       "      <td>0.92200</td>\n",
       "      <td>0.000084</td>\n",
       "      <td>7.748488e-05</td>\n",
       "    </tr>\n",
       "    <tr>\n",
       "      <th>18</th>\n",
       "      <td>50000.0</td>\n",
       "      <td>0.92670</td>\n",
       "      <td>0.000018</td>\n",
       "      <td>1.687521e-05</td>\n",
       "    </tr>\n",
       "    <tr>\n",
       "      <th>19</th>\n",
       "      <td>100000.0</td>\n",
       "      <td>0.92720</td>\n",
       "      <td>0.000009</td>\n",
       "      <td>8.576600e-06</td>\n",
       "    </tr>\n",
       "    <tr>\n",
       "      <th>20</th>\n",
       "      <td>500000.0</td>\n",
       "      <td>0.92790</td>\n",
       "      <td>0.000002</td>\n",
       "      <td>1.800126e-06</td>\n",
       "    </tr>\n",
       "    <tr>\n",
       "      <th>21</th>\n",
       "      <td>1000000.0</td>\n",
       "      <td>0.92800</td>\n",
       "      <td>0.000001</td>\n",
       "      <td>9.372800e-07</td>\n",
       "    </tr>\n",
       "  </tbody>\n",
       "</table>\n",
       "</div>"
      ],
      "text/plain": [
       "            R        V         I             P\n",
       "0         1.0  0.05600  0.049000  2.744000e-03\n",
       "1         3.0  0.12560  0.040500  5.086800e-03\n",
       "2         4.0  0.16500  0.040000  6.600000e-03\n",
       "3         5.0  0.12036  0.040000  4.814400e-03\n",
       "4         6.0  0.24320  0.039400  9.582080e-03\n",
       "5         7.0  0.28150  0.039800  1.120370e-02\n",
       "6         8.0  0.35440  0.038500  1.364440e-02\n",
       "7         9.0  0.38810  0.038260  1.484871e-02\n",
       "8        10.0  0.41620  0.037610  1.565328e-02\n",
       "9        15.0  0.54790  0.034600  1.895734e-02\n",
       "10       20.0  0.62810  0.029960  1.881788e-02\n",
       "11       30.0  0.71950  0.022930  1.649814e-02\n",
       "12       60.0  0.78440  0.012300  9.648120e-03\n",
       "13      100.0  0.83320  0.008310  6.923892e-03\n",
       "14      500.0  0.88130  0.001850  1.630405e-03\n",
       "15     1000.0  0.90070  0.000890  8.016230e-04\n",
       "16     5000.0  0.91560  0.000180  1.649911e-04\n",
       "17    10000.0  0.92200  0.000084  7.748488e-05\n",
       "18    50000.0  0.92670  0.000018  1.687521e-05\n",
       "19   100000.0  0.92720  0.000009  8.576600e-06\n",
       "20   500000.0  0.92790  0.000002  1.800126e-06\n",
       "21  1000000.0  0.92800  0.000001  9.372800e-07"
      ]
     },
     "execution_count": 589,
     "metadata": {},
     "output_type": "execute_result"
    }
   ],
   "source": [
    "res = pd.DataFrame({\n",
    "    'R': [\n",
    "        1, 3, 4, 5, 6, 7, 8, 9, 10, 15, 20, 30,\n",
    "        60, 100, 500, 1000, 5000, 10000, 50000,\n",
    "        100000, 500000, 1e6,\n",
    "    ],\n",
    "    'V': [\n",
    "        0.0560, 0.1256, 0.165, 0.12036, 0.2432,\n",
    "        0.2815, 0.3544, 0.3881, 0.4162, 0.5479,\n",
    "        0.6281, 0.7195, 0.7844, 0.8332, 0.8813,\n",
    "        0.9007, 0.9156, 0.9220, 0.9267, 0.9272,\n",
    "        0.9279, 0.9280,\n",
    "    ],\n",
    "    'I': [\n",
    "        0.049, 0.0405, 0.040, 0.040, 0.0394,\n",
    "        0.0398, 0.0385, 0.03826, 0.03761, 0.0346,\n",
    "        0.02996, 0.02293, 0.0123, 0.00831, 1.85e-3,\n",
    "        8.9e-4, .1802e-3, 84.04e-6, 18.21e-6, 9.25e-6,\n",
    "        1.94e-06, 1.01e-6\n",
    "    ]\n",
    "})\n",
    "res.insert(3, 'P', res.V*res.I)\n",
    "res"
   ]
  },
  {
   "cell_type": "code",
   "execution_count": 590,
   "id": "stable-hearing",
   "metadata": {
    "ExecuteTime": {
     "end_time": "2021-05-23T16:47:13.865733Z",
     "start_time": "2021-05-23T16:47:13.145884Z"
    },
    "hidden": true
   },
   "outputs": [
    {
     "data": {
      "image/png": "[encoded data removed]",
      "text/plain": [
       "<Figure size 576x504 with 1 Axes>"
      ]
     },
     "metadata": {},
     "output_type": "display_data"
    },
    {
     "data": {
      "image/png": "[encoded data removed]",
      "text/plain": [
       "<Figure size 504x252 with 1 Axes>"
      ]
     },
     "metadata": {},
     "output_type": "display_data"
    },
    {
     "data": {
      "image/png": "[encoded data removed]",
      "text/plain": [
       "<Figure size 504x252 with 1 Axes>"
      ]
     },
     "metadata": {},
     "output_type": "display_data"
    }
   ],
   "source": [
    "fit = np.polyfit(np.log10(res.R[3:11]), res.P[3:11], 2)\n",
    "x = np.linspace(.7, 1.7, 110)\n",
    "plt.plot(10**x, fit[0]*x**2 + fit[1]*x + fit[2])\n",
    "plt.scatter(res.R, res.P)\n",
    "plt.xscale('log')\n",
    "plt.xlabel('R (Ohms)')\n",
    "plt.ylabel('P (J/s)')\n",
    "plt.show()\n",
    "my_graph(res.V, res.I, 'linear', 'linear', 'Voltage (V)',\n",
    "         'Current (A)', 'l1_d_1_trial_b', 'linear')\n",
    "my_graph(res.R, res.P, 'log', 'linear',  rohms,\n",
    "         'Power (J/s)', 'l1_d_2_trial_b', 'linear')"
   ]
  },
  {
   "cell_type": "code",
   "execution_count": 591,
   "id": "focal-denmark",
   "metadata": {
    "ExecuteTime": {
     "end_time": "2021-05-23T16:47:16.808348Z",
     "start_time": "2021-05-23T16:47:16.782358Z"
    },
    "hidden": true
   },
   "outputs": [
    {
     "data": {
      "text/plain": [
       "9    4.418417\n",
       "Name: P, dtype: float64"
      ]
     },
     "execution_count": 591,
     "metadata": {},
     "output_type": "execute_result"
    }
   ],
   "source": [
    "\"\"\"\n",
    "This value below corresponds to the difference in measured power at 15 ohms\n",
    "when zipping up through the resistance quickly and sitting at that resistance\n",
    "for some time. The power was 1/4.4 the size when resting.\n",
    "\"\"\"\n",
    "res.loc[res.P == res.P.max(), 'P']/(.2629*16.32e-3)"
   ]
  },
  {
   "cell_type": "markdown",
   "id": "previous-violin",
   "metadata": {},
   "source": [
    "##### Phase 2"
   ]
  },
  {
   "cell_type": "code",
   "execution_count": 651,
   "id": "grave-serum",
   "metadata": {
    "ExecuteTime": {
     "end_time": "2021-05-24T07:03:57.627505Z",
     "start_time": "2021-05-24T07:03:57.613502Z"
    },
    "code_folding": [
     0
    ]
   },
   "outputs": [],
   "source": [
    "res = pd.DataFrame({\n",
    "    'R': [\n",
    "        15, 10, 7, 9\n",
    "    ],\n",
    "    'Volume': [\n",
    "        3, 3, 5, 5\n",
    "    ],\n",
    "    'T': [\n",
    "        467.26, 8*60+19.78, 10*60 + 49.57, 60*9 + 57.19\n",
    "    ],\n",
    "    'I': [\n",
    "        16.24e-3, 50.86e-3, 56.22e-3, 53.57e-3\n",
    "    ],\n",
    "    'V': [\n",
    "        .2616, .586, 0.4658, 0.5462\n",
    "    ]\n",
    "})\n",
    "res['P'] = res['I'] * res['V']"
   ]
  },
  {
   "cell_type": "code",
   "execution_count": 652,
   "id": "martial-chuck",
   "metadata": {
    "ExecuteTime": {
     "end_time": "2021-05-24T07:03:57.816535Z",
     "start_time": "2021-05-24T07:03:57.791005Z"
    }
   },
   "outputs": [
    {
     "data": {
      "text/html": [
       "<div>\n",
       "<style scoped>\n",
       "    .dataframe tbody tr th:only-of-type {\n",
       "        vertical-align: middle;\n",
       "    }\n",
       "\n",
       "    .dataframe tbody tr th {\n",
       "        vertical-align: top;\n",
       "    }\n",
       "\n",
       "    .dataframe thead th {\n",
       "        text-align: right;\n",
       "    }\n",
       "</style>\n",
       "<table border=\"1\" class=\"dataframe\">\n",
       "  <thead>\n",
       "    <tr style=\"text-align: right;\">\n",
       "      <th></th>\n",
       "      <th>R</th>\n",
       "      <th>Volume</th>\n",
       "      <th>T</th>\n",
       "      <th>I</th>\n",
       "      <th>V</th>\n",
       "      <th>P</th>\n",
       "    </tr>\n",
       "  </thead>\n",
       "  <tbody>\n",
       "    <tr>\n",
       "      <th>0</th>\n",
       "      <td>15</td>\n",
       "      <td>3</td>\n",
       "      <td>467.26</td>\n",
       "      <td>0.01624</td>\n",
       "      <td>0.2616</td>\n",
       "      <td>0.004248</td>\n",
       "    </tr>\n",
       "    <tr>\n",
       "      <th>1</th>\n",
       "      <td>10</td>\n",
       "      <td>3</td>\n",
       "      <td>499.78</td>\n",
       "      <td>0.05086</td>\n",
       "      <td>0.5860</td>\n",
       "      <td>0.029804</td>\n",
       "    </tr>\n",
       "    <tr>\n",
       "      <th>2</th>\n",
       "      <td>7</td>\n",
       "      <td>5</td>\n",
       "      <td>649.57</td>\n",
       "      <td>0.05622</td>\n",
       "      <td>0.4658</td>\n",
       "      <td>0.026187</td>\n",
       "    </tr>\n",
       "    <tr>\n",
       "      <th>3</th>\n",
       "      <td>9</td>\n",
       "      <td>5</td>\n",
       "      <td>597.19</td>\n",
       "      <td>0.05357</td>\n",
       "      <td>0.5462</td>\n",
       "      <td>0.029260</td>\n",
       "    </tr>\n",
       "  </tbody>\n",
       "</table>\n",
       "</div>"
      ],
      "text/plain": [
       "    R  Volume       T        I       V         P\n",
       "0  15       3  467.26  0.01624  0.2616  0.004248\n",
       "1  10       3  499.78  0.05086  0.5860  0.029804\n",
       "2   7       5  649.57  0.05622  0.4658  0.026187\n",
       "3   9       5  597.19  0.05357  0.5462  0.029260"
      ]
     },
     "execution_count": 652,
     "metadata": {},
     "output_type": "execute_result"
    }
   ],
   "source": [
    "res"
   ]
  },
  {
   "cell_type": "code",
   "execution_count": 653,
   "id": "atlantic-physiology",
   "metadata": {
    "ExecuteTime": {
     "end_time": "2021-05-24T07:03:58.078539Z",
     "start_time": "2021-05-24T07:03:57.941951Z"
    }
   },
   "outputs": [
    {
     "data": {
      "text/plain": [
       "(0.027, 0.03)"
      ]
     },
     "execution_count": 653,
     "metadata": {},
     "output_type": "execute_result"
    },
    {
     "data": {
      "image/png": "[encoded data removed]",
      "text/plain": [
       "<Figure size 576x504 with 1 Axes>"
      ]
     },
     "metadata": {},
     "output_type": "display_data"
    }
   ],
   "source": [
    "plt.scatter(res['R'], res['P'])\n",
    "fit = np.polyfit(res['R'], res['P'], 3)\n",
    "x = np.linspace(5, 15, 100)\n",
    "plt.plot(x, x**3*fit[0] + x**2*fit[1] + x*fit[2] + fit[3])\n",
    "# plt.xscale('log')\n",
    "plt.ylim([.027, .03])"
   ]
  },
  {
   "cell_type": "markdown",
   "id": "happy-footage",
   "metadata": {},
   "source": [
    "$ \\eta_{FC} = \\frac{E_{FC}}{E_{Hydrogen}}  = \\frac{P_{FC} \\cdot t_{FC}}{V_H \\cdot LHV} $"
   ]
  },
  {
   "cell_type": "markdown",
   "id": "surgical-multiple",
   "metadata": {},
   "source": [
    "$ cm^3 $ to kilograms\n",
    "\n",
    "$ V_H cm^3 \\cdot \\sigma \\frac{g}{L} $\n",
    "\n",
    "$ V_H cm^3 \\cdot \\frac{1 L}{1000 cm^3} \\cdot \\sigma \n",
    "\\frac{g}{L} \\cdot \\frac{1 kg}{1000\\ g} = m\\ (kg) $"
   ]
  },
  {
   "cell_type": "code",
   "execution_count": 654,
   "id": "sealed-spell",
   "metadata": {
    "ExecuteTime": {
     "end_time": "2021-05-24T07:03:59.944678Z",
     "start_time": "2021-05-24T07:03:59.934618Z"
    }
   },
   "outputs": [],
   "source": [
    "h_density = 0.08988  # g/L"
   ]
  },
  {
   "cell_type": "code",
   "execution_count": 655,
   "id": "studied-privacy",
   "metadata": {
    "ExecuteTime": {
     "end_time": "2021-05-24T07:04:00.149221Z",
     "start_time": "2021-05-24T07:04:00.136445Z"
    }
   },
   "outputs": [],
   "source": [
    "res['uVolume'] = res['Volume'].apply(lambda x: ufloat(x, .3))"
   ]
  },
  {
   "cell_type": "code",
   "execution_count": 656,
   "id": "second-sacrifice",
   "metadata": {
    "ExecuteTime": {
     "end_time": "2021-05-24T07:04:00.397186Z",
     "start_time": "2021-05-24T07:04:00.381387Z"
    }
   },
   "outputs": [],
   "source": [
    "res['uT'] = res['T'].apply(lambda x: ufloat(x, 5))"
   ]
  },
  {
   "cell_type": "code",
   "execution_count": 657,
   "id": "indirect-elizabeth",
   "metadata": {
    "ExecuteTime": {
     "end_time": "2021-05-24T07:04:00.677608Z",
     "start_time": "2021-05-24T07:04:00.654866Z"
    }
   },
   "outputs": [
    {
     "data": {
      "text/html": [
       "<div>\n",
       "<style scoped>\n",
       "    .dataframe tbody tr th:only-of-type {\n",
       "        vertical-align: middle;\n",
       "    }\n",
       "\n",
       "    .dataframe tbody tr th {\n",
       "        vertical-align: top;\n",
       "    }\n",
       "\n",
       "    .dataframe thead th {\n",
       "        text-align: right;\n",
       "    }\n",
       "</style>\n",
       "<table border=\"1\" class=\"dataframe\">\n",
       "  <thead>\n",
       "    <tr style=\"text-align: right;\">\n",
       "      <th></th>\n",
       "      <th>R</th>\n",
       "      <th>Volume</th>\n",
       "      <th>T</th>\n",
       "      <th>I</th>\n",
       "      <th>V</th>\n",
       "      <th>P</th>\n",
       "      <th>uVolume</th>\n",
       "      <th>uT</th>\n",
       "      <th>mass</th>\n",
       "      <th>umass</th>\n",
       "    </tr>\n",
       "  </thead>\n",
       "  <tbody>\n",
       "    <tr>\n",
       "      <th>0</th>\n",
       "      <td>15</td>\n",
       "      <td>3</td>\n",
       "      <td>467.26</td>\n",
       "      <td>0.01624</td>\n",
       "      <td>0.2616</td>\n",
       "      <td>0.004248</td>\n",
       "      <td>3.00+/-0.30</td>\n",
       "      <td>467+/-5</td>\n",
       "      <td>2.696400e-07</td>\n",
       "      <td>(2.70+/-0.27)e-07</td>\n",
       "    </tr>\n",
       "    <tr>\n",
       "      <th>1</th>\n",
       "      <td>10</td>\n",
       "      <td>3</td>\n",
       "      <td>499.78</td>\n",
       "      <td>0.05086</td>\n",
       "      <td>0.5860</td>\n",
       "      <td>0.029804</td>\n",
       "      <td>3.00+/-0.30</td>\n",
       "      <td>500+/-5</td>\n",
       "      <td>2.696400e-07</td>\n",
       "      <td>(2.70+/-0.27)e-07</td>\n",
       "    </tr>\n",
       "    <tr>\n",
       "      <th>2</th>\n",
       "      <td>7</td>\n",
       "      <td>5</td>\n",
       "      <td>649.57</td>\n",
       "      <td>0.05622</td>\n",
       "      <td>0.4658</td>\n",
       "      <td>0.026187</td>\n",
       "      <td>5.00+/-0.30</td>\n",
       "      <td>650+/-5</td>\n",
       "      <td>4.494000e-07</td>\n",
       "      <td>(4.49+/-0.27)e-07</td>\n",
       "    </tr>\n",
       "    <tr>\n",
       "      <th>3</th>\n",
       "      <td>9</td>\n",
       "      <td>5</td>\n",
       "      <td>597.19</td>\n",
       "      <td>0.05357</td>\n",
       "      <td>0.5462</td>\n",
       "      <td>0.029260</td>\n",
       "      <td>5.00+/-0.30</td>\n",
       "      <td>597+/-5</td>\n",
       "      <td>4.494000e-07</td>\n",
       "      <td>(4.49+/-0.27)e-07</td>\n",
       "    </tr>\n",
       "  </tbody>\n",
       "</table>\n",
       "</div>"
      ],
      "text/plain": [
       "    R  Volume       T        I       V         P      uVolume       uT  \\\n",
       "0  15       3  467.26  0.01624  0.2616  0.004248  3.00+/-0.30  467+/-5   \n",
       "1  10       3  499.78  0.05086  0.5860  0.029804  3.00+/-0.30  500+/-5   \n",
       "2   7       5  649.57  0.05622  0.4658  0.026187  5.00+/-0.30  650+/-5   \n",
       "3   9       5  597.19  0.05357  0.5462  0.029260  5.00+/-0.30  597+/-5   \n",
       "\n",
       "           mass              umass  \n",
       "0  2.696400e-07  (2.70+/-0.27)e-07  \n",
       "1  2.696400e-07  (2.70+/-0.27)e-07  \n",
       "2  4.494000e-07  (4.49+/-0.27)e-07  \n",
       "3  4.494000e-07  (4.49+/-0.27)e-07  "
      ]
     },
     "execution_count": 657,
     "metadata": {},
     "output_type": "execute_result"
    }
   ],
   "source": [
    "res['mass'] = res['Volume'] * 1e-3 * h_density * 1/1000\n",
    "res['umass'] = res['uVolume'] * 1e-3 * h_density * 1/1000\n",
    "res"
   ]
  },
  {
   "cell_type": "code",
   "execution_count": 658,
   "id": "british-lotus",
   "metadata": {
    "ExecuteTime": {
     "end_time": "2021-05-24T07:04:02.940165Z",
     "start_time": "2021-05-24T07:04:02.928886Z"
    }
   },
   "outputs": [],
   "source": [
    "res['umass'] = 2.015e-3 * 101300 * res['uVolume'] * 1e-6 / 8.314 / 293"
   ]
  },
  {
   "cell_type": "code",
   "execution_count": 659,
   "id": "official-chart",
   "metadata": {
    "ExecuteTime": {
     "end_time": "2021-05-24T07:04:03.341659Z",
     "start_time": "2021-05-24T07:04:03.328668Z"
    }
   },
   "outputs": [],
   "source": [
    "res['E_FC'] = (res['T'] * res['P'])\n",
    "res['E_H'] = res['mass'] * LHV\n",
    "res['uE_FC'] = (res['uT'] * res['P'])\n",
    "res['uE_H'] = res['umass'] * LHV"
   ]
  },
  {
   "cell_type": "code",
   "execution_count": 660,
   "id": "spare-depth",
   "metadata": {
    "ExecuteTime": {
     "end_time": "2021-05-24T07:04:03.724747Z",
     "start_time": "2021-05-24T07:04:03.713258Z"
    }
   },
   "outputs": [
    {
     "data": {
      "text/plain": [
       "'Resistance ($\\\\mathregular{\\\\Omega}$)'"
      ]
     },
     "execution_count": 660,
     "metadata": {},
     "output_type": "execute_result"
    }
   ],
   "source": [
    "rohms"
   ]
  },
  {
   "cell_type": "code",
   "execution_count": 663,
   "id": "first-daniel",
   "metadata": {
    "ExecuteTime": {
     "end_time": "2021-05-24T07:04:39.973801Z",
     "start_time": "2021-05-24T07:04:39.963107Z"
    }
   },
   "outputs": [],
   "source": [
    "res.insert(res.shape[1], 'efficiency', res['E_FC']/res['E_H'])"
   ]
  },
  {
   "cell_type": "code",
   "execution_count": 599,
   "id": "composed-reggae",
   "metadata": {
    "ExecuteTime": {
     "end_time": "2021-05-23T16:47:21.569031Z",
     "start_time": "2021-05-23T16:47:21.412206Z"
    }
   },
   "outputs": [
    {
     "data": {
      "image/png": "[encoded data removed]",
      "text/plain": [
       "<Figure size 504x252 with 1 Axes>"
      ]
     },
     "metadata": {},
     "output_type": "display_data"
    }
   ],
   "source": [
    "y = res['E_FC']/res['E_H']\n",
    "my_graph(res.P[y.sort_values().index],\n",
    "         y.sort_values(),\n",
    "         'linear',\n",
    "         'linear',\n",
    "         'Power (mW)',\n",
    "         'Efficiency ($\\\\mathregular{\\\\eta}_{FC}$)',\n",
    "         'l1_d_3',\n",
    "         ''\n",
    "        )"
   ]
  },
  {
   "cell_type": "code",
   "execution_count": 600,
   "id": "civil-treasure",
   "metadata": {
    "ExecuteTime": {
     "end_time": "2021-05-23T17:42:26.766699Z",
     "start_time": "2021-05-23T17:42:26.755767Z"
    }
   },
   "outputs": [
    {
     "data": {
      "text/plain": [
       "0.46034908052712253"
      ]
     },
     "execution_count": 600,
     "metadata": {},
     "output_type": "execute_result"
    }
   ],
   "source": [
    "y.max()"
   ]
  },
  {
   "cell_type": "code",
   "execution_count": 666,
   "id": "labeled-bunny",
   "metadata": {
    "ExecuteTime": {
     "end_time": "2021-05-24T07:25:56.586002Z",
     "start_time": "2021-05-24T07:25:56.568630Z"
    }
   },
   "outputs": [
    {
     "data": {
      "text/plain": [
       "'\\\\begin{tabular}{lrrrrrr}\\n\\\\toprule\\n{} &   R &  Volume &       T &        I &       V &         P \\\\\\\\\\n\\\\midrule\\n0 &  15 &       3 &  467.26 &  0.01624 &  0.2616 &  0.004248 \\\\\\\\\\n1 &  10 &       3 &  499.78 &  0.05086 &  0.5860 &  0.029804 \\\\\\\\\\n2 &   7 &       5 &  649.57 &  0.05622 &  0.4658 &  0.026187 \\\\\\\\\\n3 &   9 &       5 &  597.19 &  0.05357 &  0.5462 &  0.029260 \\\\\\\\\\n\\\\bottomrule\\n\\\\end{tabular}\\n'"
      ]
     },
     "execution_count": 666,
     "metadata": {},
     "output_type": "execute_result"
    }
   ],
   "source": [
    "res[['R', 'Volume', 'T', 'I', 'V','P']].to_latex()"
   ]
  },
  {
   "cell_type": "code",
   "execution_count": 667,
   "id": "secret-kitchen",
   "metadata": {
    "ExecuteTime": {
     "end_time": "2021-05-24T07:35:59.327752Z",
     "start_time": "2021-05-24T07:35:59.306529Z"
    }
   },
   "outputs": [
    {
     "data": {
      "text/html": [
       "<div>\n",
       "<style scoped>\n",
       "    .dataframe tbody tr th:only-of-type {\n",
       "        vertical-align: middle;\n",
       "    }\n",
       "\n",
       "    .dataframe tbody tr th {\n",
       "        vertical-align: top;\n",
       "    }\n",
       "\n",
       "    .dataframe thead th {\n",
       "        text-align: right;\n",
       "    }\n",
       "</style>\n",
       "<table border=\"1\" class=\"dataframe\">\n",
       "  <thead>\n",
       "    <tr style=\"text-align: right;\">\n",
       "      <th></th>\n",
       "      <th>R</th>\n",
       "      <th>Volume</th>\n",
       "      <th>T</th>\n",
       "      <th>I</th>\n",
       "      <th>V</th>\n",
       "      <th>P</th>\n",
       "      <th>uVolume</th>\n",
       "      <th>uT</th>\n",
       "      <th>mass</th>\n",
       "      <th>umass</th>\n",
       "      <th>E_FC</th>\n",
       "      <th>E_H</th>\n",
       "      <th>uE_FC</th>\n",
       "      <th>uE_H</th>\n",
       "      <th>efficiency</th>\n",
       "    </tr>\n",
       "  </thead>\n",
       "  <tbody>\n",
       "    <tr>\n",
       "      <th>0</th>\n",
       "      <td>15</td>\n",
       "      <td>3</td>\n",
       "      <td>467.26</td>\n",
       "      <td>0.01624</td>\n",
       "      <td>0.2616</td>\n",
       "      <td>0.004248</td>\n",
       "      <td>3.00+/-0.30</td>\n",
       "      <td>467+/-5</td>\n",
       "      <td>2.696400e-07</td>\n",
       "      <td>(2.51+/-0.25)e-07</td>\n",
       "      <td>1.985100</td>\n",
       "      <td>32.3568</td>\n",
       "      <td>1.985+/-0.021</td>\n",
       "      <td>30.2+/-3.0</td>\n",
       "      <td>0.061350</td>\n",
       "    </tr>\n",
       "    <tr>\n",
       "      <th>1</th>\n",
       "      <td>10</td>\n",
       "      <td>3</td>\n",
       "      <td>499.78</td>\n",
       "      <td>0.05086</td>\n",
       "      <td>0.5860</td>\n",
       "      <td>0.029804</td>\n",
       "      <td>3.00+/-0.30</td>\n",
       "      <td>500+/-5</td>\n",
       "      <td>2.696400e-07</td>\n",
       "      <td>(2.51+/-0.25)e-07</td>\n",
       "      <td>14.895423</td>\n",
       "      <td>32.3568</td>\n",
       "      <td>14.90+/-0.15</td>\n",
       "      <td>30.2+/-3.0</td>\n",
       "      <td>0.460349</td>\n",
       "    </tr>\n",
       "    <tr>\n",
       "      <th>2</th>\n",
       "      <td>7</td>\n",
       "      <td>5</td>\n",
       "      <td>649.57</td>\n",
       "      <td>0.05622</td>\n",
       "      <td>0.4658</td>\n",
       "      <td>0.026187</td>\n",
       "      <td>5.00+/-0.30</td>\n",
       "      <td>650+/-5</td>\n",
       "      <td>4.494000e-07</td>\n",
       "      <td>(4.19+/-0.25)e-07</td>\n",
       "      <td>17.010469</td>\n",
       "      <td>53.9280</td>\n",
       "      <td>17.01+/-0.13</td>\n",
       "      <td>50.3+/-3.0</td>\n",
       "      <td>0.315429</td>\n",
       "    </tr>\n",
       "    <tr>\n",
       "      <th>3</th>\n",
       "      <td>9</td>\n",
       "      <td>5</td>\n",
       "      <td>597.19</td>\n",
       "      <td>0.05357</td>\n",
       "      <td>0.5462</td>\n",
       "      <td>0.029260</td>\n",
       "      <td>5.00+/-0.30</td>\n",
       "      <td>597+/-5</td>\n",
       "      <td>4.494000e-07</td>\n",
       "      <td>(4.19+/-0.25)e-07</td>\n",
       "      <td>17.473740</td>\n",
       "      <td>53.9280</td>\n",
       "      <td>17.47+/-0.15</td>\n",
       "      <td>50.3+/-3.0</td>\n",
       "      <td>0.324020</td>\n",
       "    </tr>\n",
       "  </tbody>\n",
       "</table>\n",
       "</div>"
      ],
      "text/plain": [
       "    R  Volume       T        I       V         P      uVolume       uT  \\\n",
       "0  15       3  467.26  0.01624  0.2616  0.004248  3.00+/-0.30  467+/-5   \n",
       "1  10       3  499.78  0.05086  0.5860  0.029804  3.00+/-0.30  500+/-5   \n",
       "2   7       5  649.57  0.05622  0.4658  0.026187  5.00+/-0.30  650+/-5   \n",
       "3   9       5  597.19  0.05357  0.5462  0.029260  5.00+/-0.30  597+/-5   \n",
       "\n",
       "           mass              umass       E_FC      E_H          uE_FC  \\\n",
       "0  2.696400e-07  (2.51+/-0.25)e-07   1.985100  32.3568  1.985+/-0.021   \n",
       "1  2.696400e-07  (2.51+/-0.25)e-07  14.895423  32.3568   14.90+/-0.15   \n",
       "2  4.494000e-07  (4.19+/-0.25)e-07  17.010469  53.9280   17.01+/-0.13   \n",
       "3  4.494000e-07  (4.19+/-0.25)e-07  17.473740  53.9280   17.47+/-0.15   \n",
       "\n",
       "         uE_H  efficiency  \n",
       "0  30.2+/-3.0    0.061350  \n",
       "1  30.2+/-3.0    0.460349  \n",
       "2  50.3+/-3.0    0.315429  \n",
       "3  50.3+/-3.0    0.324020  "
      ]
     },
     "execution_count": 667,
     "metadata": {},
     "output_type": "execute_result"
    }
   ],
   "source": [
    "res"
   ]
  },
  {
   "cell_type": "code",
   "execution_count": 618,
   "id": "choice-metadata",
   "metadata": {
    "ExecuteTime": {
     "end_time": "2021-05-23T17:55:46.473150Z",
     "start_time": "2021-05-23T17:55:46.457759Z"
    }
   },
   "outputs": [
    {
     "name": "stdout",
     "output_type": "stream",
     "text": [
      "0.0066182827970625024\n",
      "0.06618282797062502\n",
      "0.6618282797062502\n",
      "0.020467001314352588\n",
      "0.20467001314352587\n",
      "0.021055554490968364\n",
      "0.21055554490968365\n",
      "0.049625634045081905\n",
      "0.49625634045081907\n"
     ]
    },
    {
     "data": {
      "text/plain": [
       "0    (0.066, 0.007, 3)\n",
       "2      (0.34, 0.02, 2)\n",
       "3      (0.35, 0.02, 2)\n",
       "1      (0.49, 0.05, 2)\n",
       "dtype: object"
      ]
     },
     "execution_count": 618,
     "metadata": {},
     "output_type": "execute_result"
    }
   ],
   "source": [
    "(res['uE_FC']/res['uE_H']).sort_values().apply(print_unc)"
   ]
  }
 ],
 "metadata": {
  "kernelspec": {
   "display_name": "Python 3",
   "language": "python",
   "name": "python3"
  },
  "language_info": {
   "codemirror_mode": {
    "name": "ipython",
    "version": 3
   },
   "file_extension": ".py",
   "mimetype": "text/x-python",
   "name": "python",
   "nbconvert_exporter": "python",
   "pygments_lexer": "ipython3",
   "version": "3.8.8"
  },
  "toc": {
   "base_numbering": 1,
   "nav_menu": {},
   "number_sections": true,
   "sideBar": true,
   "skip_h1_title": false,
   "title_cell": "Table of Contents",
   "title_sidebar": "Contents",
   "toc_cell": false,
   "toc_position": {},
   "toc_section_display": true,
   "toc_window_display": false
  }
 },
 "nbformat": 4,
 "nbformat_minor": 5
}
