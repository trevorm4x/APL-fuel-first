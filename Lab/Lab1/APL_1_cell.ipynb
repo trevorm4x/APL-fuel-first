{
 "cells": [
  {
   "cell_type": "code",
   "execution_count": 1,
   "id": "subtle-aquatic",
   "metadata": {
    "ExecuteTime": {
     "end_time": "2021-05-18T21:35:13.667864Z",
     "start_time": "2021-05-18T21:35:12.791920Z"
    }
   },
   "outputs": [],
   "source": [
    "import numpy as np\n",
    "import pandas as pd\n",
    "import matplotlib.pyplot as plt"
   ]
  },
  {
   "cell_type": "code",
   "execution_count": 2,
   "id": "continuous-concrete",
   "metadata": {
    "ExecuteTime": {
     "end_time": "2021-05-18T21:35:13.999572Z",
     "start_time": "2021-05-18T21:35:13.669330Z"
    }
   },
   "outputs": [],
   "source": [
    "from jupyterthemes import jtplot\n",
    "jtplot.style(theme='monokai', context='notebook', ticks=False, grid=False)"
   ]
  },
  {
   "cell_type": "code",
   "execution_count": 353,
   "id": "initial-castle",
   "metadata": {
    "ExecuteTime": {
     "end_time": "2021-05-23T15:32:44.405324Z",
     "start_time": "2021-05-23T15:32:44.392791Z"
    }
   },
   "outputs": [],
   "source": [
    "import matplotlib as mpl"
   ]
  },
  {
   "cell_type": "code",
   "execution_count": 359,
   "id": "affiliated-potter",
   "metadata": {
    "ExecuteTime": {
     "end_time": "2021-05-23T15:34:25.037632Z",
     "start_time": "2021-05-23T15:34:25.027279Z"
    }
   },
   "outputs": [],
   "source": [
    "# Edit the font, font size, and axes width\n",
    "# mpl.rcParams['font.family'] = 'Avenir'\n",
    "plt.rcParams['font.size'] = 24\n",
    "plt.rcParams['axes.linewidth'] = 2"
   ]
  },
  {
   "cell_type": "code",
   "execution_count": 455,
   "id": "controlling-newport",
   "metadata": {
    "ExecuteTime": {
     "end_time": "2021-05-23T16:16:11.631535Z",
     "start_time": "2021-05-23T16:16:11.606078Z"
    }
   },
   "outputs": [
    {
     "name": "stdout",
     "output_type": "stream",
     "text": [
      "The autoreload extension is already loaded. To reload it, use:\n",
      "  %reload_ext autoreload\n"
     ]
    }
   ],
   "source": [
    "%load_ext autoreload\n",
    "%autoreload 2"
   ]
  },
  {
   "cell_type": "code",
   "execution_count": 462,
   "id": "polished-relevance",
   "metadata": {
    "ExecuteTime": {
     "end_time": "2021-05-23T16:17:40.862675Z",
     "start_time": "2021-05-23T16:17:40.851321Z"
    }
   },
   "outputs": [],
   "source": [
    "import sys\n",
    "sys.path.insert(0, '/home/trevormjs/Documents/Science/APL/Lab')"
   ]
  },
  {
   "cell_type": "code",
   "execution_count": 464,
   "id": "cubic-adjustment",
   "metadata": {
    "ExecuteTime": {
     "end_time": "2021-05-23T16:17:46.348044Z",
     "start_time": "2021-05-23T16:17:46.335597Z"
    }
   },
   "outputs": [],
   "source": [
    "from Helper.plotting import my_graph"
   ]
  },
  {
   "cell_type": "markdown",
   "id": "marine-spring",
   "metadata": {},
   "source": [
    "#### PV"
   ]
  },
  {
   "cell_type": "markdown",
   "id": "oriental-robertson",
   "metadata": {},
   "source": [
    "##### Basic starting measurements"
   ]
  },
  {
   "cell_type": "code",
   "execution_count": 179,
   "id": "marine-release",
   "metadata": {
    "ExecuteTime": {
     "end_time": "2021-05-20T14:01:07.358707Z",
     "start_time": "2021-05-20T14:01:07.351029Z"
    }
   },
   "outputs": [],
   "source": [
    "meter_readings = np.array([\n",
    "    [22.7, 23.9, 24.2, 23.1],\n",
    "    [22.2, 26.2, 32.9, 26.2]\n",
    "])"
   ]
  },
  {
   "cell_type": "code",
   "execution_count": 264,
   "id": "civic-highway",
   "metadata": {
    "ExecuteTime": {
     "end_time": "2021-05-20T14:38:26.493709Z",
     "start_time": "2021-05-20T14:38:26.480902Z"
    }
   },
   "outputs": [
    {
     "data": {
      "text/plain": [
       "array([[22.7+/-0.6809999999999999, 23.9+/-0.717, 24.2+/-0.726,\n",
       "        23.1+/-0.6930000000000001],\n",
       "       [22.2+/-0.6659999999999999, 26.2+/-0.7859999999999999,\n",
       "        32.9+/-0.9869999999999999, 26.2+/-0.7859999999999999]],\n",
       "      dtype=object)"
      ]
     },
     "execution_count": 264,
     "metadata": {},
     "output_type": "execute_result"
    }
   ],
   "source": [
    "umeter_readings = np.array([\n",
    "    [ufloat(i, i*.03) for i in j]\n",
    "    for j in meter_readings\n",
    "])\n",
    "umeter_readings"
   ]
  },
  {
   "cell_type": "code",
   "execution_count": null,
   "id": "pediatric-painting",
   "metadata": {},
   "outputs": [],
   "source": [
    "[print_unc(i) for i in j for]"
   ]
  },
  {
   "cell_type": "code",
   "execution_count": 265,
   "id": "steady-carter",
   "metadata": {
    "ExecuteTime": {
     "end_time": "2021-05-20T14:38:27.758451Z",
     "start_time": "2021-05-20T14:38:27.746479Z"
    }
   },
   "outputs": [
    {
     "data": {
      "text/plain": [
       "array([[1.8159999999999998+/-0.054479999999999994, 1.912+/-0.05736,\n",
       "        1.936+/-0.05808, 1.848+/-0.05544],\n",
       "       [1.776+/-0.053279999999999994, 2.096+/-0.06287999999999999,\n",
       "        2.6319999999999997+/-0.07895999999999999,\n",
       "        2.096+/-0.06287999999999999]], dtype=object)"
      ]
     },
     "execution_count": 265,
     "metadata": {},
     "output_type": "execute_result"
    }
   ],
   "source": [
    "true_power = meter_readings/12.5\n",
    "true_power  # mW\n",
    "utrue_power = umeter_readings/12.5\n",
    "utrue_power"
   ]
  },
  {
   "cell_type": "code",
   "execution_count": 184,
   "id": "monthly-disney",
   "metadata": {
    "ExecuteTime": {
     "end_time": "2021-05-20T14:01:43.163624Z",
     "start_time": "2021-05-20T14:01:43.161186Z"
    }
   },
   "outputs": [],
   "source": [
    "uncertainty = true_power.reshape(-1).std()*1e-3"
   ]
  },
  {
   "cell_type": "code",
   "execution_count": 185,
   "id": "material-hepatitis",
   "metadata": {
    "ExecuteTime": {
     "end_time": "2021-05-20T14:01:44.299085Z",
     "start_time": "2021-05-20T14:01:44.295943Z"
    }
   },
   "outputs": [
    {
     "data": {
      "text/plain": [
       "0.0020139999999999997"
      ]
     },
     "execution_count": 185,
     "metadata": {},
     "output_type": "execute_result"
    }
   ],
   "source": [
    "avg_power"
   ]
  },
  {
   "cell_type": "code",
   "execution_count": 186,
   "id": "inside-onion",
   "metadata": {
    "ExecuteTime": {
     "end_time": "2021-05-20T14:01:44.508838Z",
     "start_time": "2021-05-20T14:01:44.505660Z"
    }
   },
   "outputs": [
    {
     "data": {
      "text/plain": [
       "0.0002586658075587107"
      ]
     },
     "execution_count": 186,
     "metadata": {},
     "output_type": "execute_result"
    }
   ],
   "source": [
    "uncertainty"
   ]
  },
  {
   "cell_type": "code",
   "execution_count": 266,
   "id": "promotional-coalition",
   "metadata": {
    "ExecuteTime": {
     "end_time": "2021-05-20T14:40:24.220887Z",
     "start_time": "2021-05-20T14:40:24.203524Z"
    }
   },
   "outputs": [
    {
     "data": {
      "text/plain": [
       "0.12843386671236878"
      ]
     },
     "execution_count": 266,
     "metadata": {},
     "output_type": "execute_result"
    }
   ],
   "source": [
    "uncertainty/avg_power"
   ]
  },
  {
   "cell_type": "code",
   "execution_count": 192,
   "id": "regulated-guyana",
   "metadata": {
    "ExecuteTime": {
     "end_time": "2021-05-20T14:03:22.007059Z",
     "start_time": "2021-05-20T14:03:22.004085Z"
    }
   },
   "outputs": [
    {
     "data": {
      "text/plain": [
       "3"
      ]
     },
     "execution_count": 192,
     "metadata": {},
     "output_type": "execute_result"
    }
   ],
   "source": [
    "round(uncertainty*1e4)"
   ]
  },
  {
   "cell_type": "code",
   "execution_count": 194,
   "id": "corrected-caution",
   "metadata": {
    "ExecuteTime": {
     "end_time": "2021-05-20T14:06:12.721469Z",
     "start_time": "2021-05-20T14:06:12.718452Z"
    }
   },
   "outputs": [
    {
     "data": {
      "text/plain": [
       "['0', '0002586658075587107']"
      ]
     },
     "execution_count": 194,
     "metadata": {},
     "output_type": "execute_result"
    }
   ],
   "source": [
    "str(uncertainty).split('.')"
   ]
  },
  {
   "cell_type": "code",
   "execution_count": 199,
   "id": "objective-exercise",
   "metadata": {
    "ExecuteTime": {
     "end_time": "2021-05-20T14:11:20.378091Z",
     "start_time": "2021-05-20T14:11:20.375085Z"
    }
   },
   "outputs": [
    {
     "name": "stdout",
     "output_type": "stream",
     "text": [
      "0.0003\n"
     ]
    }
   ],
   "source": [
    "te = uncertainty\n",
    "dig = 0\n",
    "while te < 1:\n",
    "    te *= 10\n",
    "    dig += 1\n",
    "print(np.round(uncertainty, dig))"
   ]
  },
  {
   "cell_type": "code",
   "execution_count": 296,
   "id": "careful-accommodation",
   "metadata": {
    "ExecuteTime": {
     "end_time": "2021-05-20T14:59:01.707051Z",
     "start_time": "2021-05-20T14:59:01.690950Z"
    }
   },
   "outputs": [],
   "source": []
  },
  {
   "cell_type": "code",
   "execution_count": 289,
   "id": "reserved-israeli",
   "metadata": {
    "ExecuteTime": {
     "end_time": "2021-05-20T14:57:25.213047Z",
     "start_time": "2021-05-20T14:57:25.195068Z"
    }
   },
   "outputs": [],
   "source": [
    "def print_unc(val, unc=[]):\n",
    "    if isinstance(unc, list):\n",
    "        val, unc = val.n, val.s\n",
    "    dig = get_leading_figure(unc)\n",
    "\n",
    "    print(\"{:.{}f} +- {:.{}f}\".format(val, dig, unc, dig))\n",
    "    return np.round(val, dig), np.round(unc, dig), dig"
   ]
  },
  {
   "cell_type": "code",
   "execution_count": 291,
   "id": "preceding-audit",
   "metadata": {
    "ExecuteTime": {
     "end_time": "2021-05-20T14:57:31.775416Z",
     "start_time": "2021-05-20T14:57:31.761103Z"
    },
    "scrolled": true
   },
   "outputs": [
    {
     "name": "stdout",
     "output_type": "stream",
     "text": [
      "0.0002586658075587107\n",
      "0.0025866580755871072\n",
      "0.025866580755871074\n",
      "0.2586658075587107\n",
      "0.0020 +- 0.0003\n"
     ]
    },
    {
     "data": {
      "text/plain": [
       "(0.002, 0.0003, 4)"
      ]
     },
     "execution_count": 291,
     "metadata": {},
     "output_type": "execute_result"
    }
   ],
   "source": [
    "from uncertainties import ufloat\n",
    "uavg_power = ufloat(avg_power, uncertainty)\n",
    "print_unc(uavg_power)"
   ]
  },
  {
   "cell_type": "code",
   "execution_count": 176,
   "id": "considered-detector",
   "metadata": {
    "ExecuteTime": {
     "end_time": "2021-05-20T13:59:55.186455Z",
     "start_time": "2021-05-20T13:59:55.182707Z"
    },
    "scrolled": true
   },
   "outputs": [
    {
     "data": {
      "text/plain": [
       "0.0020139999999999997"
      ]
     },
     "execution_count": 176,
     "metadata": {},
     "output_type": "execute_result"
    }
   ],
   "source": [
    "avg_power = true_power.mean().mean()*1e-3\n",
    "avg_power  # W"
   ]
  },
  {
   "cell_type": "code",
   "execution_count": 177,
   "id": "computational-shadow",
   "metadata": {
    "ExecuteTime": {
     "end_time": "2021-05-20T13:59:55.619210Z",
     "start_time": "2021-05-20T13:59:55.615619Z"
    }
   },
   "outputs": [
    {
     "data": {
      "text/plain": [
       "7.08821842466197e-05"
      ]
     },
     "execution_count": 177,
     "metadata": {},
     "output_type": "execute_result"
    }
   ],
   "source": [
    "meter_area = (9.5e-3/2)**2*np.pi\n",
    "meter_area  # m^2"
   ]
  },
  {
   "cell_type": "code",
   "execution_count": null,
   "id": "addressed-minutes",
   "metadata": {},
   "outputs": [],
   "source": [
    "from uncertainties.umath import"
   ]
  },
  {
   "cell_type": "code",
   "execution_count": 247,
   "id": "identified-myanmar",
   "metadata": {
    "ExecuteTime": {
     "end_time": "2021-05-20T14:29:04.838991Z",
     "start_time": "2021-05-20T14:29:04.821517Z"
    }
   },
   "outputs": [
    {
     "data": {
      "text/plain": [
       "(0.00773225+/-6.297717840614964e-05, 0.00773225)"
      ]
     },
     "execution_count": 247,
     "metadata": {},
     "output_type": "execute_result"
    }
   ],
   "source": [
    "pvc_dimensions = [0.0985, 0.0785]  # in meters\n",
    "pvc_area = pvc_dimensions[0]*pvc_dimensions[1]\n",
    "upvc_dimensions = [ufloat(i, 5e-4) for i in pvc_dimensions]\n",
    "upvc_area = upvc_dimensions[0]*upvc_dimensions[1]\n",
    "upvc_area, pvc_area\n",
    "\n",
    "# single_cell_dimension = []  # in meters\n",
    "# n_cells = 8\n",
    "# pvc_area = single_cell_dimension[0] * single_cell_dimension[1] * n_cells"
   ]
  },
  {
   "cell_type": "code",
   "execution_count": 259,
   "id": "accessible-processing",
   "metadata": {
    "ExecuteTime": {
     "end_time": "2021-05-20T14:33:40.244037Z",
     "start_time": "2021-05-20T14:33:40.230328Z"
    }
   },
   "outputs": [
    {
     "name": "stdout",
     "output_type": "stream",
     "text": [
      "0.00773225 6.297717840614964e-05\n",
      "0.00773 +- 0.00006\n"
     ]
    },
    {
     "data": {
      "text/plain": [
       "(0.00773, 6e-05, 5)"
      ]
     },
     "execution_count": 259,
     "metadata": {},
     "output_type": "execute_result"
    }
   ],
   "source": [
    "print_unc(upvc_area)"
   ]
  },
  {
   "cell_type": "markdown",
   "id": "automatic-tuesday",
   "metadata": {},
   "source": [
    "##### Prelim calculations"
   ]
  },
  {
   "cell_type": "code",
   "execution_count": 267,
   "id": "express-female",
   "metadata": {
    "ExecuteTime": {
     "end_time": "2021-05-20T14:42:28.294267Z",
     "start_time": "2021-05-20T14:42:28.277684Z"
    }
   },
   "outputs": [],
   "source": [
    "avg_intensity = uavg_power/meter_area"
   ]
  },
  {
   "cell_type": "code",
   "execution_count": 268,
   "id": "distributed-employment",
   "metadata": {
    "ExecuteTime": {
     "end_time": "2021-05-20T14:42:29.223068Z",
     "start_time": "2021-05-20T14:42:29.212046Z"
    }
   },
   "outputs": [
    {
     "data": {
      "text/plain": [
       "28.41334562987942+/-3.6492358454803995"
      ]
     },
     "execution_count": 268,
     "metadata": {},
     "output_type": "execute_result"
    }
   ],
   "source": [
    "avg_intensity"
   ]
  },
  {
   "cell_type": "code",
   "execution_count": 269,
   "id": "living-taste",
   "metadata": {
    "ExecuteTime": {
     "end_time": "2021-05-20T14:42:42.613296Z",
     "start_time": "2021-05-20T14:42:42.603382Z"
    }
   },
   "outputs": [],
   "source": [
    "total_avg_light_power = avg_intensity * pvc_area"
   ]
  },
  {
   "cell_type": "code",
   "execution_count": 286,
   "id": "chinese-central",
   "metadata": {
    "ExecuteTime": {
     "end_time": "2021-05-20T14:47:45.181190Z",
     "start_time": "2021-05-20T14:47:45.163139Z"
    }
   },
   "outputs": [
    {
     "name": "stdout",
     "output_type": "stream",
     "text": [
      "0.21969909174663516 0.02821680386621582\n",
      "0.02821680386621582\n",
      "0.2821680386621582\n",
      "0.22 +- 0.03\n"
     ]
    },
    {
     "data": {
      "text/plain": [
       "(0.22, 0.03, 2)"
      ]
     },
     "execution_count": 286,
     "metadata": {},
     "output_type": "execute_result"
    }
   ],
   "source": [
    "total_avg_light_power  # Watts\n",
    "print_unc(total_avg_light_power)"
   ]
  },
  {
   "cell_type": "markdown",
   "id": "excess-desert",
   "metadata": {},
   "source": [
    "##### Main test measurements"
   ]
  },
  {
   "cell_type": "code",
   "execution_count": 309,
   "id": "exposed-chart",
   "metadata": {
    "ExecuteTime": {
     "end_time": "2021-05-20T15:02:54.130283Z",
     "start_time": "2021-05-20T15:02:54.116968Z"
    }
   },
   "outputs": [],
   "source": [
    "pv = pd.DataFrame({\n",
    "    'R': [\n",
    "        0.1, 3, 10, 30, 70, 100, 150, 300,\n",
    "        500, 800, 1e3, 5e3, 10e3, 5e4, 8e4, 1e5,\n",
    "        5e5, 1e6\n",
    "    ],\n",
    "    'C': [\n",
    "        23.77, 23.7, 23.67, 23.52, 21.3, 17.2,\n",
    "        12.29, 6.49, 3.98, 2.54, 2.05, 0.3886,\n",
    "        .1971, .03088, .02454, .01957, .00403,\n",
    "        .00206\n",
    "    ],\n",
    "    'V': [\n",
    "        .02918, .1014, .2645, .7361, 1.529, 1.7444,\n",
    "        1.8527, 1.9285, 1.9528, 1.9651, 1.97, 1.9816,\n",
    "        1.9829, 1.9838, 1.9843, 1.9834, 1.9832, 1.985\n",
    "    ]\n",
    "})"
   ]
  },
  {
   "cell_type": "code",
   "execution_count": 310,
   "id": "heated-arlington",
   "metadata": {
    "ExecuteTime": {
     "end_time": "2021-05-20T15:02:54.483516Z",
     "start_time": "2021-05-20T15:02:54.472158Z"
    }
   },
   "outputs": [],
   "source": [
    "def make_unc_4(val):\n",
    "    return get_leading_figure(val) + 4"
   ]
  },
  {
   "cell_type": "code",
   "execution_count": 311,
   "id": "preceding-tobago",
   "metadata": {
    "ExecuteTime": {
     "end_time": "2021-05-20T15:02:58.508101Z",
     "start_time": "2021-05-20T15:02:58.492406Z"
    },
    "scrolled": true
   },
   "outputs": [
    {
     "name": "stdout",
     "output_type": "stream",
     "text": [
      "0.3886\n",
      "0.1971\n",
      "0.03088\n",
      "0.3088\n",
      "0.02454\n",
      "0.2454\n",
      "0.01957\n",
      "0.1957\n",
      "0.00403\n",
      "0.040299999999999996\n",
      "0.40299999999999997\n",
      "0.00206\n",
      "0.0206\n",
      "0.20600000000000002\n",
      "0.02918\n",
      "0.2918\n",
      "0.1014\n",
      "0.2645\n",
      "0.7361\n"
     ]
    }
   ],
   "source": [
    "pv[['uC', 'uV']] = pv[['C', 'V']].apply(\n",
    "    lambda x: [ufloat(i, 10**-make_unc_4(i)) for i in x.values])"
   ]
  },
  {
   "cell_type": "markdown",
   "id": "adaptive-receipt",
   "metadata": {},
   "source": [
    "##### Analysis"
   ]
  },
  {
   "cell_type": "code",
   "execution_count": 451,
   "id": "organized-rugby",
   "metadata": {
    "ExecuteTime": {
     "end_time": "2021-05-23T16:11:01.529451Z",
     "start_time": "2021-05-23T16:11:01.390725Z"
    }
   },
   "outputs": [
    {
     "data": {
      "image/png": "[encoded data removed]",
      "text/plain": [
       "<Figure size 432x252 with 1 Axes>"
      ]
     },
     "metadata": {},
     "output_type": "display_data"
    }
   ],
   "source": [
    "# plt.figure(figsize = (9, 5.5))\n",
    "# plt.plot(pv.V, pv.C)\n",
    "# plt.xlabel('V')\n",
    "# plt.ylabel('I (mA)')\n",
    "# plt.title('I(V) with varying Resistance')\n",
    "# plt.savefig(\"../Images/l1_a_1.png\")\n",
    "# plt.show()\n",
    "my_graph(pv.V, pv.C, 'linear', 'linear',\n",
    "         'Voltage (V)', 'Current (mA)', \"l1_a_1\")"
   ]
  },
  {
   "cell_type": "code",
   "execution_count": 450,
   "id": "south-tribute",
   "metadata": {
    "ExecuteTime": {
     "end_time": "2021-05-23T16:09:54.513461Z",
     "start_time": "2021-05-23T16:09:54.285983Z"
    },
    "scrolled": false
   },
   "outputs": [
    {
     "data": {
      "image/png": "[encoded data removed]",
      "text/plain": [
       "<Figure size 432x252 with 1 Axes>"
      ]
     },
     "metadata": {},
     "output_type": "display_data"
    }
   ],
   "source": [
    "my_graph(pv.R, pv.C*pv.V, 'log', 'linear',\n",
    "         r'Resistance ($\\mathregular{\\Omega}$)', 'Power (mW)', 'l1_a_2')"
   ]
  },
  {
   "cell_type": "markdown",
   "id": "electoral-ethnic",
   "metadata": {},
   "source": [
    "##### Results"
   ]
  },
  {
   "cell_type": "code",
   "execution_count": 315,
   "id": "smart-definition",
   "metadata": {
    "ExecuteTime": {
     "end_time": "2021-05-20T15:03:22.859512Z",
     "start_time": "2021-05-20T15:03:22.847932Z"
    }
   },
   "outputs": [],
   "source": [
    "P = pv.V*pv.C  # power in mW\n",
    "uP = pv.uV*pv.uC  # power in mW"
   ]
  },
  {
   "cell_type": "code",
   "execution_count": 316,
   "id": "excessive-database",
   "metadata": {
    "ExecuteTime": {
     "end_time": "2021-05-20T15:03:23.531532Z",
     "start_time": "2021-05-20T15:03:23.521953Z"
    }
   },
   "outputs": [],
   "source": [
    "# quick aside to interpolate the peak just for fun"
   ]
  },
  {
   "cell_type": "code",
   "execution_count": 317,
   "id": "international-berlin",
   "metadata": {
    "ExecuteTime": {
     "end_time": "2021-05-20T15:03:23.702359Z",
     "start_time": "2021-05-20T15:03:23.692526Z"
    }
   },
   "outputs": [],
   "source": [
    "from scipy.interpolate import interp1d"
   ]
  },
  {
   "cell_type": "code",
   "execution_count": 318,
   "id": "touched-monster",
   "metadata": {
    "ExecuteTime": {
     "end_time": "2021-05-20T15:03:24.262030Z",
     "start_time": "2021-05-20T15:03:24.251691Z"
    }
   },
   "outputs": [],
   "source": [
    "lmax = np.where(P == P.max())[0][0]"
   ]
  },
  {
   "cell_type": "code",
   "execution_count": 319,
   "id": "seventh-frequency",
   "metadata": {
    "ExecuteTime": {
     "end_time": "2021-05-20T15:03:24.654202Z",
     "start_time": "2021-05-20T15:03:24.642565Z"
    }
   },
   "outputs": [],
   "source": [
    "inds = [lmax - 1, lmax, lmax + 1, lmax + 2]"
   ]
  },
  {
   "cell_type": "code",
   "execution_count": 320,
   "id": "sealed-draft",
   "metadata": {
    "ExecuteTime": {
     "end_time": "2021-05-20T15:03:27.896985Z",
     "start_time": "2021-05-20T15:03:27.258217Z"
    }
   },
   "outputs": [
    {
     "data": {
      "image/png": "[encoded data removed]",
      "text/plain": [
       "<Figure size 648x396 with 1 Axes>"
      ]
     },
     "metadata": {},
     "output_type": "display_data"
    }
   ],
   "source": [
    "plt.figure(figsize=(9, 5.5))\n",
    "plt.plot(pv.R, pv.V*pv.C, label='Measured')\n",
    "inp = np.log10(pv.R[inds])\n",
    "interp = interp1d(np.log10(pv.R), P, 'cubic')\n",
    "x = np.linspace(inp.min(), inp.max(), 1000)\n",
    "y = interp(x)\n",
    "plt.plot(10**x, y, label='Spline')\n",
    "plt.legend()\n",
    "plt.xscale('log')\n",
    "plt.xlabel('log R')\n",
    "plt.ylabel('P (mW)')\n",
    "plt.ylim([0, 40])\n",
    "plt.title('Output PVC Power with varying Resistance')\n",
    "plt.savefig(\"../Images/l1_b_1.png\")\n",
    "plt.show()\n",
    "my_graph(pv.R, pv.V*pv.C, 'log', 'linear',\n",
    "         r'Resistance ($\\mathregular{\\Omega}$)',)"
   ]
  },
  {
   "cell_type": "code",
   "execution_count": 321,
   "id": "italic-concord",
   "metadata": {
    "ExecuteTime": {
     "end_time": "2021-05-20T15:03:34.865768Z",
     "start_time": "2021-05-20T15:03:34.854149Z"
    }
   },
   "outputs": [],
   "source": [
    "max_p_e = (uP).max()*1e-3"
   ]
  },
  {
   "cell_type": "code",
   "execution_count": 325,
   "id": "recorded-committee",
   "metadata": {
    "ExecuteTime": {
     "end_time": "2021-05-20T15:03:58.033480Z",
     "start_time": "2021-05-20T15:03:58.011277Z"
    }
   },
   "outputs": [
    {
     "data": {
      "text/plain": [
       "0.1482377543806974+/-0.0190387517283863"
      ]
     },
     "execution_count": 325,
     "metadata": {},
     "output_type": "execute_result"
    }
   ],
   "source": [
    "max_p_e/total_avg_light_power"
   ]
  },
  {
   "cell_type": "code",
   "execution_count": 326,
   "id": "formal-killing",
   "metadata": {
    "ExecuteTime": {
     "end_time": "2021-05-20T15:04:26.751229Z",
     "start_time": "2021-05-20T15:04:26.740429Z"
    }
   },
   "outputs": [
    {
     "name": "stdout",
     "output_type": "stream",
     "text": [
      "15 +- 2\n"
     ]
    },
    {
     "data": {
      "text/plain": [
       "'(15.0, 2.0) % Efficiency'"
      ]
     },
     "execution_count": 326,
     "metadata": {},
     "output_type": "execute_result"
    }
   ],
   "source": [
    "# n_pv = P_E/P_L\n",
    "f\"{print_unc(max_p_e/total_avg_light_power * 100)[:2]} % Efficiency\""
   ]
  },
  {
   "cell_type": "markdown",
   "id": "united-chosen",
   "metadata": {},
   "source": [
    "#### Part C"
   ]
  },
  {
   "cell_type": "markdown",
   "id": "prepared-trigger",
   "metadata": {},
   "source": [
    "#####  starting values"
   ]
  },
  {
   "cell_type": "code",
   "execution_count": 139,
   "id": "vocal-communications",
   "metadata": {
    "ExecuteTime": {
     "end_time": "2021-05-19T15:17:24.655475Z",
     "start_time": "2021-05-19T15:17:24.653200Z"
    }
   },
   "outputs": [],
   "source": [
    "vol = 5  # cm^3\n",
    "HHV = 1.42e8\n",
    "LHV = 1.20e8  # J/kg\n",
    "M_H2 = 2.01e-3"
   ]
  },
  {
   "cell_type": "markdown",
   "id": "chemical-queens",
   "metadata": {},
   "source": [
    "##### measurements"
   ]
  },
  {
   "cell_type": "code",
   "execution_count": 45,
   "id": "transsexual-adult",
   "metadata": {
    "ExecuteTime": {
     "end_time": "2021-05-19T14:11:26.063926Z",
     "start_time": "2021-05-19T14:11:26.058430Z"
    }
   },
   "outputs": [],
   "source": [
    "res = pd.DataFrame({\n",
    "    't': [112.5],\n",
    "    'V': [1.892],\n",
    "    'I': [0.3215]\n",
    "})"
   ]
  },
  {
   "cell_type": "markdown",
   "id": "painted-commons",
   "metadata": {},
   "source": [
    "##### Results"
   ]
  },
  {
   "cell_type": "code",
   "execution_count": null,
   "id": "hungarian-preserve",
   "metadata": {},
   "outputs": [],
   "source": [
    "res.insert(3, 'P', res.V*res.I)\n",
    "res.insert(4, 'E', res.P*res.t)"
   ]
  },
  {
   "cell_type": "code",
   "execution_count": 46,
   "id": "stunning-hampton",
   "metadata": {
    "ExecuteTime": {
     "end_time": "2021-05-19T14:11:26.433968Z",
     "start_time": "2021-05-19T14:11:26.425962Z"
    },
    "scrolled": true
   },
   "outputs": [
    {
     "data": {
      "text/html": [
       "<div>\n",
       "<style scoped>\n",
       "    .dataframe tbody tr th:only-of-type {\n",
       "        vertical-align: middle;\n",
       "    }\n",
       "\n",
       "    .dataframe tbody tr th {\n",
       "        vertical-align: top;\n",
       "    }\n",
       "\n",
       "    .dataframe thead th {\n",
       "        text-align: right;\n",
       "    }\n",
       "</style>\n",
       "<table border=\"1\" class=\"dataframe\">\n",
       "  <thead>\n",
       "    <tr style=\"text-align: right;\">\n",
       "      <th></th>\n",
       "      <th>t</th>\n",
       "      <th>V</th>\n",
       "      <th>I</th>\n",
       "      <th>P</th>\n",
       "      <th>E</th>\n",
       "    </tr>\n",
       "  </thead>\n",
       "  <tbody>\n",
       "    <tr>\n",
       "      <th>0</th>\n",
       "      <td>112.5</td>\n",
       "      <td>1.892</td>\n",
       "      <td>0.3215</td>\n",
       "      <td>0.608278</td>\n",
       "      <td>68.431275</td>\n",
       "    </tr>\n",
       "  </tbody>\n",
       "</table>\n",
       "</div>"
      ],
      "text/plain": [
       "       t      V       I         P          E\n",
       "0  112.5  1.892  0.3215  0.608278  68.431275"
      ]
     },
     "execution_count": 46,
     "metadata": {},
     "output_type": "execute_result"
    }
   ],
   "source": [
    "res"
   ]
  },
  {
   "cell_type": "markdown",
   "id": "hindu-clearance",
   "metadata": {},
   "source": [
    "### Part D"
   ]
  },
  {
   "cell_type": "markdown",
   "id": "catholic-stanford",
   "metadata": {},
   "source": [
    "#### Trial 1"
   ]
  },
  {
   "cell_type": "code",
   "execution_count": 484,
   "id": "distributed-gateway",
   "metadata": {
    "ExecuteTime": {
     "end_time": "2021-05-23T16:28:23.261620Z",
     "start_time": "2021-05-23T16:28:23.246558Z"
    }
   },
   "outputs": [],
   "source": [
    "res = pd.DataFrame([\n",
    "    [1, 0.079, 62.3, 0.0623, 0.0049217],\n",
    "    [3, 0.1942, 59.9, 0.0599, 0.01163258],\n",
    "    [3, 0.29, 88, 0.088, 0.02552],\n",
    "    [4, 0.505, 95.5, 0.0955, 0.0482275],\n",
    "    [5, 0.545, 86.4, 0.0864, 0.047088],\n",
    "    [7, 0.483, 58.6, 0.0586, 0.0283038],\n",
    "    [7, 0.4343, 52.7, 0.0527, 0.02288761],\n",
    "    [10, 0.496, 49.5, 0.0495, 0.024552],\n",
    "    [30, 0.626, 21.6, 0.0216, 0.0135216],\n",
    "    [100, 0.71, 7.9, 0.0079, 0.005609],\n",
    "    [300, 0.774, 3.5, 0.0035, 0.002709],\n",
    "    [1000, 0.83, 1.73, 0.00173, 0.0014359],\n",
    "    [3000, 0.855, 0.294, 0.000294, 0.00025137],\n",
    "    [10000, 0.872, 0.096, 0.000096, 0.000083712]],\n",
    "    columns=['R', 'V', 'I', 'I(A)', 'P'],\n",
    ")"
   ]
  },
  {
   "cell_type": "code",
   "execution_count": 485,
   "id": "computational-price",
   "metadata": {
    "ExecuteTime": {
     "end_time": "2021-05-23T16:28:23.444235Z",
     "start_time": "2021-05-23T16:28:23.426831Z"
    }
   },
   "outputs": [
    {
     "data": {
      "text/html": [
       "<div>\n",
       "<style scoped>\n",
       "    .dataframe tbody tr th:only-of-type {\n",
       "        vertical-align: middle;\n",
       "    }\n",
       "\n",
       "    .dataframe tbody tr th {\n",
       "        vertical-align: top;\n",
       "    }\n",
       "\n",
       "    .dataframe thead th {\n",
       "        text-align: right;\n",
       "    }\n",
       "</style>\n",
       "<table border=\"1\" class=\"dataframe\">\n",
       "  <thead>\n",
       "    <tr style=\"text-align: right;\">\n",
       "      <th></th>\n",
       "      <th>R</th>\n",
       "      <th>V</th>\n",
       "      <th>I</th>\n",
       "      <th>I(A)</th>\n",
       "      <th>P</th>\n",
       "    </tr>\n",
       "  </thead>\n",
       "  <tbody>\n",
       "    <tr>\n",
       "      <th>0</th>\n",
       "      <td>1</td>\n",
       "      <td>0.0790</td>\n",
       "      <td>62.300</td>\n",
       "      <td>0.062300</td>\n",
       "      <td>0.004922</td>\n",
       "    </tr>\n",
       "    <tr>\n",
       "      <th>1</th>\n",
       "      <td>3</td>\n",
       "      <td>0.1942</td>\n",
       "      <td>59.900</td>\n",
       "      <td>0.059900</td>\n",
       "      <td>0.011633</td>\n",
       "    </tr>\n",
       "    <tr>\n",
       "      <th>2</th>\n",
       "      <td>3</td>\n",
       "      <td>0.2900</td>\n",
       "      <td>88.000</td>\n",
       "      <td>0.088000</td>\n",
       "      <td>0.025520</td>\n",
       "    </tr>\n",
       "    <tr>\n",
       "      <th>3</th>\n",
       "      <td>4</td>\n",
       "      <td>0.5050</td>\n",
       "      <td>95.500</td>\n",
       "      <td>0.095500</td>\n",
       "      <td>0.048227</td>\n",
       "    </tr>\n",
       "    <tr>\n",
       "      <th>4</th>\n",
       "      <td>5</td>\n",
       "      <td>0.5450</td>\n",
       "      <td>86.400</td>\n",
       "      <td>0.086400</td>\n",
       "      <td>0.047088</td>\n",
       "    </tr>\n",
       "    <tr>\n",
       "      <th>5</th>\n",
       "      <td>7</td>\n",
       "      <td>0.4830</td>\n",
       "      <td>58.600</td>\n",
       "      <td>0.058600</td>\n",
       "      <td>0.028304</td>\n",
       "    </tr>\n",
       "    <tr>\n",
       "      <th>6</th>\n",
       "      <td>7</td>\n",
       "      <td>0.4343</td>\n",
       "      <td>52.700</td>\n",
       "      <td>0.052700</td>\n",
       "      <td>0.022888</td>\n",
       "    </tr>\n",
       "    <tr>\n",
       "      <th>7</th>\n",
       "      <td>10</td>\n",
       "      <td>0.4960</td>\n",
       "      <td>49.500</td>\n",
       "      <td>0.049500</td>\n",
       "      <td>0.024552</td>\n",
       "    </tr>\n",
       "    <tr>\n",
       "      <th>8</th>\n",
       "      <td>30</td>\n",
       "      <td>0.6260</td>\n",
       "      <td>21.600</td>\n",
       "      <td>0.021600</td>\n",
       "      <td>0.013522</td>\n",
       "    </tr>\n",
       "    <tr>\n",
       "      <th>9</th>\n",
       "      <td>100</td>\n",
       "      <td>0.7100</td>\n",
       "      <td>7.900</td>\n",
       "      <td>0.007900</td>\n",
       "      <td>0.005609</td>\n",
       "    </tr>\n",
       "    <tr>\n",
       "      <th>10</th>\n",
       "      <td>300</td>\n",
       "      <td>0.7740</td>\n",
       "      <td>3.500</td>\n",
       "      <td>0.003500</td>\n",
       "      <td>0.002709</td>\n",
       "    </tr>\n",
       "    <tr>\n",
       "      <th>11</th>\n",
       "      <td>1000</td>\n",
       "      <td>0.8300</td>\n",
       "      <td>1.730</td>\n",
       "      <td>0.001730</td>\n",
       "      <td>0.001436</td>\n",
       "    </tr>\n",
       "    <tr>\n",
       "      <th>12</th>\n",
       "      <td>3000</td>\n",
       "      <td>0.8550</td>\n",
       "      <td>0.294</td>\n",
       "      <td>0.000294</td>\n",
       "      <td>0.000251</td>\n",
       "    </tr>\n",
       "    <tr>\n",
       "      <th>13</th>\n",
       "      <td>10000</td>\n",
       "      <td>0.8720</td>\n",
       "      <td>0.096</td>\n",
       "      <td>0.000096</td>\n",
       "      <td>0.000084</td>\n",
       "    </tr>\n",
       "  </tbody>\n",
       "</table>\n",
       "</div>"
      ],
      "text/plain": [
       "        R       V       I      I(A)         P\n",
       "0       1  0.0790  62.300  0.062300  0.004922\n",
       "1       3  0.1942  59.900  0.059900  0.011633\n",
       "2       3  0.2900  88.000  0.088000  0.025520\n",
       "3       4  0.5050  95.500  0.095500  0.048227\n",
       "4       5  0.5450  86.400  0.086400  0.047088\n",
       "5       7  0.4830  58.600  0.058600  0.028304\n",
       "6       7  0.4343  52.700  0.052700  0.022888\n",
       "7      10  0.4960  49.500  0.049500  0.024552\n",
       "8      30  0.6260  21.600  0.021600  0.013522\n",
       "9     100  0.7100   7.900  0.007900  0.005609\n",
       "10    300  0.7740   3.500  0.003500  0.002709\n",
       "11   1000  0.8300   1.730  0.001730  0.001436\n",
       "12   3000  0.8550   0.294  0.000294  0.000251\n",
       "13  10000  0.8720   0.096  0.000096  0.000084"
      ]
     },
     "execution_count": 485,
     "metadata": {},
     "output_type": "execute_result"
    }
   ],
   "source": [
    "res"
   ]
  },
  {
   "cell_type": "code",
   "execution_count": 486,
   "id": "constitutional-gasoline",
   "metadata": {
    "ExecuteTime": {
     "end_time": "2021-05-23T16:28:23.594773Z",
     "start_time": "2021-05-23T16:28:23.581883Z"
    }
   },
   "outputs": [],
   "source": [
    "import seaborn as sns\n",
    "from scipy.optimize import curve_fit"
   ]
  },
  {
   "cell_type": "code",
   "execution_count": 487,
   "id": "saving-julian",
   "metadata": {
    "ExecuteTime": {
     "end_time": "2021-05-23T16:28:23.762602Z",
     "start_time": "2021-05-23T16:28:23.749894Z"
    }
   },
   "outputs": [],
   "source": [
    "rohms = r'Resistance ($\\mathregular{\\Omega}$)'"
   ]
  },
  {
   "cell_type": "code",
   "execution_count": 491,
   "id": "fundamental-arizona",
   "metadata": {
    "ExecuteTime": {
     "end_time": "2021-05-23T16:29:23.999772Z",
     "start_time": "2021-05-23T16:29:22.793030Z"
    }
   },
   "outputs": [
    {
     "data": {
      "image/png": "[encoded data removed]",
      "text/plain": [
       "<Figure size 576x504 with 1 Axes>"
      ]
     },
     "metadata": {},
     "output_type": "display_data"
    },
    {
     "data": {
      "image/png": "[encoded data removed]",
      "text/plain": [
       "<Figure size 432x252 with 1 Axes>"
      ]
     },
     "metadata": {},
     "output_type": "display_data"
    },
    {
     "data": {
      "image/png": "[encoded data removed]",
      "text/plain": [
       "<Figure size 432x252 with 1 Axes>"
      ]
     },
     "metadata": {},
     "output_type": "display_data"
    }
   ],
   "source": [
    "n = sum(res.P[:5])\n",
    "mean = sum(res.R[:5]*res.P[:5])/n\n",
    "sigma = np.sqrt(sum(res.P[:5]*(res.R[:5]-mean)**2)/n)\n",
    "\n",
    "\n",
    "def gaus(x, a, x0, sigma, offset):\n",
    "    return a*np.exp(-(x-x0)**2/(2*sigma**2)) + offset\n",
    "\n",
    "\n",
    "popt, pcov = curve_fit(gaus, res.R[:5], res.P[:5], p0=[1, mean, sigma, 0.0])\n",
    "\n",
    "plt.scatter(res.R, res.P)\n",
    "plt.plot(10**np.linspace(0, 2, 100),\n",
    "         gaus(10**np.linspace(0, 2, 100), *popt), 'b*:', label='fit')\n",
    "plt.xscale('log')\n",
    "plt.xlabel('R (Ohms)')\n",
    "plt.ylabel('P (J/s)')\n",
    "plt.show()\n",
    "my_graph(res.V, res.I, 'linear', 'linear', 'Voltage (V)',\n",
    "         'Current (A)', 'l1_d_1_trial_a', '')\n",
    "my_graph(res.R, res.P, 'log', 'linear',  rohms,\n",
    "         'Power (J/s)', 'l1_d_2_trial_a', '')"
   ]
  },
  {
   "cell_type": "markdown",
   "id": "intensive-carbon",
   "metadata": {},
   "source": [
    "#### Trial 2"
   ]
  },
  {
   "cell_type": "markdown",
   "id": "opponent-information",
   "metadata": {},
   "source": [
    "##### Phase 1"
   ]
  },
  {
   "cell_type": "code",
   "execution_count": 492,
   "id": "entertaining-egypt",
   "metadata": {
    "ExecuteTime": {
     "end_time": "2021-05-23T16:29:36.428371Z",
     "start_time": "2021-05-23T16:29:36.405666Z"
    }
   },
   "outputs": [
    {
     "data": {
      "text/html": [
       "<div>\n",
       "<style scoped>\n",
       "    .dataframe tbody tr th:only-of-type {\n",
       "        vertical-align: middle;\n",
       "    }\n",
       "\n",
       "    .dataframe tbody tr th {\n",
       "        vertical-align: top;\n",
       "    }\n",
       "\n",
       "    .dataframe thead th {\n",
       "        text-align: right;\n",
       "    }\n",
       "</style>\n",
       "<table border=\"1\" class=\"dataframe\">\n",
       "  <thead>\n",
       "    <tr style=\"text-align: right;\">\n",
       "      <th></th>\n",
       "      <th>R</th>\n",
       "      <th>V</th>\n",
       "      <th>I</th>\n",
       "      <th>P</th>\n",
       "    </tr>\n",
       "  </thead>\n",
       "  <tbody>\n",
       "    <tr>\n",
       "      <th>0</th>\n",
       "      <td>1.0</td>\n",
       "      <td>0.05600</td>\n",
       "      <td>0.049000</td>\n",
       "      <td>2.744000e-03</td>\n",
       "    </tr>\n",
       "    <tr>\n",
       "      <th>1</th>\n",
       "      <td>3.0</td>\n",
       "      <td>0.12560</td>\n",
       "      <td>0.040500</td>\n",
       "      <td>5.086800e-03</td>\n",
       "    </tr>\n",
       "    <tr>\n",
       "      <th>2</th>\n",
       "      <td>4.0</td>\n",
       "      <td>0.16500</td>\n",
       "      <td>0.040000</td>\n",
       "      <td>6.600000e-03</td>\n",
       "    </tr>\n",
       "    <tr>\n",
       "      <th>3</th>\n",
       "      <td>5.0</td>\n",
       "      <td>0.12036</td>\n",
       "      <td>0.040000</td>\n",
       "      <td>4.814400e-03</td>\n",
       "    </tr>\n",
       "    <tr>\n",
       "      <th>4</th>\n",
       "      <td>6.0</td>\n",
       "      <td>0.24320</td>\n",
       "      <td>0.039400</td>\n",
       "      <td>9.582080e-03</td>\n",
       "    </tr>\n",
       "    <tr>\n",
       "      <th>5</th>\n",
       "      <td>7.0</td>\n",
       "      <td>0.28150</td>\n",
       "      <td>0.039800</td>\n",
       "      <td>1.120370e-02</td>\n",
       "    </tr>\n",
       "    <tr>\n",
       "      <th>6</th>\n",
       "      <td>8.0</td>\n",
       "      <td>0.35440</td>\n",
       "      <td>0.038500</td>\n",
       "      <td>1.364440e-02</td>\n",
       "    </tr>\n",
       "    <tr>\n",
       "      <th>7</th>\n",
       "      <td>9.0</td>\n",
       "      <td>0.38810</td>\n",
       "      <td>0.038260</td>\n",
       "      <td>1.484871e-02</td>\n",
       "    </tr>\n",
       "    <tr>\n",
       "      <th>8</th>\n",
       "      <td>10.0</td>\n",
       "      <td>0.41620</td>\n",
       "      <td>0.037610</td>\n",
       "      <td>1.565328e-02</td>\n",
       "    </tr>\n",
       "    <tr>\n",
       "      <th>9</th>\n",
       "      <td>15.0</td>\n",
       "      <td>0.54790</td>\n",
       "      <td>0.034600</td>\n",
       "      <td>1.895734e-02</td>\n",
       "    </tr>\n",
       "    <tr>\n",
       "      <th>10</th>\n",
       "      <td>20.0</td>\n",
       "      <td>0.62810</td>\n",
       "      <td>0.029960</td>\n",
       "      <td>1.881788e-02</td>\n",
       "    </tr>\n",
       "    <tr>\n",
       "      <th>11</th>\n",
       "      <td>30.0</td>\n",
       "      <td>0.71950</td>\n",
       "      <td>0.022930</td>\n",
       "      <td>1.649814e-02</td>\n",
       "    </tr>\n",
       "    <tr>\n",
       "      <th>12</th>\n",
       "      <td>60.0</td>\n",
       "      <td>0.78440</td>\n",
       "      <td>0.012300</td>\n",
       "      <td>9.648120e-03</td>\n",
       "    </tr>\n",
       "    <tr>\n",
       "      <th>13</th>\n",
       "      <td>100.0</td>\n",
       "      <td>0.83320</td>\n",
       "      <td>0.008310</td>\n",
       "      <td>6.923892e-03</td>\n",
       "    </tr>\n",
       "    <tr>\n",
       "      <th>14</th>\n",
       "      <td>500.0</td>\n",
       "      <td>0.88130</td>\n",
       "      <td>0.001850</td>\n",
       "      <td>1.630405e-03</td>\n",
       "    </tr>\n",
       "    <tr>\n",
       "      <th>15</th>\n",
       "      <td>1000.0</td>\n",
       "      <td>0.90070</td>\n",
       "      <td>0.000890</td>\n",
       "      <td>8.016230e-04</td>\n",
       "    </tr>\n",
       "    <tr>\n",
       "      <th>16</th>\n",
       "      <td>5000.0</td>\n",
       "      <td>0.91560</td>\n",
       "      <td>0.000180</td>\n",
       "      <td>1.649911e-04</td>\n",
       "    </tr>\n",
       "    <tr>\n",
       "      <th>17</th>\n",
       "      <td>10000.0</td>\n",
       "      <td>0.92200</td>\n",
       "      <td>0.000084</td>\n",
       "      <td>7.748488e-05</td>\n",
       "    </tr>\n",
       "    <tr>\n",
       "      <th>18</th>\n",
       "      <td>50000.0</td>\n",
       "      <td>0.92670</td>\n",
       "      <td>0.000018</td>\n",
       "      <td>1.687521e-05</td>\n",
       "    </tr>\n",
       "    <tr>\n",
       "      <th>19</th>\n",
       "      <td>100000.0</td>\n",
       "      <td>0.92720</td>\n",
       "      <td>0.000009</td>\n",
       "      <td>8.576600e-06</td>\n",
       "    </tr>\n",
       "    <tr>\n",
       "      <th>20</th>\n",
       "      <td>500000.0</td>\n",
       "      <td>0.92790</td>\n",
       "      <td>0.000002</td>\n",
       "      <td>1.800126e-06</td>\n",
       "    </tr>\n",
       "    <tr>\n",
       "      <th>21</th>\n",
       "      <td>1000000.0</td>\n",
       "      <td>0.92800</td>\n",
       "      <td>0.000001</td>\n",
       "      <td>9.372800e-07</td>\n",
       "    </tr>\n",
       "  </tbody>\n",
       "</table>\n",
       "</div>"
      ],
      "text/plain": [
       "            R        V         I             P\n",
       "0         1.0  0.05600  0.049000  2.744000e-03\n",
       "1         3.0  0.12560  0.040500  5.086800e-03\n",
       "2         4.0  0.16500  0.040000  6.600000e-03\n",
       "3         5.0  0.12036  0.040000  4.814400e-03\n",
       "4         6.0  0.24320  0.039400  9.582080e-03\n",
       "5         7.0  0.28150  0.039800  1.120370e-02\n",
       "6         8.0  0.35440  0.038500  1.364440e-02\n",
       "7         9.0  0.38810  0.038260  1.484871e-02\n",
       "8        10.0  0.41620  0.037610  1.565328e-02\n",
       "9        15.0  0.54790  0.034600  1.895734e-02\n",
       "10       20.0  0.62810  0.029960  1.881788e-02\n",
       "11       30.0  0.71950  0.022930  1.649814e-02\n",
       "12       60.0  0.78440  0.012300  9.648120e-03\n",
       "13      100.0  0.83320  0.008310  6.923892e-03\n",
       "14      500.0  0.88130  0.001850  1.630405e-03\n",
       "15     1000.0  0.90070  0.000890  8.016230e-04\n",
       "16     5000.0  0.91560  0.000180  1.649911e-04\n",
       "17    10000.0  0.92200  0.000084  7.748488e-05\n",
       "18    50000.0  0.92670  0.000018  1.687521e-05\n",
       "19   100000.0  0.92720  0.000009  8.576600e-06\n",
       "20   500000.0  0.92790  0.000002  1.800126e-06\n",
       "21  1000000.0  0.92800  0.000001  9.372800e-07"
      ]
     },
     "execution_count": 492,
     "metadata": {},
     "output_type": "execute_result"
    }
   ],
   "source": [
    "res = pd.DataFrame({\n",
    "    'R': [\n",
    "        1, 3, 4, 5, 6, 7, 8, 9, 10, 15, 20, 30,\n",
    "        60, 100, 500, 1000, 5000, 10000, 50000,\n",
    "        100000, 500000, 1e6,\n",
    "    ],\n",
    "    'V': [\n",
    "        0.0560, 0.1256, 0.165, 0.12036, 0.2432,\n",
    "        0.2815, 0.3544, 0.3881, 0.4162, 0.5479,\n",
    "        0.6281, 0.7195, 0.7844, 0.8332, 0.8813,\n",
    "        0.9007, 0.9156, 0.9220, 0.9267, 0.9272,\n",
    "        0.9279, 0.9280,\n",
    "    ],\n",
    "    'I': [\n",
    "        0.049, 0.0405, 0.040, 0.040, 0.0394,\n",
    "        0.0398, 0.0385, 0.03826, 0.03761, 0.0346,\n",
    "        0.02996, 0.02293, 0.0123, 0.00831, 1.85e-3,\n",
    "        8.9e-4, .1802e-3, 84.04e-6, 18.21e-6, 9.25e-6,\n",
    "        1.94e-06, 1.01e-6\n",
    "    ]\n",
    "})\n",
    "res.insert(3, 'P', res.V*res.I)\n",
    "res"
   ]
  },
  {
   "cell_type": "code",
   "execution_count": 496,
   "id": "abstract-avenue",
   "metadata": {
    "ExecuteTime": {
     "end_time": "2021-05-23T16:30:02.674035Z",
     "start_time": "2021-05-23T16:30:01.942698Z"
    }
   },
   "outputs": [
    {
     "data": {
      "image/png": "[encoded data removed]",
      "text/plain": [
       "<Figure size 576x504 with 1 Axes>"
      ]
     },
     "metadata": {},
     "output_type": "display_data"
    },
    {
     "data": {
      "image/png": "[encoded data removed]",
      "text/plain": [
       "<Figure size 432x252 with 1 Axes>"
      ]
     },
     "metadata": {},
     "output_type": "display_data"
    },
    {
     "data": {
      "image/png": "[encoded data removed]",
      "text/plain": [
       "<Figure size 432x252 with 1 Axes>"
      ]
     },
     "metadata": {},
     "output_type": "display_data"
    }
   ],
   "source": [
    "fit = np.polyfit(np.log10(res.R[3:11]), res.P[3:11], 2)\n",
    "x = np.linspace(.7, 1.7, 110)\n",
    "plt.plot(10**x, fit[0]*x**2 + fit[1]*x + fit[2])\n",
    "plt.scatter(res.R, res.P)\n",
    "plt.xscale('log')\n",
    "plt.xlabel('R (Ohms)')\n",
    "plt.ylabel('P (J/s)')\n",
    "plt.show()\n",
    "my_graph(res.V, res.I, 'linear', 'linear', 'Voltage (V)',\n",
    "         'Current (A)', 'l1_d_1_trial_b', 'linear')\n",
    "my_graph(res.R, res.P, 'log', 'linear',  rohms,\n",
    "         'Power (J/s)', 'l1_d_2_trial_b', 'linear')"
   ]
  },
  {
   "cell_type": "code",
   "execution_count": 128,
   "id": "revised-entrance",
   "metadata": {
    "ExecuteTime": {
     "end_time": "2021-05-19T15:00:31.993420Z",
     "start_time": "2021-05-19T15:00:31.987466Z"
    }
   },
   "outputs": [
    {
     "data": {
      "text/plain": [
       "9    4.418417\n",
       "Name: P, dtype: float64"
      ]
     },
     "execution_count": 128,
     "metadata": {},
     "output_type": "execute_result"
    }
   ],
   "source": [
    "\"\"\"\n",
    "This value below corresponds to the difference in measured power at 15 ohms\n",
    "when zipping up through the resistance quickly and sitting at that resistance\n",
    "for some time. The power was 1/4.4 the size when resting.\n",
    "\"\"\"\n",
    "res.loc[res.P == res.P.max(), 'P']/(.2629*16.32e-3)"
   ]
  },
  {
   "cell_type": "markdown",
   "id": "dirty-period",
   "metadata": {},
   "source": [
    "##### Phase 2"
   ]
  },
  {
   "cell_type": "code",
   "execution_count": 500,
   "id": "blond-library",
   "metadata": {
    "ExecuteTime": {
     "end_time": "2021-05-23T16:33:41.638698Z",
     "start_time": "2021-05-23T16:33:41.623635Z"
    }
   },
   "outputs": [],
   "source": [
    "res = pd.DataFrame({\n",
    "    'R': [\n",
    "        15, 10, 7, 9\n",
    "    ],\n",
    "    'Volume': [\n",
    "        3, 3, 5, 5\n",
    "    ],\n",
    "    'T': [\n",
    "        467.26, 8*60+19.78, 10*60 + 49.57, 60*9 + 57.19\n",
    "    ],\n",
    "    'I': [\n",
    "        16.24e-3, 50.86e-3, 56.22e-3, 53.57e-3\n",
    "    ],\n",
    "    'V': [\n",
    "        .2616, .586, 0.4658, 0.5462\n",
    "    ]\n",
    "})\n",
    "res['P'] = res['I'] * res['V']"
   ]
  },
  {
   "cell_type": "code",
   "execution_count": 501,
   "id": "attached-rebecca",
   "metadata": {
    "ExecuteTime": {
     "end_time": "2021-05-23T16:33:41.904888Z",
     "start_time": "2021-05-23T16:33:41.889088Z"
    }
   },
   "outputs": [
    {
     "data": {
      "text/html": [
       "<div>\n",
       "<style scoped>\n",
       "    .dataframe tbody tr th:only-of-type {\n",
       "        vertical-align: middle;\n",
       "    }\n",
       "\n",
       "    .dataframe tbody tr th {\n",
       "        vertical-align: top;\n",
       "    }\n",
       "\n",
       "    .dataframe thead th {\n",
       "        text-align: right;\n",
       "    }\n",
       "</style>\n",
       "<table border=\"1\" class=\"dataframe\">\n",
       "  <thead>\n",
       "    <tr style=\"text-align: right;\">\n",
       "      <th></th>\n",
       "      <th>R</th>\n",
       "      <th>Volume</th>\n",
       "      <th>T</th>\n",
       "      <th>I</th>\n",
       "      <th>V</th>\n",
       "      <th>P</th>\n",
       "    </tr>\n",
       "  </thead>\n",
       "  <tbody>\n",
       "    <tr>\n",
       "      <th>0</th>\n",
       "      <td>15</td>\n",
       "      <td>3</td>\n",
       "      <td>467.26</td>\n",
       "      <td>0.01624</td>\n",
       "      <td>0.2616</td>\n",
       "      <td>0.004248</td>\n",
       "    </tr>\n",
       "    <tr>\n",
       "      <th>1</th>\n",
       "      <td>10</td>\n",
       "      <td>3</td>\n",
       "      <td>499.78</td>\n",
       "      <td>0.05086</td>\n",
       "      <td>0.5860</td>\n",
       "      <td>0.029804</td>\n",
       "    </tr>\n",
       "    <tr>\n",
       "      <th>2</th>\n",
       "      <td>7</td>\n",
       "      <td>5</td>\n",
       "      <td>649.57</td>\n",
       "      <td>0.05622</td>\n",
       "      <td>0.4658</td>\n",
       "      <td>0.026187</td>\n",
       "    </tr>\n",
       "    <tr>\n",
       "      <th>3</th>\n",
       "      <td>9</td>\n",
       "      <td>5</td>\n",
       "      <td>597.19</td>\n",
       "      <td>0.05357</td>\n",
       "      <td>0.5462</td>\n",
       "      <td>0.029260</td>\n",
       "    </tr>\n",
       "  </tbody>\n",
       "</table>\n",
       "</div>"
      ],
      "text/plain": [
       "    R  Volume       T        I       V         P\n",
       "0  15       3  467.26  0.01624  0.2616  0.004248\n",
       "1  10       3  499.78  0.05086  0.5860  0.029804\n",
       "2   7       5  649.57  0.05622  0.4658  0.026187\n",
       "3   9       5  597.19  0.05357  0.5462  0.029260"
      ]
     },
     "execution_count": 501,
     "metadata": {},
     "output_type": "execute_result"
    }
   ],
   "source": [
    "res"
   ]
  },
  {
   "cell_type": "code",
   "execution_count": 502,
   "id": "introductory-feeding",
   "metadata": {
    "ExecuteTime": {
     "end_time": "2021-05-23T16:33:42.192504Z",
     "start_time": "2021-05-23T16:33:42.081954Z"
    }
   },
   "outputs": [
    {
     "data": {
      "text/plain": [
       "(0.027, 0.03)"
      ]
     },
     "execution_count": 502,
     "metadata": {},
     "output_type": "execute_result"
    },
    {
     "data": {
      "image/png": "[encoded data removed]",
      "text/plain": [
       "<Figure size 576x504 with 1 Axes>"
      ]
     },
     "metadata": {},
     "output_type": "display_data"
    }
   ],
   "source": [
    "plt.scatter(res['R'], res['P'])\n",
    "fit = np.polyfit(res['R'], res['P'], 3)\n",
    "x = np.linspace(5, 15, 100)\n",
    "plt.plot(x, x**3*fit[0] + x**2*fit[1] + x*fit[2] + fit[3])\n",
    "# plt.xscale('log')\n",
    "plt.ylim([.027, .03])"
   ]
  },
  {
   "cell_type": "markdown",
   "id": "lined-length",
   "metadata": {},
   "source": [
    "$ \\eta_{FC} = \\frac{E_{FC}}{E_{Hydrogen}}  = \\frac{P_{FC} \\cdot t_{FC}}{V_H \\cdot LHV} $"
   ]
  },
  {
   "cell_type": "markdown",
   "id": "broke-mustang",
   "metadata": {},
   "source": [
    "$ cm^3 $ to kilograms\n",
    "\n",
    "$ V_H cm^3 \\cdot \\sigma \\frac{g}{L} $\n",
    "\n",
    "$ V_H cm^3 \\cdot \\frac{1 L}{1000 cm^3} \\cdot \\sigma \n",
    "\\frac{g}{L} \\cdot \\frac{1 kg}{1000\\ g} = m\\ (kg) $"
   ]
  },
  {
   "cell_type": "code",
   "execution_count": 503,
   "id": "viral-importance",
   "metadata": {
    "ExecuteTime": {
     "end_time": "2021-05-23T16:33:43.546484Z",
     "start_time": "2021-05-23T16:33:43.536854Z"
    }
   },
   "outputs": [],
   "source": [
    "h_density = 0.08988  # g/L"
   ]
  },
  {
   "cell_type": "code",
   "execution_count": 504,
   "id": "suited-checkout",
   "metadata": {
    "ExecuteTime": {
     "end_time": "2021-05-23T16:33:44.255145Z",
     "start_time": "2021-05-23T16:33:44.226876Z"
    }
   },
   "outputs": [
    {
     "data": {
      "text/html": [
       "<div>\n",
       "<style scoped>\n",
       "    .dataframe tbody tr th:only-of-type {\n",
       "        vertical-align: middle;\n",
       "    }\n",
       "\n",
       "    .dataframe tbody tr th {\n",
       "        vertical-align: top;\n",
       "    }\n",
       "\n",
       "    .dataframe thead th {\n",
       "        text-align: right;\n",
       "    }\n",
       "</style>\n",
       "<table border=\"1\" class=\"dataframe\">\n",
       "  <thead>\n",
       "    <tr style=\"text-align: right;\">\n",
       "      <th></th>\n",
       "      <th>R</th>\n",
       "      <th>Volume</th>\n",
       "      <th>T</th>\n",
       "      <th>I</th>\n",
       "      <th>V</th>\n",
       "      <th>P</th>\n",
       "      <th>mass</th>\n",
       "    </tr>\n",
       "  </thead>\n",
       "  <tbody>\n",
       "    <tr>\n",
       "      <th>0</th>\n",
       "      <td>15</td>\n",
       "      <td>3</td>\n",
       "      <td>467.26</td>\n",
       "      <td>0.01624</td>\n",
       "      <td>0.2616</td>\n",
       "      <td>0.004248</td>\n",
       "      <td>2.696400e-07</td>\n",
       "    </tr>\n",
       "    <tr>\n",
       "      <th>1</th>\n",
       "      <td>10</td>\n",
       "      <td>3</td>\n",
       "      <td>499.78</td>\n",
       "      <td>0.05086</td>\n",
       "      <td>0.5860</td>\n",
       "      <td>0.029804</td>\n",
       "      <td>2.696400e-07</td>\n",
       "    </tr>\n",
       "    <tr>\n",
       "      <th>2</th>\n",
       "      <td>7</td>\n",
       "      <td>5</td>\n",
       "      <td>649.57</td>\n",
       "      <td>0.05622</td>\n",
       "      <td>0.4658</td>\n",
       "      <td>0.026187</td>\n",
       "      <td>4.494000e-07</td>\n",
       "    </tr>\n",
       "    <tr>\n",
       "      <th>3</th>\n",
       "      <td>9</td>\n",
       "      <td>5</td>\n",
       "      <td>597.19</td>\n",
       "      <td>0.05357</td>\n",
       "      <td>0.5462</td>\n",
       "      <td>0.029260</td>\n",
       "      <td>4.494000e-07</td>\n",
       "    </tr>\n",
       "  </tbody>\n",
       "</table>\n",
       "</div>"
      ],
      "text/plain": [
       "    R  Volume       T        I       V         P          mass\n",
       "0  15       3  467.26  0.01624  0.2616  0.004248  2.696400e-07\n",
       "1  10       3  499.78  0.05086  0.5860  0.029804  2.696400e-07\n",
       "2   7       5  649.57  0.05622  0.4658  0.026187  4.494000e-07\n",
       "3   9       5  597.19  0.05357  0.5462  0.029260  4.494000e-07"
      ]
     },
     "execution_count": 504,
     "metadata": {},
     "output_type": "execute_result"
    }
   ],
   "source": [
    "res['mass'] = res['Volume'] * 1e-3 * h_density * 1/1000\n",
    "res"
   ]
  },
  {
   "cell_type": "code",
   "execution_count": 505,
   "id": "arranged-portfolio",
   "metadata": {
    "ExecuteTime": {
     "end_time": "2021-05-23T16:33:44.726013Z",
     "start_time": "2021-05-23T16:33:44.713545Z"
    }
   },
   "outputs": [],
   "source": [
    "res['E_FC'] = (res['T'] * res['P'])\n",
    "res['E_H'] = res['mass'] * LHV"
   ]
  },
  {
   "cell_type": "code",
   "execution_count": 506,
   "id": "convinced-saying",
   "metadata": {
    "ExecuteTime": {
     "end_time": "2021-05-23T16:33:45.381112Z",
     "start_time": "2021-05-23T16:33:45.358608Z"
    }
   },
   "outputs": [
    {
     "data": {
      "text/plain": [
       "'Resistance ($\\\\mathregular{\\\\Omega}$)'"
      ]
     },
     "execution_count": 506,
     "metadata": {},
     "output_type": "execute_result"
    }
   ],
   "source": [
    "rohms"
   ]
  },
  {
   "cell_type": "code",
   "execution_count": 510,
   "id": "genuine-cassette",
   "metadata": {
    "ExecuteTime": {
     "end_time": "2021-05-23T16:34:37.934997Z",
     "start_time": "2021-05-23T16:34:37.787341Z"
    }
   },
   "outputs": [
    {
     "data": {
      "image/png": "[encoded data removed]",
      "text/plain": [
       "<Figure size 432x252 with 1 Axes>"
      ]
     },
     "metadata": {},
     "output_type": "display_data"
    }
   ],
   "source": [
    "y = res['E_FC']/res['E_H']\n",
    "my_graph(res.P[y.sort_values().index],\n",
    "         y.sort_values(),\n",
    "         'linear',\n",
    "         'linear',\n",
    "         'Power (mW)',\n",
    "         'Efficiency ($\\\\mathregular{\\\\eta}_{FC}$)',\n",
    "         'l1_d_3',\n",
    "         ''\n",
    "        )"
   ]
  },
  {
   "cell_type": "code",
   "execution_count": null,
   "id": "approximate-virus",
   "metadata": {},
   "outputs": [],
   "source": []
  }
 ],
 "metadata": {
  "kernelspec": {
   "display_name": "Python 3",
   "language": "python",
   "name": "python3"
  },
  "language_info": {
   "codemirror_mode": {
    "name": "ipython",
    "version": 3
   },
   "file_extension": ".py",
   "mimetype": "text/x-python",
   "name": "python",
   "nbconvert_exporter": "python",
   "pygments_lexer": "ipython3",
   "version": "3.8.8"
  },
  "toc": {
   "base_numbering": 1,
   "nav_menu": {},
   "number_sections": true,
   "sideBar": true,
   "skip_h1_title": false,
   "title_cell": "Table of Contents",
   "title_sidebar": "Contents",
   "toc_cell": false,
   "toc_position": {},
   "toc_section_display": true,
   "toc_window_display": false
  }
 },
 "nbformat": 4,
 "nbformat_minor": 5
}
