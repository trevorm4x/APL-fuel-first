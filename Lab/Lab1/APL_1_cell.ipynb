{
 "cells": [
  {
   "cell_type": "code",
   "execution_count": 1,
   "id": "technological-lodging",
   "metadata": {
    "ExecuteTime": {
     "end_time": "2021-05-18T21:35:13.667864Z",
     "start_time": "2021-05-18T21:35:12.791920Z"
    }
   },
   "outputs": [],
   "source": [
    "import numpy as np\n",
    "import pandas as pd\n",
    "import matplotlib.pyplot as plt"
   ]
  },
  {
   "cell_type": "code",
   "execution_count": 2,
   "id": "covered-interest",
   "metadata": {
    "ExecuteTime": {
     "end_time": "2021-05-18T21:35:13.999572Z",
     "start_time": "2021-05-18T21:35:13.669330Z"
    }
   },
   "outputs": [],
   "source": [
    "from jupyterthemes import jtplot\n",
    "jtplot.style(theme = 'monokai', context = 'notebook', ticks = False, grid = False)"
   ]
  },
  {
   "cell_type": "markdown",
   "id": "mounted-quarter",
   "metadata": {},
   "source": [
    "#### PV"
   ]
  },
  {
   "cell_type": "markdown",
   "id": "pressed-front",
   "metadata": {
    "heading_collapsed": true
   },
   "source": [
    "##### Basic starting measurements"
   ]
  },
  {
   "cell_type": "code",
   "execution_count": 3,
   "id": "arctic-sphere",
   "metadata": {
    "ExecuteTime": {
     "end_time": "2021-05-18T21:35:17.087924Z",
     "start_time": "2021-05-18T21:35:17.085492Z"
    },
    "hidden": true
   },
   "outputs": [],
   "source": [
    "meter_readings = np.array([\n",
    "    [22.7,23.9,24.2,23.1],\n",
    "    [22.2,26.2,32.9,26.2]\n",
    "])"
   ]
  },
  {
   "cell_type": "code",
   "execution_count": 5,
   "id": "binding-scene",
   "metadata": {
    "ExecuteTime": {
     "end_time": "2021-05-18T21:37:19.259367Z",
     "start_time": "2021-05-18T21:37:19.251869Z"
    },
    "hidden": true
   },
   "outputs": [
    {
     "data": {
      "text/plain": [
       "array([[1.816, 1.912, 1.936, 1.848],\n",
       "       [1.776, 2.096, 2.632, 2.096]])"
      ]
     },
     "execution_count": 5,
     "metadata": {},
     "output_type": "execute_result"
    }
   ],
   "source": [
    "true_power = meter_readings/12.5\n",
    "true_power # mW"
   ]
  },
  {
   "cell_type": "code",
   "execution_count": 6,
   "id": "alpine-orange",
   "metadata": {
    "ExecuteTime": {
     "end_time": "2021-05-18T21:37:23.988604Z",
     "start_time": "2021-05-18T21:37:23.985151Z"
    },
    "hidden": true,
    "scrolled": true
   },
   "outputs": [
    {
     "data": {
      "text/plain": [
       "0.0020139999999999997"
      ]
     },
     "execution_count": 6,
     "metadata": {},
     "output_type": "execute_result"
    }
   ],
   "source": [
    "avg_power = true_power.mean().mean()*1e-3\n",
    "avg_power # W"
   ]
  },
  {
   "cell_type": "code",
   "execution_count": 7,
   "id": "floral-pacific",
   "metadata": {
    "ExecuteTime": {
     "end_time": "2021-05-18T21:37:26.905827Z",
     "start_time": "2021-05-18T21:37:26.902782Z"
    },
    "hidden": true
   },
   "outputs": [
    {
     "data": {
      "text/plain": [
       "7.08821842466197e-05"
      ]
     },
     "execution_count": 7,
     "metadata": {},
     "output_type": "execute_result"
    }
   ],
   "source": [
    "meter_area = (9.5e-3/2)**2*np.pi\n",
    "meter_area # m^2"
   ]
  },
  {
   "cell_type": "code",
   "execution_count": 9,
   "id": "wound-payment",
   "metadata": {
    "ExecuteTime": {
     "end_time": "2021-05-18T21:37:31.049392Z",
     "start_time": "2021-05-18T21:37:31.047308Z"
    },
    "hidden": true
   },
   "outputs": [],
   "source": [
    "pvc_dimensions = [0.0985, 0.0785]  # in meters\n",
    "pvc_area = pvc_dimensions[0]*pvc_dimensions[1]\n",
    "\n",
    "# single_cell_dimension = []  # in meters\n",
    "# n_cells = 8\n",
    "# pvc_area = single_cell_dimension[0] * single_cell_dimension[1] * n_cells"
   ]
  },
  {
   "cell_type": "markdown",
   "id": "sealed-familiar",
   "metadata": {
    "heading_collapsed": true
   },
   "source": [
    "##### Prelim calculations"
   ]
  },
  {
   "cell_type": "code",
   "execution_count": 10,
   "id": "related-placement",
   "metadata": {
    "ExecuteTime": {
     "end_time": "2021-05-18T21:37:32.760589Z",
     "start_time": "2021-05-18T21:37:32.756503Z"
    },
    "hidden": true
   },
   "outputs": [],
   "source": [
    "avg_intensity = avg_power/meter_area"
   ]
  },
  {
   "cell_type": "code",
   "execution_count": 11,
   "id": "floating-snapshot",
   "metadata": {
    "ExecuteTime": {
     "end_time": "2021-05-18T21:37:33.076631Z",
     "start_time": "2021-05-18T21:37:33.073490Z"
    },
    "hidden": true
   },
   "outputs": [
    {
     "data": {
      "text/plain": [
       "28.41334562987942"
      ]
     },
     "execution_count": 11,
     "metadata": {},
     "output_type": "execute_result"
    }
   ],
   "source": [
    "avg_intensity"
   ]
  },
  {
   "cell_type": "code",
   "execution_count": 12,
   "id": "differential-governor",
   "metadata": {
    "ExecuteTime": {
     "end_time": "2021-05-18T21:37:33.954947Z",
     "start_time": "2021-05-18T21:37:33.952174Z"
    },
    "hidden": true
   },
   "outputs": [],
   "source": [
    "total_avg_light_power = avg_intensity * pvc_area"
   ]
  },
  {
   "cell_type": "code",
   "execution_count": 13,
   "id": "guided-cleanup",
   "metadata": {
    "ExecuteTime": {
     "end_time": "2021-05-18T21:37:34.392536Z",
     "start_time": "2021-05-18T21:37:34.387892Z"
    },
    "hidden": true
   },
   "outputs": [
    {
     "data": {
      "text/plain": [
       "0.21969909174663516"
      ]
     },
     "execution_count": 13,
     "metadata": {},
     "output_type": "execute_result"
    }
   ],
   "source": [
    "total_avg_light_power # Watts"
   ]
  },
  {
   "cell_type": "markdown",
   "id": "informed-concern",
   "metadata": {
    "heading_collapsed": true
   },
   "source": [
    "##### Main test measurements"
   ]
  },
  {
   "cell_type": "code",
   "execution_count": 14,
   "id": "involved-jumping",
   "metadata": {
    "ExecuteTime": {
     "end_time": "2021-05-18T21:37:37.920468Z",
     "start_time": "2021-05-18T21:37:37.915787Z"
    },
    "hidden": true
   },
   "outputs": [],
   "source": [
    "pv = pd.DataFrame({\n",
    "    'R': [\n",
    "        0.1, 3, 10, 30, 70, 100, 150, 300,\n",
    "        500, 800, 1e3, 5e3, 10e3, 5e4, 8e4, 1e5,\n",
    "        5e5, 1e6\n",
    "    ],\n",
    "    'C': [\n",
    "        23.77, 23.7, 23.67, 23.52, 21.3, 17.2,\n",
    "        12.29, 6.49, 3.98, 2.54, 2.05, 0.3886,\n",
    "        .1971, .03088, .02454, .01957, .00403,\n",
    "        .00206\n",
    "    ],\n",
    "    'V': [\n",
    "        .02918, .1014, .2645, .7361, 1.529, 1.7444,\n",
    "        1.8527, 1.9285, 1.9528, 1.9651, 1.97, 1.9816,\n",
    "        1.9829, 1.9838, 1.9843, 1.9834, 1.9832, 1.985\n",
    "    ]\n",
    "})"
   ]
  },
  {
   "cell_type": "code",
   "execution_count": 15,
   "id": "organizational-wireless",
   "metadata": {
    "ExecuteTime": {
     "end_time": "2021-05-18T21:37:38.556130Z",
     "start_time": "2021-05-18T21:37:38.528138Z"
    },
    "hidden": true
   },
   "outputs": [
    {
     "data": {
      "text/html": [
       "<div>\n",
       "<style scoped>\n",
       "    .dataframe tbody tr th:only-of-type {\n",
       "        vertical-align: middle;\n",
       "    }\n",
       "\n",
       "    .dataframe tbody tr th {\n",
       "        vertical-align: top;\n",
       "    }\n",
       "\n",
       "    .dataframe thead th {\n",
       "        text-align: right;\n",
       "    }\n",
       "</style>\n",
       "<table border=\"1\" class=\"dataframe\">\n",
       "  <thead>\n",
       "    <tr style=\"text-align: right;\">\n",
       "      <th></th>\n",
       "      <th>R</th>\n",
       "      <th>C</th>\n",
       "      <th>V</th>\n",
       "    </tr>\n",
       "  </thead>\n",
       "  <tbody>\n",
       "    <tr>\n",
       "      <th>0</th>\n",
       "      <td>0.1</td>\n",
       "      <td>23.77000</td>\n",
       "      <td>0.02918</td>\n",
       "    </tr>\n",
       "    <tr>\n",
       "      <th>1</th>\n",
       "      <td>3.0</td>\n",
       "      <td>23.70000</td>\n",
       "      <td>0.10140</td>\n",
       "    </tr>\n",
       "    <tr>\n",
       "      <th>2</th>\n",
       "      <td>10.0</td>\n",
       "      <td>23.67000</td>\n",
       "      <td>0.26450</td>\n",
       "    </tr>\n",
       "    <tr>\n",
       "      <th>3</th>\n",
       "      <td>30.0</td>\n",
       "      <td>23.52000</td>\n",
       "      <td>0.73610</td>\n",
       "    </tr>\n",
       "    <tr>\n",
       "      <th>4</th>\n",
       "      <td>70.0</td>\n",
       "      <td>21.30000</td>\n",
       "      <td>1.52900</td>\n",
       "    </tr>\n",
       "    <tr>\n",
       "      <th>5</th>\n",
       "      <td>100.0</td>\n",
       "      <td>17.20000</td>\n",
       "      <td>1.74440</td>\n",
       "    </tr>\n",
       "    <tr>\n",
       "      <th>6</th>\n",
       "      <td>150.0</td>\n",
       "      <td>12.29000</td>\n",
       "      <td>1.85270</td>\n",
       "    </tr>\n",
       "    <tr>\n",
       "      <th>7</th>\n",
       "      <td>300.0</td>\n",
       "      <td>6.49000</td>\n",
       "      <td>1.92850</td>\n",
       "    </tr>\n",
       "    <tr>\n",
       "      <th>8</th>\n",
       "      <td>500.0</td>\n",
       "      <td>3.98000</td>\n",
       "      <td>1.95280</td>\n",
       "    </tr>\n",
       "    <tr>\n",
       "      <th>9</th>\n",
       "      <td>800.0</td>\n",
       "      <td>2.54000</td>\n",
       "      <td>1.96510</td>\n",
       "    </tr>\n",
       "    <tr>\n",
       "      <th>10</th>\n",
       "      <td>1000.0</td>\n",
       "      <td>2.05000</td>\n",
       "      <td>1.97000</td>\n",
       "    </tr>\n",
       "    <tr>\n",
       "      <th>11</th>\n",
       "      <td>5000.0</td>\n",
       "      <td>0.38860</td>\n",
       "      <td>1.98160</td>\n",
       "    </tr>\n",
       "    <tr>\n",
       "      <th>12</th>\n",
       "      <td>10000.0</td>\n",
       "      <td>0.19710</td>\n",
       "      <td>1.98290</td>\n",
       "    </tr>\n",
       "    <tr>\n",
       "      <th>13</th>\n",
       "      <td>50000.0</td>\n",
       "      <td>0.03088</td>\n",
       "      <td>1.98380</td>\n",
       "    </tr>\n",
       "    <tr>\n",
       "      <th>14</th>\n",
       "      <td>80000.0</td>\n",
       "      <td>0.02454</td>\n",
       "      <td>1.98430</td>\n",
       "    </tr>\n",
       "    <tr>\n",
       "      <th>15</th>\n",
       "      <td>100000.0</td>\n",
       "      <td>0.01957</td>\n",
       "      <td>1.98340</td>\n",
       "    </tr>\n",
       "    <tr>\n",
       "      <th>16</th>\n",
       "      <td>500000.0</td>\n",
       "      <td>0.00403</td>\n",
       "      <td>1.98320</td>\n",
       "    </tr>\n",
       "    <tr>\n",
       "      <th>17</th>\n",
       "      <td>1000000.0</td>\n",
       "      <td>0.00206</td>\n",
       "      <td>1.98500</td>\n",
       "    </tr>\n",
       "  </tbody>\n",
       "</table>\n",
       "</div>"
      ],
      "text/plain": [
       "            R         C        V\n",
       "0         0.1  23.77000  0.02918\n",
       "1         3.0  23.70000  0.10140\n",
       "2        10.0  23.67000  0.26450\n",
       "3        30.0  23.52000  0.73610\n",
       "4        70.0  21.30000  1.52900\n",
       "5       100.0  17.20000  1.74440\n",
       "6       150.0  12.29000  1.85270\n",
       "7       300.0   6.49000  1.92850\n",
       "8       500.0   3.98000  1.95280\n",
       "9       800.0   2.54000  1.96510\n",
       "10     1000.0   2.05000  1.97000\n",
       "11     5000.0   0.38860  1.98160\n",
       "12    10000.0   0.19710  1.98290\n",
       "13    50000.0   0.03088  1.98380\n",
       "14    80000.0   0.02454  1.98430\n",
       "15   100000.0   0.01957  1.98340\n",
       "16   500000.0   0.00403  1.98320\n",
       "17  1000000.0   0.00206  1.98500"
      ]
     },
     "execution_count": 15,
     "metadata": {},
     "output_type": "execute_result"
    }
   ],
   "source": [
    "pv"
   ]
  },
  {
   "cell_type": "markdown",
   "id": "lovely-peeing",
   "metadata": {
    "heading_collapsed": true
   },
   "source": [
    "##### Analysis"
   ]
  },
  {
   "cell_type": "code",
   "execution_count": 41,
   "id": "aggregate-spyware",
   "metadata": {
    "ExecuteTime": {
     "end_time": "2021-05-18T21:52:05.518358Z",
     "start_time": "2021-05-18T21:52:05.373874Z"
    },
    "hidden": true
   },
   "outputs": [
    {
     "data": {
      "image/png": "[encoded data removed]",
      "text/plain": [
       "<Figure size 648x396 with 1 Axes>"
      ]
     },
     "metadata": {},
     "output_type": "display_data"
    }
   ],
   "source": [
    "plt.figure(figsize = (9, 5.5))\n",
    "plt.plot(pv.V, pv.C)\n",
    "plt.xlabel('V')\n",
    "plt.ylabel('I (mA)')\n",
    "plt.title('I(V) with varying Resistance')\n",
    "plt.savefig(\"../Images/l1_a_1.png\")\n",
    "plt.show()"
   ]
  },
  {
   "cell_type": "code",
   "execution_count": 40,
   "id": "polished-paper",
   "metadata": {
    "ExecuteTime": {
     "end_time": "2021-05-18T21:52:03.230526Z",
     "start_time": "2021-05-18T21:52:02.644554Z"
    },
    "hidden": true,
    "scrolled": true
   },
   "outputs": [
    {
     "data": {
      "image/png": "[encoded data removed]",
      "text/plain": [
       "<Figure size 648x396 with 1 Axes>"
      ]
     },
     "metadata": {},
     "output_type": "display_data"
    }
   ],
   "source": [
    "plt.figure(figsize = (9, 5.5))\n",
    "plt.plot(pv.R, pv.V*pv.C)\n",
    "plt.xscale('log')\n",
    "plt.xlabel('log R')\n",
    "plt.ylabel('P (mW)')\n",
    "plt.title('Output PVC Power with varying Resistance')\n",
    "plt.savefig(\"../Images/l1_a_2.png\")\n",
    "plt.show()"
   ]
  },
  {
   "cell_type": "markdown",
   "id": "flying-lodging",
   "metadata": {
    "heading_collapsed": true
   },
   "source": [
    "##### Results"
   ]
  },
  {
   "cell_type": "code",
   "execution_count": 18,
   "id": "favorite-compression",
   "metadata": {
    "ExecuteTime": {
     "end_time": "2021-05-18T21:39:06.054237Z",
     "start_time": "2021-05-18T21:39:06.051612Z"
    },
    "hidden": true
   },
   "outputs": [],
   "source": [
    "P = pv.V*pv.C # power in mW"
   ]
  },
  {
   "cell_type": "code",
   "execution_count": 19,
   "id": "detailed-tolerance",
   "metadata": {
    "ExecuteTime": {
     "end_time": "2021-05-18T21:39:06.344975Z",
     "start_time": "2021-05-18T21:39:06.340016Z"
    },
    "hidden": true
   },
   "outputs": [],
   "source": [
    "# quick aside to interpolate the peak just for fun"
   ]
  },
  {
   "cell_type": "code",
   "execution_count": 20,
   "id": "alert-interstate",
   "metadata": {
    "ExecuteTime": {
     "end_time": "2021-05-18T21:39:07.326826Z",
     "start_time": "2021-05-18T21:39:07.324519Z"
    },
    "hidden": true
   },
   "outputs": [],
   "source": [
    "from scipy.interpolate import interp1d"
   ]
  },
  {
   "cell_type": "code",
   "execution_count": 21,
   "id": "collective-jaguar",
   "metadata": {
    "ExecuteTime": {
     "end_time": "2021-05-18T21:39:07.821912Z",
     "start_time": "2021-05-18T21:39:07.814475Z"
    },
    "hidden": true
   },
   "outputs": [],
   "source": [
    "lmax = np.where(P==P.max())[0][0]"
   ]
  },
  {
   "cell_type": "code",
   "execution_count": 22,
   "id": "equal-graduation",
   "metadata": {
    "ExecuteTime": {
     "end_time": "2021-05-18T21:39:08.077710Z",
     "start_time": "2021-05-18T21:39:08.070919Z"
    },
    "hidden": true
   },
   "outputs": [],
   "source": [
    "inds = [lmax - 1, lmax, lmax + 1, lmax + 2]"
   ]
  },
  {
   "cell_type": "code",
   "execution_count": 39,
   "id": "reverse-cradle",
   "metadata": {
    "ExecuteTime": {
     "end_time": "2021-05-18T21:51:53.287582Z",
     "start_time": "2021-05-18T21:51:52.676055Z"
    },
    "hidden": true
   },
   "outputs": [
    {
     "data": {
      "image/png": "[encoded data removed]",
      "text/plain": [
       "<Figure size 648x396 with 1 Axes>"
      ]
     },
     "metadata": {},
     "output_type": "display_data"
    }
   ],
   "source": [
    "plt.figure(figsize = (9, 5.5))\n",
    "plt.plot(pv.R, pv.V*pv.C, label='Measured')\n",
    "inp = np.log10(pv.R[inds])\n",
    "interp = interp1d(np.log10(pv.R), P, 'cubic')\n",
    "x = np.linspace(inp.min(), inp.max(), 1000)\n",
    "y = interp(x)\n",
    "plt.plot(10**x, y, label = 'Spline')\n",
    "plt.legend()\n",
    "plt.xscale('log')\n",
    "plt.xlabel('log R')\n",
    "plt.ylabel('P (mW)')\n",
    "plt.ylim([0, 40])\n",
    "plt.title('Output PVC Power with varying Resistance')\n",
    "plt.savefig(\"../Images/l1_b_1.png\")\n",
    "plt.show()"
   ]
  },
  {
   "cell_type": "code",
   "execution_count": 26,
   "id": "hearing-gross",
   "metadata": {
    "ExecuteTime": {
     "end_time": "2021-05-18T21:39:36.830576Z",
     "start_time": "2021-05-18T21:39:36.827712Z"
    },
    "hidden": true
   },
   "outputs": [],
   "source": [
    "max_p_e = (pv.V*pv.C).max()*1e-3"
   ]
  },
  {
   "cell_type": "code",
   "execution_count": 27,
   "id": "knowing-glance",
   "metadata": {
    "ExecuteTime": {
     "end_time": "2021-05-18T21:39:39.882779Z",
     "start_time": "2021-05-18T21:39:39.879632Z"
    },
    "hidden": true
   },
   "outputs": [
    {
     "data": {
      "text/plain": [
       "'14.82 % Efficiency'"
      ]
     },
     "execution_count": 27,
     "metadata": {},
     "output_type": "execute_result"
    }
   ],
   "source": [
    "# n_pv = P_E/P_L\n",
    "f\"{np.round(max_p_e/total_avg_light_power * 100, 2)} % Efficiency\""
   ]
  },
  {
   "cell_type": "code",
   "execution_count": 28,
   "id": "dutch-efficiency",
   "metadata": {
    "ExecuteTime": {
     "end_time": "2021-05-18T21:39:40.257145Z",
     "start_time": "2021-05-18T21:39:40.248793Z"
    },
    "hidden": true
   },
   "outputs": [
    {
     "data": {
      "text/plain": [
       "'14.85 % Efficiency'"
      ]
     },
     "execution_count": 28,
     "metadata": {},
     "output_type": "execute_result"
    }
   ],
   "source": [
    "# n_pv = P_E/P_L\n",
    "# using estimate of peak\n",
    "f\"{np.round(y.max()/total_avg_light_power * 1e-3 * 100, 2)} % Efficiency\""
   ]
  },
  {
   "cell_type": "markdown",
   "id": "moral-discharge",
   "metadata": {},
   "source": [
    "#### Part C"
   ]
  },
  {
   "cell_type": "markdown",
   "id": "permanent-johnson",
   "metadata": {},
   "source": [
    "#####  starting values"
   ]
  },
  {
   "cell_type": "code",
   "execution_count": 139,
   "id": "external-dryer",
   "metadata": {
    "ExecuteTime": {
     "end_time": "2021-05-19T15:17:24.655475Z",
     "start_time": "2021-05-19T15:17:24.653200Z"
    }
   },
   "outputs": [],
   "source": [
    "vol = 5 #cm^3\n",
    "HHV = 1.42e8 \n",
    "LHV = 1.20e8 # J/kg\n",
    "M_H2 = 2.01e-3"
   ]
  },
  {
   "cell_type": "markdown",
   "id": "smart-being",
   "metadata": {},
   "source": [
    "##### measurements"
   ]
  },
  {
   "cell_type": "code",
   "execution_count": 45,
   "id": "employed-avenue",
   "metadata": {
    "ExecuteTime": {
     "end_time": "2021-05-19T14:11:26.063926Z",
     "start_time": "2021-05-19T14:11:26.058430Z"
    }
   },
   "outputs": [],
   "source": [
    "res = pd.DataFrame({\n",
    "    't': [112.5],\n",
    "    'V': [1.892],\n",
    "    'I': [0.3215]\n",
    "})"
   ]
  },
  {
   "cell_type": "markdown",
   "id": "public-album",
   "metadata": {
    "heading_collapsed": true
   },
   "source": [
    "##### Results"
   ]
  },
  {
   "cell_type": "code",
   "execution_count": null,
   "id": "engaged-living",
   "metadata": {
    "hidden": true
   },
   "outputs": [],
   "source": [
    "res.insert(3, 'P', res.V*res.I)\n",
    "res.insert(4, 'E', res.P*res.t)"
   ]
  },
  {
   "cell_type": "code",
   "execution_count": 46,
   "id": "royal-empire",
   "metadata": {
    "ExecuteTime": {
     "end_time": "2021-05-19T14:11:26.433968Z",
     "start_time": "2021-05-19T14:11:26.425962Z"
    },
    "hidden": true,
    "scrolled": true
   },
   "outputs": [
    {
     "data": {
      "text/html": [
       "<div>\n",
       "<style scoped>\n",
       "    .dataframe tbody tr th:only-of-type {\n",
       "        vertical-align: middle;\n",
       "    }\n",
       "\n",
       "    .dataframe tbody tr th {\n",
       "        vertical-align: top;\n",
       "    }\n",
       "\n",
       "    .dataframe thead th {\n",
       "        text-align: right;\n",
       "    }\n",
       "</style>\n",
       "<table border=\"1\" class=\"dataframe\">\n",
       "  <thead>\n",
       "    <tr style=\"text-align: right;\">\n",
       "      <th></th>\n",
       "      <th>t</th>\n",
       "      <th>V</th>\n",
       "      <th>I</th>\n",
       "      <th>P</th>\n",
       "      <th>E</th>\n",
       "    </tr>\n",
       "  </thead>\n",
       "  <tbody>\n",
       "    <tr>\n",
       "      <th>0</th>\n",
       "      <td>112.5</td>\n",
       "      <td>1.892</td>\n",
       "      <td>0.3215</td>\n",
       "      <td>0.608278</td>\n",
       "      <td>68.431275</td>\n",
       "    </tr>\n",
       "  </tbody>\n",
       "</table>\n",
       "</div>"
      ],
      "text/plain": [
       "       t      V       I         P          E\n",
       "0  112.5  1.892  0.3215  0.608278  68.431275"
      ]
     },
     "execution_count": 46,
     "metadata": {},
     "output_type": "execute_result"
    }
   ],
   "source": [
    "res"
   ]
  },
  {
   "cell_type": "markdown",
   "id": "million-observer",
   "metadata": {},
   "source": [
    "### Part D"
   ]
  },
  {
   "cell_type": "markdown",
   "id": "opening-subdivision",
   "metadata": {
    "heading_collapsed": true
   },
   "source": [
    "#### Trial 1"
   ]
  },
  {
   "cell_type": "code",
   "execution_count": 72,
   "id": "twelve-energy",
   "metadata": {
    "ExecuteTime": {
     "end_time": "2021-05-19T14:25:46.336273Z",
     "start_time": "2021-05-19T14:25:46.330614Z"
    },
    "hidden": true
   },
   "outputs": [],
   "source": [
    "res = pd.DataFrame([\n",
    "    [1, 0.079, 62.3, 0.0623, 0.0049217],\n",
    "    [3, 0.1942, 59.9, 0.0599, 0.01163258],\n",
    "    [3, 0.29, 88, 0.088, 0.02552],\n",
    "    [4, 0.505, 95.5, 0.0955, 0.0482275],\n",
    "    [5, 0.545, 86.4, 0.0864, 0.047088],\n",
    "    [7, 0.483, 58.6, 0.0586, 0.0283038],\n",
    "    [7, 0.4343, 52.7, 0.0527, 0.02288761],\n",
    "    [10, 0.496, 49.5, 0.0495, 0.024552],\n",
    "    [30, 0.626, 21.6, 0.0216, 0.0135216],\n",
    "    [100, 0.71, 7.9, 0.0079, 0.005609],\n",
    "    [300, 0.774, 3.5, 0.0035, 0.002709],\n",
    "    [1000, 0.83, 1.73, 0.00173, 0.0014359],\n",
    "    [3000, 0.855, 0.294, 0.000294, 0.00025137],\n",
    "    [10000, 0.872, 0.096, 0.000096, 0.000083712]],\n",
    "    columns=['R', 'V', 'I', 'I(A)', 'P'],\n",
    ")"
   ]
  },
  {
   "cell_type": "code",
   "execution_count": 73,
   "id": "regular-grammar",
   "metadata": {
    "ExecuteTime": {
     "end_time": "2021-05-19T14:25:46.643379Z",
     "start_time": "2021-05-19T14:25:46.632627Z"
    },
    "hidden": true
   },
   "outputs": [
    {
     "data": {
      "text/html": [
       "<div>\n",
       "<style scoped>\n",
       "    .dataframe tbody tr th:only-of-type {\n",
       "        vertical-align: middle;\n",
       "    }\n",
       "\n",
       "    .dataframe tbody tr th {\n",
       "        vertical-align: top;\n",
       "    }\n",
       "\n",
       "    .dataframe thead th {\n",
       "        text-align: right;\n",
       "    }\n",
       "</style>\n",
       "<table border=\"1\" class=\"dataframe\">\n",
       "  <thead>\n",
       "    <tr style=\"text-align: right;\">\n",
       "      <th></th>\n",
       "      <th>R</th>\n",
       "      <th>V</th>\n",
       "      <th>I</th>\n",
       "      <th>I(A)</th>\n",
       "      <th>P</th>\n",
       "    </tr>\n",
       "  </thead>\n",
       "  <tbody>\n",
       "    <tr>\n",
       "      <th>0</th>\n",
       "      <td>1</td>\n",
       "      <td>0.0790</td>\n",
       "      <td>62.300</td>\n",
       "      <td>0.062300</td>\n",
       "      <td>0.004922</td>\n",
       "    </tr>\n",
       "    <tr>\n",
       "      <th>1</th>\n",
       "      <td>3</td>\n",
       "      <td>0.1942</td>\n",
       "      <td>59.900</td>\n",
       "      <td>0.059900</td>\n",
       "      <td>0.011633</td>\n",
       "    </tr>\n",
       "    <tr>\n",
       "      <th>2</th>\n",
       "      <td>3</td>\n",
       "      <td>0.2900</td>\n",
       "      <td>88.000</td>\n",
       "      <td>0.088000</td>\n",
       "      <td>0.025520</td>\n",
       "    </tr>\n",
       "    <tr>\n",
       "      <th>3</th>\n",
       "      <td>4</td>\n",
       "      <td>0.5050</td>\n",
       "      <td>95.500</td>\n",
       "      <td>0.095500</td>\n",
       "      <td>0.048227</td>\n",
       "    </tr>\n",
       "    <tr>\n",
       "      <th>4</th>\n",
       "      <td>5</td>\n",
       "      <td>0.5450</td>\n",
       "      <td>86.400</td>\n",
       "      <td>0.086400</td>\n",
       "      <td>0.047088</td>\n",
       "    </tr>\n",
       "    <tr>\n",
       "      <th>5</th>\n",
       "      <td>7</td>\n",
       "      <td>0.4830</td>\n",
       "      <td>58.600</td>\n",
       "      <td>0.058600</td>\n",
       "      <td>0.028304</td>\n",
       "    </tr>\n",
       "    <tr>\n",
       "      <th>6</th>\n",
       "      <td>7</td>\n",
       "      <td>0.4343</td>\n",
       "      <td>52.700</td>\n",
       "      <td>0.052700</td>\n",
       "      <td>0.022888</td>\n",
       "    </tr>\n",
       "    <tr>\n",
       "      <th>7</th>\n",
       "      <td>10</td>\n",
       "      <td>0.4960</td>\n",
       "      <td>49.500</td>\n",
       "      <td>0.049500</td>\n",
       "      <td>0.024552</td>\n",
       "    </tr>\n",
       "    <tr>\n",
       "      <th>8</th>\n",
       "      <td>30</td>\n",
       "      <td>0.6260</td>\n",
       "      <td>21.600</td>\n",
       "      <td>0.021600</td>\n",
       "      <td>0.013522</td>\n",
       "    </tr>\n",
       "    <tr>\n",
       "      <th>9</th>\n",
       "      <td>100</td>\n",
       "      <td>0.7100</td>\n",
       "      <td>7.900</td>\n",
       "      <td>0.007900</td>\n",
       "      <td>0.005609</td>\n",
       "    </tr>\n",
       "    <tr>\n",
       "      <th>10</th>\n",
       "      <td>300</td>\n",
       "      <td>0.7740</td>\n",
       "      <td>3.500</td>\n",
       "      <td>0.003500</td>\n",
       "      <td>0.002709</td>\n",
       "    </tr>\n",
       "    <tr>\n",
       "      <th>11</th>\n",
       "      <td>1000</td>\n",
       "      <td>0.8300</td>\n",
       "      <td>1.730</td>\n",
       "      <td>0.001730</td>\n",
       "      <td>0.001436</td>\n",
       "    </tr>\n",
       "    <tr>\n",
       "      <th>12</th>\n",
       "      <td>3000</td>\n",
       "      <td>0.8550</td>\n",
       "      <td>0.294</td>\n",
       "      <td>0.000294</td>\n",
       "      <td>0.000251</td>\n",
       "    </tr>\n",
       "    <tr>\n",
       "      <th>13</th>\n",
       "      <td>10000</td>\n",
       "      <td>0.8720</td>\n",
       "      <td>0.096</td>\n",
       "      <td>0.000096</td>\n",
       "      <td>0.000084</td>\n",
       "    </tr>\n",
       "  </tbody>\n",
       "</table>\n",
       "</div>"
      ],
      "text/plain": [
       "        R       V       I      I(A)         P\n",
       "0       1  0.0790  62.300  0.062300  0.004922\n",
       "1       3  0.1942  59.900  0.059900  0.011633\n",
       "2       3  0.2900  88.000  0.088000  0.025520\n",
       "3       4  0.5050  95.500  0.095500  0.048227\n",
       "4       5  0.5450  86.400  0.086400  0.047088\n",
       "5       7  0.4830  58.600  0.058600  0.028304\n",
       "6       7  0.4343  52.700  0.052700  0.022888\n",
       "7      10  0.4960  49.500  0.049500  0.024552\n",
       "8      30  0.6260  21.600  0.021600  0.013522\n",
       "9     100  0.7100   7.900  0.007900  0.005609\n",
       "10    300  0.7740   3.500  0.003500  0.002709\n",
       "11   1000  0.8300   1.730  0.001730  0.001436\n",
       "12   3000  0.8550   0.294  0.000294  0.000251\n",
       "13  10000  0.8720   0.096  0.000096  0.000084"
      ]
     },
     "execution_count": 73,
     "metadata": {},
     "output_type": "execute_result"
    }
   ],
   "source": [
    "res"
   ]
  },
  {
   "cell_type": "code",
   "execution_count": 74,
   "id": "blessed-columbus",
   "metadata": {
    "ExecuteTime": {
     "end_time": "2021-05-19T14:25:47.396048Z",
     "start_time": "2021-05-19T14:25:47.394132Z"
    },
    "hidden": true
   },
   "outputs": [],
   "source": [
    "import seaborn as sns\n",
    "from scipy.optimize import curve_fit"
   ]
  },
  {
   "cell_type": "code",
   "execution_count": 85,
   "id": "anonymous-division",
   "metadata": {
    "ExecuteTime": {
     "end_time": "2021-05-19T14:30:06.030125Z",
     "start_time": "2021-05-19T14:30:05.617591Z"
    },
    "hidden": true
   },
   "outputs": [
    {
     "data": {
      "image/png": "[encoded data removed]",
      "text/plain": [
       "<Figure size 576x504 with 1 Axes>"
      ]
     },
     "metadata": {},
     "output_type": "display_data"
    }
   ],
   "source": [
    "n = sum(res.P[:5])\n",
    "mean = sum(res.R[:5]*res.P[:5])/n\n",
    "sigma = np.sqrt(sum(res.P[:5]*(res.R[:5]-mean)**2)/n)\n",
    "\n",
    "\n",
    "def gaus(x, a, x0, sigma, offset):\n",
    "    return a*np.exp(-(x-x0)**2/(2*sigma**2)) + offset\n",
    "\n",
    "\n",
    "popt, pcov = curve_fit(gaus, res.R[:5], res.P[:5], p0=[1, mean, sigma, 0.0])\n",
    "\n",
    "plt.scatter(res.R, res.P)\n",
    "plt.plot(10**np.linspace(0, 2, 100), gaus(10**np.linspace(0, 2, 100), *popt), 'b*:', label='fit')\n",
    "plt.xscale('log')\n",
    "plt.xlabel('R (Ohms)')\n",
    "plt.ylabel('P (J/s)')\n",
    "plt.show()"
   ]
  },
  {
   "cell_type": "markdown",
   "id": "therapeutic-coverage",
   "metadata": {},
   "source": [
    "#### Trial 2"
   ]
  },
  {
   "cell_type": "markdown",
   "id": "fuzzy-serial",
   "metadata": {
    "heading_collapsed": true
   },
   "source": [
    "##### Phase 1"
   ]
  },
  {
   "cell_type": "code",
   "execution_count": 121,
   "id": "further-administration",
   "metadata": {
    "ExecuteTime": {
     "end_time": "2021-05-19T14:55:41.393894Z",
     "start_time": "2021-05-19T14:55:41.379814Z"
    },
    "hidden": true
   },
   "outputs": [
    {
     "data": {
      "text/html": [
       "<div>\n",
       "<style scoped>\n",
       "    .dataframe tbody tr th:only-of-type {\n",
       "        vertical-align: middle;\n",
       "    }\n",
       "\n",
       "    .dataframe tbody tr th {\n",
       "        vertical-align: top;\n",
       "    }\n",
       "\n",
       "    .dataframe thead th {\n",
       "        text-align: right;\n",
       "    }\n",
       "</style>\n",
       "<table border=\"1\" class=\"dataframe\">\n",
       "  <thead>\n",
       "    <tr style=\"text-align: right;\">\n",
       "      <th></th>\n",
       "      <th>R</th>\n",
       "      <th>V</th>\n",
       "      <th>I</th>\n",
       "      <th>P</th>\n",
       "    </tr>\n",
       "  </thead>\n",
       "  <tbody>\n",
       "    <tr>\n",
       "      <th>0</th>\n",
       "      <td>1.0</td>\n",
       "      <td>0.05600</td>\n",
       "      <td>0.049000</td>\n",
       "      <td>2.744000e-03</td>\n",
       "    </tr>\n",
       "    <tr>\n",
       "      <th>1</th>\n",
       "      <td>3.0</td>\n",
       "      <td>0.12560</td>\n",
       "      <td>0.040500</td>\n",
       "      <td>5.086800e-03</td>\n",
       "    </tr>\n",
       "    <tr>\n",
       "      <th>2</th>\n",
       "      <td>4.0</td>\n",
       "      <td>0.16500</td>\n",
       "      <td>0.040000</td>\n",
       "      <td>6.600000e-03</td>\n",
       "    </tr>\n",
       "    <tr>\n",
       "      <th>3</th>\n",
       "      <td>5.0</td>\n",
       "      <td>0.12036</td>\n",
       "      <td>0.040000</td>\n",
       "      <td>4.814400e-03</td>\n",
       "    </tr>\n",
       "    <tr>\n",
       "      <th>4</th>\n",
       "      <td>6.0</td>\n",
       "      <td>0.24320</td>\n",
       "      <td>0.039400</td>\n",
       "      <td>9.582080e-03</td>\n",
       "    </tr>\n",
       "    <tr>\n",
       "      <th>5</th>\n",
       "      <td>7.0</td>\n",
       "      <td>0.28150</td>\n",
       "      <td>0.039800</td>\n",
       "      <td>1.120370e-02</td>\n",
       "    </tr>\n",
       "    <tr>\n",
       "      <th>6</th>\n",
       "      <td>8.0</td>\n",
       "      <td>0.35440</td>\n",
       "      <td>0.038500</td>\n",
       "      <td>1.364440e-02</td>\n",
       "    </tr>\n",
       "    <tr>\n",
       "      <th>7</th>\n",
       "      <td>9.0</td>\n",
       "      <td>0.38810</td>\n",
       "      <td>0.038260</td>\n",
       "      <td>1.484871e-02</td>\n",
       "    </tr>\n",
       "    <tr>\n",
       "      <th>8</th>\n",
       "      <td>10.0</td>\n",
       "      <td>0.41620</td>\n",
       "      <td>0.037610</td>\n",
       "      <td>1.565328e-02</td>\n",
       "    </tr>\n",
       "    <tr>\n",
       "      <th>9</th>\n",
       "      <td>15.0</td>\n",
       "      <td>0.54790</td>\n",
       "      <td>0.034600</td>\n",
       "      <td>1.895734e-02</td>\n",
       "    </tr>\n",
       "    <tr>\n",
       "      <th>10</th>\n",
       "      <td>20.0</td>\n",
       "      <td>0.62810</td>\n",
       "      <td>0.029960</td>\n",
       "      <td>1.881788e-02</td>\n",
       "    </tr>\n",
       "    <tr>\n",
       "      <th>11</th>\n",
       "      <td>30.0</td>\n",
       "      <td>0.71950</td>\n",
       "      <td>0.022930</td>\n",
       "      <td>1.649814e-02</td>\n",
       "    </tr>\n",
       "    <tr>\n",
       "      <th>12</th>\n",
       "      <td>60.0</td>\n",
       "      <td>0.78440</td>\n",
       "      <td>0.012300</td>\n",
       "      <td>9.648120e-03</td>\n",
       "    </tr>\n",
       "    <tr>\n",
       "      <th>13</th>\n",
       "      <td>100.0</td>\n",
       "      <td>0.83320</td>\n",
       "      <td>0.008310</td>\n",
       "      <td>6.923892e-03</td>\n",
       "    </tr>\n",
       "    <tr>\n",
       "      <th>14</th>\n",
       "      <td>500.0</td>\n",
       "      <td>0.88130</td>\n",
       "      <td>0.001850</td>\n",
       "      <td>1.630405e-03</td>\n",
       "    </tr>\n",
       "    <tr>\n",
       "      <th>15</th>\n",
       "      <td>1000.0</td>\n",
       "      <td>0.90070</td>\n",
       "      <td>0.000890</td>\n",
       "      <td>8.016230e-04</td>\n",
       "    </tr>\n",
       "    <tr>\n",
       "      <th>16</th>\n",
       "      <td>5000.0</td>\n",
       "      <td>0.91560</td>\n",
       "      <td>0.000180</td>\n",
       "      <td>1.649911e-04</td>\n",
       "    </tr>\n",
       "    <tr>\n",
       "      <th>17</th>\n",
       "      <td>10000.0</td>\n",
       "      <td>0.92200</td>\n",
       "      <td>0.000084</td>\n",
       "      <td>7.748488e-05</td>\n",
       "    </tr>\n",
       "    <tr>\n",
       "      <th>18</th>\n",
       "      <td>50000.0</td>\n",
       "      <td>0.92670</td>\n",
       "      <td>0.000018</td>\n",
       "      <td>1.687521e-05</td>\n",
       "    </tr>\n",
       "    <tr>\n",
       "      <th>19</th>\n",
       "      <td>100000.0</td>\n",
       "      <td>0.92720</td>\n",
       "      <td>0.000009</td>\n",
       "      <td>8.576600e-06</td>\n",
       "    </tr>\n",
       "    <tr>\n",
       "      <th>20</th>\n",
       "      <td>500000.0</td>\n",
       "      <td>0.92790</td>\n",
       "      <td>0.000002</td>\n",
       "      <td>1.800126e-06</td>\n",
       "    </tr>\n",
       "    <tr>\n",
       "      <th>21</th>\n",
       "      <td>1000000.0</td>\n",
       "      <td>0.92800</td>\n",
       "      <td>0.000001</td>\n",
       "      <td>9.372800e-07</td>\n",
       "    </tr>\n",
       "  </tbody>\n",
       "</table>\n",
       "</div>"
      ],
      "text/plain": [
       "            R        V         I             P\n",
       "0         1.0  0.05600  0.049000  2.744000e-03\n",
       "1         3.0  0.12560  0.040500  5.086800e-03\n",
       "2         4.0  0.16500  0.040000  6.600000e-03\n",
       "3         5.0  0.12036  0.040000  4.814400e-03\n",
       "4         6.0  0.24320  0.039400  9.582080e-03\n",
       "5         7.0  0.28150  0.039800  1.120370e-02\n",
       "6         8.0  0.35440  0.038500  1.364440e-02\n",
       "7         9.0  0.38810  0.038260  1.484871e-02\n",
       "8        10.0  0.41620  0.037610  1.565328e-02\n",
       "9        15.0  0.54790  0.034600  1.895734e-02\n",
       "10       20.0  0.62810  0.029960  1.881788e-02\n",
       "11       30.0  0.71950  0.022930  1.649814e-02\n",
       "12       60.0  0.78440  0.012300  9.648120e-03\n",
       "13      100.0  0.83320  0.008310  6.923892e-03\n",
       "14      500.0  0.88130  0.001850  1.630405e-03\n",
       "15     1000.0  0.90070  0.000890  8.016230e-04\n",
       "16     5000.0  0.91560  0.000180  1.649911e-04\n",
       "17    10000.0  0.92200  0.000084  7.748488e-05\n",
       "18    50000.0  0.92670  0.000018  1.687521e-05\n",
       "19   100000.0  0.92720  0.000009  8.576600e-06\n",
       "20   500000.0  0.92790  0.000002  1.800126e-06\n",
       "21  1000000.0  0.92800  0.000001  9.372800e-07"
      ]
     },
     "execution_count": 121,
     "metadata": {},
     "output_type": "execute_result"
    }
   ],
   "source": [
    "res = pd.DataFrame({\n",
    "    'R': [\n",
    "        1, 3, 4, 5, 6, 7, 8, 9, 10, 15, 20, 30,\n",
    "        60, 100, 500, 1000, 5000, 10000, 50000,\n",
    "        100000, 500000, 1e6, \n",
    "    ],\n",
    "    'V': [\n",
    "        0.0560, 0.1256, 0.165, 0.12036, 0.2432,\n",
    "        0.2815, 0.3544, 0.3881, 0.4162, 0.5479,\n",
    "        0.6281, 0.7195, 0.7844, 0.8332, 0.8813,\n",
    "        0.9007, 0.9156, 0.922, 0.9267, 0.9272, \n",
    "        0.9279, 0.9280, \n",
    "    ],\n",
    "    'I': [\n",
    "        0.049, 0.0405, 0.040, 0.040, 0.0394,\n",
    "        0.0398, 0.0385, 0.03826, 0.03761, 0.0346,\n",
    "        0.02996, 0.02293, 0.0123, 0.00831, 1.85e-3,\n",
    "        8.9e-4, .1802e-3, 84.04e-6, 18.21e-6, 9.25e-6,\n",
    "        1.94e-06, 1.01e-6\n",
    "    ]\n",
    "})\n",
    "res.insert(3, 'P', res.V*res.I)\n",
    "res"
   ]
  },
  {
   "cell_type": "code",
   "execution_count": 124,
   "id": "trained-holmes",
   "metadata": {
    "ExecuteTime": {
     "end_time": "2021-05-19T14:55:46.143432Z",
     "start_time": "2021-05-19T14:55:45.552961Z"
    },
    "hidden": true
   },
   "outputs": [
    {
     "data": {
      "image/png": "[encoded data removed]",
      "text/plain": [
       "<Figure size 576x504 with 1 Axes>"
      ]
     },
     "metadata": {},
     "output_type": "display_data"
    }
   ],
   "source": [
    "fit = np.polyfit(np.log10(res.R[3:11]), res.P[3:11], 2)\n",
    "x = np.linspace(.7, 1.7, 110)\n",
    "plt.plot(10**x, fit[0]*x**2 + fit[1]*x + fit[2])\n",
    "plt.scatter(res.R, res.P)\n",
    "plt.xscale('log')\n",
    "plt.xlabel('R (Ohms)')\n",
    "plt.ylabel('P (J/s)')\n",
    "plt.show()"
   ]
  },
  {
   "cell_type": "code",
   "execution_count": 128,
   "id": "genuine-civilization",
   "metadata": {
    "ExecuteTime": {
     "end_time": "2021-05-19T15:00:31.993420Z",
     "start_time": "2021-05-19T15:00:31.987466Z"
    },
    "hidden": true
   },
   "outputs": [
    {
     "data": {
      "text/plain": [
       "9    4.418417\n",
       "Name: P, dtype: float64"
      ]
     },
     "execution_count": 128,
     "metadata": {},
     "output_type": "execute_result"
    }
   ],
   "source": [
    "\"\"\"\n",
    "This value below corresponds to the difference in measured power at 15 ohms\n",
    "when zipping up through the resistance quickly and sitting at that resistance\n",
    "for some time. The power was 1/4.4 the size when resting.\n",
    "\"\"\"\n",
    "res.loc[res.P==res.P.max(), 'P']/(.2629*16.32e-3)"
   ]
  },
  {
   "cell_type": "markdown",
   "id": "medical-recipient",
   "metadata": {},
   "source": [
    "##### Phase 2"
   ]
  },
  {
   "cell_type": "markdown",
   "id": "fresh-repair",
   "metadata": {},
   "source": [
    "$ \\eta_{FC} = \\frac{E_{FC}}{E_{Hydrogen}}  = \\frac{P_{FC} \\cdot t_{FC}}{V_H \\cdot LHV} $"
   ]
  },
  {
   "cell_type": "code",
   "execution_count": 159,
   "id": "agreed-turner",
   "metadata": {
    "ExecuteTime": {
     "end_time": "2021-05-19T15:42:26.551520Z",
     "start_time": "2021-05-19T15:42:26.538337Z"
    }
   },
   "outputs": [],
   "source": [
    "res = pd.DataFrame({\n",
    "    'R': [\n",
    "        15, 10, 7, 9\n",
    "    ],\n",
    "    'Volume': [\n",
    "        3, 3, 5, 5\n",
    "    ],\n",
    "    'T': [\n",
    "        467.26, 8*60+19.78, 10*60 + 49.57, 60*9 + 57.19\n",
    "    ],\n",
    "    'I': [\n",
    "        16.24e-3, 50.86e-3, 56.22e-3, 53.57e-3\n",
    "    ],\n",
    "    'V': [\n",
    "        .2616, .586, 0.4658, 0.5462\n",
    "    ]\n",
    "})\n",
    "res['P'] = res['I'] * res['V']"
   ]
  },
  {
   "cell_type": "code",
   "execution_count": 160,
   "id": "altered-mexican",
   "metadata": {
    "ExecuteTime": {
     "end_time": "2021-05-19T15:42:27.080848Z",
     "start_time": "2021-05-19T15:42:27.064990Z"
    }
   },
   "outputs": [
    {
     "data": {
      "text/html": [
       "<div>\n",
       "<style scoped>\n",
       "    .dataframe tbody tr th:only-of-type {\n",
       "        vertical-align: middle;\n",
       "    }\n",
       "\n",
       "    .dataframe tbody tr th {\n",
       "        vertical-align: top;\n",
       "    }\n",
       "\n",
       "    .dataframe thead th {\n",
       "        text-align: right;\n",
       "    }\n",
       "</style>\n",
       "<table border=\"1\" class=\"dataframe\">\n",
       "  <thead>\n",
       "    <tr style=\"text-align: right;\">\n",
       "      <th></th>\n",
       "      <th>R</th>\n",
       "      <th>Volume</th>\n",
       "      <th>T</th>\n",
       "      <th>I</th>\n",
       "      <th>V</th>\n",
       "      <th>P</th>\n",
       "    </tr>\n",
       "  </thead>\n",
       "  <tbody>\n",
       "    <tr>\n",
       "      <th>0</th>\n",
       "      <td>15</td>\n",
       "      <td>3</td>\n",
       "      <td>467.26</td>\n",
       "      <td>0.01624</td>\n",
       "      <td>0.2616</td>\n",
       "      <td>0.004248</td>\n",
       "    </tr>\n",
       "    <tr>\n",
       "      <th>1</th>\n",
       "      <td>10</td>\n",
       "      <td>3</td>\n",
       "      <td>499.78</td>\n",
       "      <td>0.05086</td>\n",
       "      <td>0.5860</td>\n",
       "      <td>0.029804</td>\n",
       "    </tr>\n",
       "    <tr>\n",
       "      <th>2</th>\n",
       "      <td>7</td>\n",
       "      <td>5</td>\n",
       "      <td>649.57</td>\n",
       "      <td>0.05622</td>\n",
       "      <td>0.4658</td>\n",
       "      <td>0.026187</td>\n",
       "    </tr>\n",
       "    <tr>\n",
       "      <th>3</th>\n",
       "      <td>9</td>\n",
       "      <td>5</td>\n",
       "      <td>597.19</td>\n",
       "      <td>0.05357</td>\n",
       "      <td>0.5462</td>\n",
       "      <td>0.029260</td>\n",
       "    </tr>\n",
       "  </tbody>\n",
       "</table>\n",
       "</div>"
      ],
      "text/plain": [
       "    R  Volume       T        I       V         P\n",
       "0  15       3  467.26  0.01624  0.2616  0.004248\n",
       "1  10       3  499.78  0.05086  0.5860  0.029804\n",
       "2   7       5  649.57  0.05622  0.4658  0.026187\n",
       "3   9       5  597.19  0.05357  0.5462  0.029260"
      ]
     },
     "execution_count": 160,
     "metadata": {},
     "output_type": "execute_result"
    }
   ],
   "source": [
    "res"
   ]
  },
  {
   "cell_type": "code",
   "execution_count": 147,
   "id": "convertible-bridal",
   "metadata": {
    "ExecuteTime": {
     "end_time": "2021-05-19T15:22:51.329355Z",
     "start_time": "2021-05-19T15:22:51.327499Z"
    }
   },
   "outputs": [],
   "source": [
    "h_density = 0.08988 #g/L"
   ]
  },
  {
   "cell_type": "markdown",
   "id": "christian-communications",
   "metadata": {},
   "source": [
    "$ cm^3 $ to kilograms\n",
    "\n",
    "$ V_H cm^3 \\cdot \\sigma \\frac{g}{L} $\n",
    "\n",
    "$ V_H cm^3 \\cdot \\frac{1 L}{1000 cm^3} \\cdot \\sigma \n",
    "\\frac{g}{L} \\cdot \\frac{1 kg}{1000\\ g} = m\\ (kg) $"
   ]
  },
  {
   "cell_type": "code",
   "execution_count": 161,
   "id": "affiliated-distinction",
   "metadata": {
    "ExecuteTime": {
     "end_time": "2021-05-19T15:42:31.271255Z",
     "start_time": "2021-05-19T15:42:31.162978Z"
    }
   },
   "outputs": [
    {
     "data": {
      "text/plain": [
       "<matplotlib.collections.PathCollection at 0x7f64b6835fa0>"
      ]
     },
     "execution_count": 161,
     "metadata": {},
     "output_type": "execute_result"
    },
    {
     "data": {
      "image/png": "[encoded data removed]",
      "text/plain": [
       "<Figure size 576x504 with 1 Axes>"
      ]
     },
     "metadata": {},
     "output_type": "display_data"
    }
   ],
   "source": [
    "plt.scatter(res['R'], res['P'])\n",
    "# plt.xscale('log')"
   ]
  },
  {
   "cell_type": "code",
   "execution_count": 162,
   "id": "composite-texture",
   "metadata": {
    "ExecuteTime": {
     "end_time": "2021-05-19T15:42:48.132965Z",
     "start_time": "2021-05-19T15:42:48.120797Z"
    }
   },
   "outputs": [
    {
     "data": {
      "text/html": [
       "<div>\n",
       "<style scoped>\n",
       "    .dataframe tbody tr th:only-of-type {\n",
       "        vertical-align: middle;\n",
       "    }\n",
       "\n",
       "    .dataframe tbody tr th {\n",
       "        vertical-align: top;\n",
       "    }\n",
       "\n",
       "    .dataframe thead th {\n",
       "        text-align: right;\n",
       "    }\n",
       "</style>\n",
       "<table border=\"1\" class=\"dataframe\">\n",
       "  <thead>\n",
       "    <tr style=\"text-align: right;\">\n",
       "      <th></th>\n",
       "      <th>R</th>\n",
       "      <th>Volume</th>\n",
       "      <th>T</th>\n",
       "      <th>I</th>\n",
       "      <th>V</th>\n",
       "      <th>P</th>\n",
       "      <th>mass</th>\n",
       "    </tr>\n",
       "  </thead>\n",
       "  <tbody>\n",
       "    <tr>\n",
       "      <th>0</th>\n",
       "      <td>15</td>\n",
       "      <td>3</td>\n",
       "      <td>467.26</td>\n",
       "      <td>0.01624</td>\n",
       "      <td>0.2616</td>\n",
       "      <td>0.004248</td>\n",
       "      <td>2.351261e-08</td>\n",
       "    </tr>\n",
       "    <tr>\n",
       "      <th>1</th>\n",
       "      <td>10</td>\n",
       "      <td>3</td>\n",
       "      <td>499.78</td>\n",
       "      <td>0.05086</td>\n",
       "      <td>0.5860</td>\n",
       "      <td>0.029804</td>\n",
       "      <td>5.266968e-08</td>\n",
       "    </tr>\n",
       "    <tr>\n",
       "      <th>2</th>\n",
       "      <td>7</td>\n",
       "      <td>5</td>\n",
       "      <td>649.57</td>\n",
       "      <td>0.05622</td>\n",
       "      <td>0.4658</td>\n",
       "      <td>0.026187</td>\n",
       "      <td>4.186610e-08</td>\n",
       "    </tr>\n",
       "    <tr>\n",
       "      <th>3</th>\n",
       "      <td>9</td>\n",
       "      <td>5</td>\n",
       "      <td>597.19</td>\n",
       "      <td>0.05357</td>\n",
       "      <td>0.5462</td>\n",
       "      <td>0.029260</td>\n",
       "      <td>4.909246e-08</td>\n",
       "    </tr>\n",
       "  </tbody>\n",
       "</table>\n",
       "</div>"
      ],
      "text/plain": [
       "    R  Volume       T        I       V         P          mass\n",
       "0  15       3  467.26  0.01624  0.2616  0.004248  2.351261e-08\n",
       "1  10       3  499.78  0.05086  0.5860  0.029804  5.266968e-08\n",
       "2   7       5  649.57  0.05622  0.4658  0.026187  4.186610e-08\n",
       "3   9       5  597.19  0.05357  0.5462  0.029260  4.909246e-08"
      ]
     },
     "execution_count": 162,
     "metadata": {},
     "output_type": "execute_result"
    }
   ],
   "source": [
    "res['mass'] = res['V'] * 1e-3 * h_density * 1/1000\n",
    "res"
   ]
  },
  {
   "cell_type": "code",
   "execution_count": 157,
   "id": "intermediate-edinburgh",
   "metadata": {
    "ExecuteTime": {
     "end_time": "2021-05-19T15:40:22.355998Z",
     "start_time": "2021-05-19T15:40:22.346050Z"
    }
   },
   "outputs": [],
   "source": [
    "res['E_FC'], (res['T'] * res['P']))\n",
    "res['E_H'], res['mass'] * LHV)"
   ]
  },
  {
   "cell_type": "code",
   "execution_count": 158,
   "id": "modular-revolution",
   "metadata": {
    "ExecuteTime": {
     "end_time": "2021-05-19T15:40:33.935834Z",
     "start_time": "2021-05-19T15:40:33.924137Z"
    }
   },
   "outputs": [
    {
     "data": {
      "text/plain": [
       "0    0.703559\n",
       "1    2.356736\n",
       "2    3.385887\n",
       "3    2.966128\n",
       "dtype: float64"
      ]
     },
     "execution_count": 158,
     "metadata": {},
     "output_type": "execute_result"
    }
   ],
   "source": [
    "res['E_FC']/res['E_H']"
   ]
  },
  {
   "cell_type": "code",
   "execution_count": null,
   "id": "heated-logan",
   "metadata": {},
   "outputs": [],
   "source": []
  }
 ],
 "metadata": {
  "kernelspec": {
   "display_name": "Python 3",
   "language": "python",
   "name": "python3"
  },
  "language_info": {
   "codemirror_mode": {
    "name": "ipython",
    "version": 3
   },
   "file_extension": ".py",
   "mimetype": "text/x-python",
   "name": "python",
   "nbconvert_exporter": "python",
   "pygments_lexer": "ipython3",
   "version": "3.8.8"
  },
  "toc": {
   "base_numbering": 1,
   "nav_menu": {},
   "number_sections": true,
   "sideBar": true,
   "skip_h1_title": false,
   "title_cell": "Table of Contents",
   "title_sidebar": "Contents",
   "toc_cell": false,
   "toc_position": {},
   "toc_section_display": true,
   "toc_window_display": false
  }
 },
 "nbformat": 4,
 "nbformat_minor": 5
}
