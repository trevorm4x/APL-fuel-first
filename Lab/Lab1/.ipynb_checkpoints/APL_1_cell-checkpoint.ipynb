{
 "cells": [
  {
   "cell_type": "code",
   "execution_count": 1,
   "id": "sacred-korea",
   "metadata": {
    "ExecuteTime": {
     "end_time": "2021-05-18T21:35:13.667864Z",
     "start_time": "2021-05-18T21:35:12.791920Z"
    }
   },
   "outputs": [],
   "source": [
    "import numpy as np\n",
    "import pandas as pd\n",
    "import matplotlib.pyplot as plt"
   ]
  },
  {
   "cell_type": "code",
   "execution_count": 2,
   "id": "found-cooperative",
   "metadata": {
    "ExecuteTime": {
     "end_time": "2021-05-18T21:35:13.999572Z",
     "start_time": "2021-05-18T21:35:13.669330Z"
    }
   },
   "outputs": [],
   "source": [
    "from jupyterthemes import jtplot\n",
    "jtplot.style(theme = 'monokai', context = 'notebook', ticks = False, grid = False)"
   ]
  },
  {
   "cell_type": "markdown",
   "id": "valuable-investor",
   "metadata": {},
   "source": [
    "#### PV"
   ]
  },
  {
   "cell_type": "markdown",
   "id": "western-deadline",
   "metadata": {},
   "source": [
    "##### Basic starting measurements"
   ]
  },
  {
   "cell_type": "code",
   "execution_count": 3,
   "id": "configured-position",
   "metadata": {
    "ExecuteTime": {
     "end_time": "2021-05-18T21:35:17.087924Z",
     "start_time": "2021-05-18T21:35:17.085492Z"
    }
   },
   "outputs": [],
   "source": [
    "meter_readings = np.array([\n",
    "    [22.7,23.9,24.2,23.1],\n",
    "    [22.2,26.2,32.9,26.2]\n",
    "])"
   ]
  },
  {
   "cell_type": "code",
   "execution_count": 48,
   "id": "involved-glasgow",
   "metadata": {
    "ExecuteTime": {
     "end_time": "2021-05-17T15:22:48.819760Z",
     "start_time": "2021-05-17T15:22:48.816405Z"
    }
   },
   "outputs": [
    {
     "data": {
      "text/plain": [
       "array([[1.816, 1.912, 1.936, 1.848],\n",
       "       [1.776, 2.096, 2.632, 2.096]])"
      ]
     },
     "execution_count": 48,
     "metadata": {},
     "output_type": "execute_result"
    }
   ],
   "source": [
    "true_power = meter_readings/12.5\n",
    "true_power # mW"
   ]
  },
  {
   "cell_type": "code",
   "execution_count": 91,
   "id": "continuing-operation",
   "metadata": {
    "ExecuteTime": {
     "end_time": "2021-05-17T15:39:40.066835Z",
     "start_time": "2021-05-17T15:39:40.056285Z"
    }
   },
   "outputs": [
    {
     "data": {
      "text/plain": [
       "0.0020139999999999997"
      ]
     },
     "execution_count": 91,
     "metadata": {},
     "output_type": "execute_result"
    }
   ],
   "source": [
    "avg_power = true_power.mean().mean()*1e-3\n",
    "avg_power # W"
   ]
  },
  {
   "cell_type": "code",
   "execution_count": 92,
   "id": "weird-cycle",
   "metadata": {
    "ExecuteTime": {
     "end_time": "2021-05-17T15:39:49.822878Z",
     "start_time": "2021-05-17T15:39:49.819583Z"
    }
   },
   "outputs": [
    {
     "data": {
      "text/plain": [
       "7.08821842466197e-05"
      ]
     },
     "execution_count": 92,
     "metadata": {},
     "output_type": "execute_result"
    }
   ],
   "source": [
    "meter_area = (9.5e-3/2)**2*np.pi\n",
    "meter_area # m^2"
   ]
  },
  {
   "cell_type": "code",
   "execution_count": 40,
   "id": "elementary-stranger",
   "metadata": {
    "ExecuteTime": {
     "end_time": "2021-05-17T15:18:40.701767Z",
     "start_time": "2021-05-17T15:18:40.699766Z"
    }
   },
   "outputs": [],
   "source": [
    "pvc_dimensions = [0.0985, 0.0785]  # in meters\n",
    "pvc_area = pvc_dimensions[0]*pvc_dimensions[1]\n",
    "\n",
    "single_cell_dimension = []  # in meters\n",
    "n_cells = 8\n",
    "pvc_area = single_cell_dimension[0] * single_cell_dimension[1] * n_cells"
   ]
  },
  {
   "cell_type": "markdown",
   "id": "essential-invasion",
   "metadata": {},
   "source": [
    "##### Prelim calculations"
   ]
  },
  {
   "cell_type": "code",
   "execution_count": 37,
   "id": "honey-standing",
   "metadata": {
    "ExecuteTime": {
     "end_time": "2021-05-17T15:00:01.791679Z",
     "start_time": "2021-05-17T15:00:01.788640Z"
    }
   },
   "outputs": [],
   "source": [
    "avg_intensity = avg_power/meter_area"
   ]
  },
  {
   "cell_type": "code",
   "execution_count": 39,
   "id": "rough-layer",
   "metadata": {
    "ExecuteTime": {
     "end_time": "2021-05-17T15:00:09.900511Z",
     "start_time": "2021-05-17T15:00:09.897825Z"
    }
   },
   "outputs": [
    {
     "data": {
      "text/plain": [
       "28.41334562987942"
      ]
     },
     "execution_count": 39,
     "metadata": {},
     "output_type": "execute_result"
    }
   ],
   "source": [
    "avg_intensity"
   ]
  },
  {
   "cell_type": "code",
   "execution_count": 41,
   "id": "integral-island",
   "metadata": {
    "ExecuteTime": {
     "end_time": "2021-05-17T15:18:43.378611Z",
     "start_time": "2021-05-17T15:18:43.376427Z"
    }
   },
   "outputs": [],
   "source": [
    "total_avg_light_power = avg_intensity * pvc_area"
   ]
  },
  {
   "cell_type": "code",
   "execution_count": 93,
   "id": "challenging-barrel",
   "metadata": {
    "ExecuteTime": {
     "end_time": "2021-05-17T15:42:00.816695Z",
     "start_time": "2021-05-17T15:42:00.808767Z"
    }
   },
   "outputs": [
    {
     "data": {
      "text/plain": [
       "(0.21969909174663516, 'Watts')"
      ]
     },
     "execution_count": 93,
     "metadata": {},
     "output_type": "execute_result"
    }
   ],
   "source": [
    "total_avg_light_power # Watts"
   ]
  },
  {
   "cell_type": "markdown",
   "id": "hydraulic-voltage",
   "metadata": {},
   "source": [
    "##### Main test measurements"
   ]
  },
  {
   "cell_type": "code",
   "execution_count": 12,
   "id": "antique-calculator",
   "metadata": {
    "ExecuteTime": {
     "end_time": "2021-05-17T14:41:30.223948Z",
     "start_time": "2021-05-17T14:41:30.219849Z"
    }
   },
   "outputs": [],
   "source": [
    "pv = pd.DataFrame({\n",
    "    'R': [\n",
    "        0.1, 3, 10, 30, 70, 100, 150, 300,\n",
    "        500, 800, 1e3, 5e3, 10e3, 5e4, 8e4, 1e5,\n",
    "        5e5, 1e6\n",
    "    ],\n",
    "    'C': [\n",
    "        23.77, 23.7, 23.67, 23.52, 21.3, 17.2,\n",
    "        12.29, 6.49, 3.98, 2.54, 2.05, 0.3886,\n",
    "        .1971, .03088, .02454, .01957, .00403,\n",
    "        .00206\n",
    "    ],\n",
    "    'V': [\n",
    "        .02918, .1014, .2645, .7361, 1.529, 1.7444,\n",
    "        1.8527, 1.9285, 1.9528, 1.9651, 1.97, 1.9816,\n",
    "        1.9829, 1.9838, 1.9843, 1.9834, 1.9832, 1.985\n",
    "    ]\n",
    "})"
   ]
  },
  {
   "cell_type": "code",
   "execution_count": 21,
   "id": "warming-integrity",
   "metadata": {
    "ExecuteTime": {
     "end_time": "2021-05-17T14:48:47.674902Z",
     "start_time": "2021-05-17T14:48:47.667172Z"
    }
   },
   "outputs": [
    {
     "data": {
      "text/html": [
       "<div>\n",
       "<style scoped>\n",
       "    .dataframe tbody tr th:only-of-type {\n",
       "        vertical-align: middle;\n",
       "    }\n",
       "\n",
       "    .dataframe tbody tr th {\n",
       "        vertical-align: top;\n",
       "    }\n",
       "\n",
       "    .dataframe thead th {\n",
       "        text-align: right;\n",
       "    }\n",
       "</style>\n",
       "<table border=\"1\" class=\"dataframe\">\n",
       "  <thead>\n",
       "    <tr style=\"text-align: right;\">\n",
       "      <th></th>\n",
       "      <th>R</th>\n",
       "      <th>C</th>\n",
       "      <th>V</th>\n",
       "    </tr>\n",
       "  </thead>\n",
       "  <tbody>\n",
       "    <tr>\n",
       "      <th>0</th>\n",
       "      <td>0.1</td>\n",
       "      <td>23.77000</td>\n",
       "      <td>0.02918</td>\n",
       "    </tr>\n",
       "    <tr>\n",
       "      <th>1</th>\n",
       "      <td>3.0</td>\n",
       "      <td>23.70000</td>\n",
       "      <td>0.10140</td>\n",
       "    </tr>\n",
       "    <tr>\n",
       "      <th>2</th>\n",
       "      <td>10.0</td>\n",
       "      <td>23.67000</td>\n",
       "      <td>0.26450</td>\n",
       "    </tr>\n",
       "    <tr>\n",
       "      <th>3</th>\n",
       "      <td>30.0</td>\n",
       "      <td>23.52000</td>\n",
       "      <td>0.73610</td>\n",
       "    </tr>\n",
       "    <tr>\n",
       "      <th>4</th>\n",
       "      <td>70.0</td>\n",
       "      <td>21.30000</td>\n",
       "      <td>1.52900</td>\n",
       "    </tr>\n",
       "    <tr>\n",
       "      <th>5</th>\n",
       "      <td>100.0</td>\n",
       "      <td>17.20000</td>\n",
       "      <td>1.74440</td>\n",
       "    </tr>\n",
       "    <tr>\n",
       "      <th>6</th>\n",
       "      <td>150.0</td>\n",
       "      <td>12.29000</td>\n",
       "      <td>1.85270</td>\n",
       "    </tr>\n",
       "    <tr>\n",
       "      <th>7</th>\n",
       "      <td>300.0</td>\n",
       "      <td>6.49000</td>\n",
       "      <td>1.92850</td>\n",
       "    </tr>\n",
       "    <tr>\n",
       "      <th>8</th>\n",
       "      <td>500.0</td>\n",
       "      <td>3.98000</td>\n",
       "      <td>1.95280</td>\n",
       "    </tr>\n",
       "    <tr>\n",
       "      <th>9</th>\n",
       "      <td>800.0</td>\n",
       "      <td>2.54000</td>\n",
       "      <td>1.96510</td>\n",
       "    </tr>\n",
       "    <tr>\n",
       "      <th>10</th>\n",
       "      <td>1000.0</td>\n",
       "      <td>2.05000</td>\n",
       "      <td>1.97000</td>\n",
       "    </tr>\n",
       "    <tr>\n",
       "      <th>11</th>\n",
       "      <td>5000.0</td>\n",
       "      <td>0.38860</td>\n",
       "      <td>1.98160</td>\n",
       "    </tr>\n",
       "    <tr>\n",
       "      <th>12</th>\n",
       "      <td>10000.0</td>\n",
       "      <td>0.19710</td>\n",
       "      <td>1.98290</td>\n",
       "    </tr>\n",
       "    <tr>\n",
       "      <th>13</th>\n",
       "      <td>50000.0</td>\n",
       "      <td>0.03088</td>\n",
       "      <td>1.98380</td>\n",
       "    </tr>\n",
       "    <tr>\n",
       "      <th>14</th>\n",
       "      <td>80000.0</td>\n",
       "      <td>0.02454</td>\n",
       "      <td>1.98430</td>\n",
       "    </tr>\n",
       "    <tr>\n",
       "      <th>15</th>\n",
       "      <td>100000.0</td>\n",
       "      <td>0.01957</td>\n",
       "      <td>1.98340</td>\n",
       "    </tr>\n",
       "    <tr>\n",
       "      <th>16</th>\n",
       "      <td>500000.0</td>\n",
       "      <td>0.00403</td>\n",
       "      <td>1.98320</td>\n",
       "    </tr>\n",
       "    <tr>\n",
       "      <th>17</th>\n",
       "      <td>1000000.0</td>\n",
       "      <td>0.00206</td>\n",
       "      <td>1.98500</td>\n",
       "    </tr>\n",
       "  </tbody>\n",
       "</table>\n",
       "</div>"
      ],
      "text/plain": [
       "            R         C        V\n",
       "0         0.1  23.77000  0.02918\n",
       "1         3.0  23.70000  0.10140\n",
       "2        10.0  23.67000  0.26450\n",
       "3        30.0  23.52000  0.73610\n",
       "4        70.0  21.30000  1.52900\n",
       "5       100.0  17.20000  1.74440\n",
       "6       150.0  12.29000  1.85270\n",
       "7       300.0   6.49000  1.92850\n",
       "8       500.0   3.98000  1.95280\n",
       "9       800.0   2.54000  1.96510\n",
       "10     1000.0   2.05000  1.97000\n",
       "11     5000.0   0.38860  1.98160\n",
       "12    10000.0   0.19710  1.98290\n",
       "13    50000.0   0.03088  1.98380\n",
       "14    80000.0   0.02454  1.98430\n",
       "15   100000.0   0.01957  1.98340\n",
       "16   500000.0   0.00403  1.98320\n",
       "17  1000000.0   0.00206  1.98500"
      ]
     },
     "execution_count": 21,
     "metadata": {},
     "output_type": "execute_result"
    }
   ],
   "source": [
    "pv"
   ]
  },
  {
   "cell_type": "markdown",
   "id": "arabic-singing",
   "metadata": {},
   "source": [
    "##### Analysis"
   ]
  },
  {
   "cell_type": "code",
   "execution_count": 51,
   "id": "intensive-government",
   "metadata": {
    "ExecuteTime": {
     "end_time": "2021-05-17T15:25:34.755847Z",
     "start_time": "2021-05-17T15:25:34.639202Z"
    }
   },
   "outputs": [
    {
     "data": {
      "text/plain": [
       "Text(0.5, 1.0, 'I(V) with varying Resistance')"
      ]
     },
     "execution_count": 51,
     "metadata": {},
     "output_type": "execute_result"
    },
    {
     "data": {
      "image/png": "[encoded data removed]",
      "text/plain": [
       "<Figure size 576x504 with 1 Axes>"
      ]
     },
     "metadata": {},
     "output_type": "display_data"
    }
   ],
   "source": [
    "plt.plot(pv.V, pv.C)\n",
    "plt.xlabel('V')\n",
    "plt.ylabel('I (mA)')\n",
    "plt.title('I(V) with varying Resistance')"
   ]
  },
  {
   "cell_type": "code",
   "execution_count": 52,
   "id": "aware-sociology",
   "metadata": {
    "ExecuteTime": {
     "end_time": "2021-05-17T15:27:56.379363Z",
     "start_time": "2021-05-17T15:27:55.731033Z"
    }
   },
   "outputs": [
    {
     "data": {
      "text/plain": [
       "Text(0.5, 1.0, 'Output PVC Power with varying Resistance')"
      ]
     },
     "execution_count": 52,
     "metadata": {},
     "output_type": "execute_result"
    },
    {
     "data": {
      "image/png": "[encoded data removed]",
      "text/plain": [
       "<Figure size 576x504 with 1 Axes>"
      ]
     },
     "metadata": {},
     "output_type": "display_data"
    }
   ],
   "source": [
    "plt.plot(pv.R, pv.V*pv.C)\n",
    "plt.xscale('log')\n",
    "plt.xlabel('log R')\n",
    "plt.ylabel('P (mW)')\n",
    "plt.title('Output PVC Power with varying Resistance')"
   ]
  },
  {
   "cell_type": "markdown",
   "id": "after-bargain",
   "metadata": {},
   "source": [
    "##### Results"
   ]
  },
  {
   "cell_type": "code",
   "execution_count": 94,
   "id": "encouraging-tours",
   "metadata": {
    "ExecuteTime": {
     "end_time": "2021-05-17T15:43:00.094122Z",
     "start_time": "2021-05-17T15:43:00.090906Z"
    }
   },
   "outputs": [],
   "source": [
    "P = pv.V*pv.C # power in mW"
   ]
  },
  {
   "cell_type": "code",
   "execution_count": 165,
   "id": "reflected-arthritis",
   "metadata": {
    "ExecuteTime": {
     "end_time": "2021-05-17T16:08:51.556118Z",
     "start_time": "2021-05-17T16:08:51.551535Z"
    }
   },
   "outputs": [],
   "source": [
    "# quick aside to interpolate the peak just for fun"
   ]
  },
  {
   "cell_type": "code",
   "execution_count": 125,
   "id": "unavailable-green",
   "metadata": {
    "ExecuteTime": {
     "end_time": "2021-05-17T15:58:53.973704Z",
     "start_time": "2021-05-17T15:58:53.968493Z"
    }
   },
   "outputs": [],
   "source": [
    "from scipy.interpolate import interp1d"
   ]
  },
  {
   "cell_type": "code",
   "execution_count": 146,
   "id": "alien-appeal",
   "metadata": {
    "ExecuteTime": {
     "end_time": "2021-05-17T16:05:32.208545Z",
     "start_time": "2021-05-17T16:05:32.202977Z"
    }
   },
   "outputs": [],
   "source": [
    "lmax = np.where(P==P.max())[0][0]"
   ]
  },
  {
   "cell_type": "code",
   "execution_count": 159,
   "id": "saved-symbol",
   "metadata": {
    "ExecuteTime": {
     "end_time": "2021-05-17T16:07:57.501540Z",
     "start_time": "2021-05-17T16:07:57.497010Z"
    }
   },
   "outputs": [],
   "source": [
    "inds = [lmax - 1, lmax, lmax + 1, lmax + 2]"
   ]
  },
  {
   "cell_type": "code",
   "execution_count": 160,
   "id": "opening-belfast",
   "metadata": {
    "ExecuteTime": {
     "end_time": "2021-05-17T16:07:58.151292Z",
     "start_time": "2021-05-17T16:07:58.141550Z"
    }
   },
   "outputs": [],
   "source": [
    "inp = np.log10(pv.R[inds])\n",
    "interp = interp1d(np.log10(pv.R), P, 'cubic')"
   ]
  },
  {
   "cell_type": "code",
   "execution_count": 161,
   "id": "expanded-fossil",
   "metadata": {
    "ExecuteTime": {
     "end_time": "2021-05-17T16:07:58.885302Z",
     "start_time": "2021-05-17T16:07:58.428114Z"
    }
   },
   "outputs": [
    {
     "data": {
      "text/plain": [
       "Text(0.5, 1.0, 'Output PVC Power with varying Resistance')"
      ]
     },
     "execution_count": 161,
     "metadata": {},
     "output_type": "execute_result"
    },
    {
     "data": {
      "image/png": "[encoded data removed]",
      "text/plain": [
       "<Figure size 576x504 with 1 Axes>"
      ]
     },
     "metadata": {},
     "output_type": "display_data"
    }
   ],
   "source": [
    "plt.plot(pv.R, pv.V*pv.C, label='Measured')\n",
    "x = np.linspace(inp.min(), inp.max(), 1000)\n",
    "y = interp(x)\n",
    "plt.plot(10**x, y, label = 'Spline')\n",
    "plt.legend()\n",
    "plt.xscale('log')\n",
    "plt.xlabel('log R')\n",
    "plt.ylabel('P (mW)')\n",
    "plt.ylim([0, 40])\n",
    "plt.title('Output PVC Power with varying Resistance')"
   ]
  },
  {
   "cell_type": "code",
   "execution_count": 162,
   "id": "dense-satin",
   "metadata": {
    "ExecuteTime": {
     "end_time": "2021-05-17T16:08:03.269410Z",
     "start_time": "2021-05-17T16:08:03.266584Z"
    }
   },
   "outputs": [],
   "source": [
    "max_p_e = (pv.V*pv.C).max()*1e-3"
   ]
  },
  {
   "cell_type": "code",
   "execution_count": 163,
   "id": "combined-treatment",
   "metadata": {
    "ExecuteTime": {
     "end_time": "2021-05-17T16:08:03.446100Z",
     "start_time": "2021-05-17T16:08:03.439831Z"
    }
   },
   "outputs": [
    {
     "data": {
      "text/plain": [
       "'14.82 % Efficiency'"
      ]
     },
     "execution_count": 163,
     "metadata": {},
     "output_type": "execute_result"
    }
   ],
   "source": [
    "# n_pv = P_E/P_L\n",
    "f\"{np.round(max_p_e/total_avg_light_power * 100, 2)} % Efficiency\""
   ]
  },
  {
   "cell_type": "code",
   "execution_count": 164,
   "id": "broken-thing",
   "metadata": {
    "ExecuteTime": {
     "end_time": "2021-05-17T16:08:03.578748Z",
     "start_time": "2021-05-17T16:08:03.573581Z"
    }
   },
   "outputs": [
    {
     "data": {
      "text/plain": [
       "'14.85 % Efficiency'"
      ]
     },
     "execution_count": 164,
     "metadata": {},
     "output_type": "execute_result"
    }
   ],
   "source": [
    "# n_pv = P_E/P_L\n",
    "# using estimate of peak\n",
    "f\"{np.round(y.max()/total_avg_light_power * 1e-3 * 100, 2)} % Efficiency\""
   ]
  },
  {
   "cell_type": "markdown",
   "id": "mediterranean-shade",
   "metadata": {},
   "source": [
    "#### "
   ]
  }
 ],
 "metadata": {
  "kernelspec": {
   "display_name": "Python 3",
   "language": "python",
   "name": "python3"
  },
  "language_info": {
   "codemirror_mode": {
    "name": "ipython",
    "version": 3
   },
   "file_extension": ".py",
   "mimetype": "text/x-python",
   "name": "python",
   "nbconvert_exporter": "python",
   "pygments_lexer": "ipython3",
   "version": "3.8.8"
  },
  "toc": {
   "base_numbering": 1,
   "nav_menu": {},
   "number_sections": true,
   "sideBar": true,
   "skip_h1_title": false,
   "title_cell": "Table of Contents",
   "title_sidebar": "Contents",
   "toc_cell": false,
   "toc_position": {},
   "toc_section_display": true,
   "toc_window_display": false
  }
 },
 "nbformat": 4,
 "nbformat_minor": 5
}
