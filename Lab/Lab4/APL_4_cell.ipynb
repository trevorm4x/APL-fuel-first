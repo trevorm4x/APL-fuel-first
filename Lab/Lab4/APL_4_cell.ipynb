{
 "cells": [
  {
   "cell_type": "code",
   "execution_count": null,
   "id": "4b47bf21",
   "metadata": {
    "ExecuteTime": {
     "end_time": "2021-06-10T01:29:53.004454Z",
     "start_time": "2021-06-10T01:29:51.720455Z"
    },
    "code_folding": []
   },
   "outputs": [],
   "source": [
    "if True:\n",
    "    import numpy as np\n",
    "    import pandas as pd\n",
    "\n",
    "    # Add lab library\n",
    "    import sys\n",
    "    sys.path.insert(0, '/home/trevormjs/Documents/Science/APL/Lab')\n",
    "\n",
    "    #---------------------------------------------------------------------#\n",
    "    #                        matplotlib plotting                          #\n",
    "    #---------------------------------------------------------------------#\n",
    "    import matplotlib.pyplot as plt\n",
    "    import matplotlib as mpl\n",
    "    from jupyterthemes import jtplot\n",
    "    from Helper.plotting import my_graph\n",
    "    # Edit the font, font size, and axes width\n",
    "    # mpl.rcParams['font.family'] = 'Avenir'\n",
    "    plt.rcParams['font.size'] = 24\n",
    "    plt.rcParams['axes.linewidth'] = 2\n",
    "    jtplot.style(theme='monokai', context='notebook', ticks=False, grid=False)\n",
    "\n",
    "    #---------------------------------------------------------------------#\n",
    "    #                           bokeh plotting                            #\n",
    "    #---------------------------------------------------------------------#\n",
    "    from bokeh.plotting import figure, show, output_notebook\n",
    "    from bokeh.themes import Theme\n",
    "    from bokeh.io import curdoc, export_png\n",
    "    from bokeh.models import Range1d, Label, ColumnDataSource, LabelSet\n",
    "    from Helper.plotting import style\n",
    "    output_notebook()\n",
    "    # curdoc().theme = Theme(filename=\"../Helper/theme.yml\")\n",
    "\n",
    "    #---------------------------------------------------------------------#\n",
    "    #                       error and unit handling                       #\n",
    "    #---------------------------------------------------------------------#\n",
    "    from uncertainties import ufloat\n",
    "    import Helper.numbers as nu\n",
    "    from Helper.record import Measurement, Unit\n",
    "\n",
    "    %load_ext autoreload\n",
    "    %autoreload 2"
   ]
  },
  {
   "cell_type": "code",
   "execution_count": null,
   "id": "4f14c923",
   "metadata": {
    "ExecuteTime": {
     "end_time": "2021-06-10T01:29:53.019807Z",
     "start_time": "2021-06-10T01:29:53.005863Z"
    },
    "code_folding": [
     0
    ]
   },
   "outputs": [],
   "source": [
    "def read_scope_csv(path, n_sigs = 1):\n",
    "    ret = []\n",
    "    for n in range(n_sigs):\n",
    "        config = pd.read_csv(path, header=None, usecols=[1+6*n, 2+6*n]).loc[:2]\n",
    "        config = [record_length, sample_interval, trigger_point] = [\n",
    "            [float(val), unit] for val, unit in zip(config[1+6*n], config[2+6*n])]\n",
    "        config= {\n",
    "            'record_length': record_length,\n",
    "            'sample_interval': sample_interval,\n",
    "            'trigger_point': trigger_point\n",
    "        }\n",
    "        display(config)\n",
    "        data = pd.read_csv(path, header = None, usecols=[3+6*n, 4+6*n])\n",
    "        data.columns = ['ts', 'mV']\n",
    "        ret.append([data, config])\n",
    "    return ret"
   ]
  },
  {
   "cell_type": "code",
   "execution_count": null,
   "id": "d96093ee",
   "metadata": {
    "ExecuteTime": {
     "end_time": "2021-06-10T14:09:39.539452Z",
     "start_time": "2021-06-10T14:09:39.502377Z"
    },
    "code_folding": [
     0
    ],
    "scrolled": true
   },
   "outputs": [],
   "source": [
    "def clean_vis_9010_diff(pd1, pd2, first = False, filt_type='fft', filter_param=.25, plot=True):\n",
    "    fig = figure(height = 400)\n",
    "    if filt_type == 'fft':\n",
    "        pd1_clean = pd.Series(nu.fft_filter(pd1.mV, filter_param))\n",
    "        pd2_clean = pd.Series(nu.fft_filter(pd2.mV, filter_param))\n",
    "    elif filt_type == 'avg':\n",
    "        pd1_clean = pd.Series(nu.moving_avg_filter(pd1.mV, filter_param))\n",
    "        pd2_clean = pd.Series(nu.moving_avg_filter(pd2.mV, filter_param))\n",
    "    else:\n",
    "        raise ValueError('No filter match')\n",
    "\n",
    "    print('pd1 unfiltered ', end = '')\n",
    "    pd1_start, pd1_end = nu.rising_edge(pd1_clean, pd1.ts, first)[0]\n",
    "    print('pd2 unfiltered ', end = '')\n",
    "    pd2_start, pd2_end = nu.rising_edge(pd2_clean, pd2.ts, first)[0]\n",
    "\n",
    "    # timerange = [pd1_start-25, pd2_end + 150]\n",
    "    # pd1_clean = pd1_clean[timerange[0]:timerange[1]]\n",
    "    # pd2_clean = pd2_clean[timerange[0]:timerange[1]]\n",
    "\n",
    "    t = pd1.ts - pd1.ts[pd1_start]  # [timerange[0]:timerange[1]]\n",
    "    t_interp = np.linspace(t.min(), t.max(), len(pd2_clean)*16)\n",
    "\n",
    "    interp1 = interp1d(t, pd1_clean, kind='cubic')\n",
    "    pd1_clean = pd.Series(interp1(t_interp))\n",
    "\n",
    "    interp2 = interp1d(t, pd2_clean, kind='cubic')\n",
    "    pd2_clean = pd.Series(interp2(t_interp))\n",
    "\n",
    "    t = t_interp\n",
    "\n",
    "    print('pd1 filtered ', end = '')\n",
    "    pd1_inds, pd1_90_10_inds = nu.rising_edge(pd1_clean, t, first)\n",
    "    fig.scatter(t[pd1_inds], pd1_clean[pd1_inds])\n",
    "    fig.scatter(t[pd1_90_10_inds], pd1_clean[pd1_90_10_inds], color='skyblue')\n",
    "\n",
    "    print('pd2 filtered ', end = '')\n",
    "    pd2_inds, pd2_90_10_inds = nu.rising_edge(pd2_clean, t, first)\n",
    "    fig.scatter(t[pd2_inds], pd2_clean[pd2_inds])\n",
    "    fig.scatter(t[pd2_90_10_inds], pd2_clean[pd2_90_10_inds], color='skyblue')\n",
    "\n",
    "\n",
    "    small_t = t[pd1_inds[0]-50:pd1_inds[0] + (pd1_inds[1]-pd1_inds[0])*2+100]\n",
    "    small_pd1 = pd1_clean[pd1_inds[0]-50:pd1_inds[0] + (pd1_inds[1]-pd1_inds[0])*2+100]\n",
    "    \n",
    "    peaks, b, b = nu.peak(small_pd1, 1, 0, 0, 0)\n",
    "    widths, _, _, _ = nu.peak_widths(small_pd1, peaks,)\n",
    "    print('pd1 peak halfmax:', widths[0] * (t[1]-t[0]))\n",
    "    \n",
    "    \n",
    "    small_t = t[pd2_inds[0]-50:pd2_inds[0] + (pd2_inds[1]-pd2_inds[0])*2+100]\n",
    "    small_pd2 = pd2_clean[pd2_inds[0]-50:pd2_inds[0] + (pd2_inds[1]-pd2_inds[0])*2+100]\n",
    "    \n",
    "    peaks, b, b = nu.peak(small_pd2, 1, 0, 0, 0)\n",
    "    widths, _, _, _ = nu.peak_widths(small_pd2, peaks,)\n",
    "    print('pd2 peak halfmax:', widths[0] * (t[1]-t[0]))\n",
    "    \n",
    "    \n",
    "    fig.line(t[pd1_inds[0]-100:pd2_inds[1]*2], pd1_clean[pd1_inds[0]-100:pd2_inds[1]*2], legend_label='PD1')\n",
    "    fig.line(t[pd1_inds[0]-100:pd2_inds[1]*2], pd2_clean[pd1_inds[0]-100:pd2_inds[1]*2], legend_label='PD2', color='red')\n",
    "\n",
    "    fig.line(t[pd1_inds[0]:pd1_inds[1]], pd1_clean[pd1_inds[0]:pd1_inds[1]], color = 'green', alpha = 1)\n",
    "    fig.line(t[pd2_inds[0]:pd2_inds[1]], pd2_clean[pd2_inds[0]:pd2_inds[1]], color = 'green', alpha = 1)\n",
    "\n",
    "    \n",
    "    fig.x_range = Range1d(t[pd1_inds[0]] - 5e-10, t[pd2_inds[1]]*1.3)\n",
    "    if plot:\n",
    "        show(fig)\n",
    "    else:\n",
    "        del fig\n",
    "\n",
    "    return pd.DataFrame({\n",
    "        'start': t[[pd1_inds[0], pd2_inds[0]]],\n",
    "        'end': t[[pd1_inds[1], pd2_inds[1]]],\n",
    "        '10': t[[pd1_90_10_inds[0], pd2_90_10_inds[0]]],\n",
    "        '90': t[[pd1_90_10_inds[1], pd2_90_10_inds[1]]]\n",
    "    }, index=['sig1', 'sig2'])"
   ]
  },
  {
   "cell_type": "markdown",
   "id": "0e27f0fb",
   "metadata": {
    "heading_collapsed": true
   },
   "source": [
    "## Test Pulse, Scope, and Laser Diode"
   ]
  },
  {
   "cell_type": "code",
   "execution_count": null,
   "id": "2d729cd0",
   "metadata": {
    "ExecuteTime": {
     "end_time": "2021-06-10T01:29:53.075455Z",
     "start_time": "2021-06-10T01:29:53.044413Z"
    },
    "hidden": true
   },
   "outputs": [],
   "source": [
    "[[squares, squares_config]] = read_scope_csv('./Data/l4_A_1_data.csv')"
   ]
  },
  {
   "cell_type": "code",
   "execution_count": null,
   "id": "5c44cdee",
   "metadata": {
    "ExecuteTime": {
     "end_time": "2021-06-10T01:29:53.122727Z",
     "start_time": "2021-06-10T01:29:53.076528Z"
    },
    "hidden": true,
    "scrolled": true
   },
   "outputs": [],
   "source": [
    "fig = figure()\n",
    "fig.line(squares.ts, squares.mV)\n",
    "show(fig)"
   ]
  },
  {
   "cell_type": "code",
   "execution_count": null,
   "id": "5a29ec59",
   "metadata": {
    "ExecuteTime": {
     "end_time": "2021-06-10T01:29:53.143973Z",
     "start_time": "2021-06-10T01:29:53.124114Z"
    },
    "hidden": true
   },
   "outputs": [],
   "source": [
    "approx_amplitude = squares.mV.max() - squares.mV.min()\n",
    "fourier_coefs = np.fft.fft(squares.mV, n=len(squares)*8)\n",
    "fourier_freqs = np.fft.fftfreq(\n",
    "    len(squares.mV)*8, squares_config['sample_interval'][0]\n",
    ")\n",
    "\n",
    "pulse_frequency = fourier_freqs[\n",
    "    10:len(fourier_freqs)//2][\n",
    "    fourier_coefs[10:len(fourier_freqs)//2].argmax()\n",
    "]\n",
    "\n",
    "approx_amplitude, 'mV', pulse_frequency, 'Hz'"
   ]
  },
  {
   "cell_type": "code",
   "execution_count": null,
   "id": "4db58806",
   "metadata": {
    "ExecuteTime": {
     "end_time": "2021-06-10T01:29:53.307937Z",
     "start_time": "2021-06-10T01:29:53.146920Z"
    },
    "hidden": true
   },
   "outputs": [],
   "source": [
    "fig = figure()\n",
    "fig.line(fourier_freqs, np.abs(fourier_coefs))\n",
    "show(fig)"
   ]
  },
  {
   "cell_type": "markdown",
   "id": "c5f7549e",
   "metadata": {},
   "source": [
    "## Initial Optics Setup"
   ]
  },
  {
   "cell_type": "markdown",
   "id": "a6b1c6ca",
   "metadata": {
    "heading_collapsed": true
   },
   "source": [
    "#### Failed Data"
   ]
  },
  {
   "cell_type": "code",
   "execution_count": null,
   "id": "50a85637",
   "metadata": {
    "ExecuteTime": {
     "end_time": "2021-06-10T01:29:53.403671Z",
     "start_time": "2021-06-10T01:29:53.309628Z"
    },
    "hidden": true,
    "scrolled": true
   },
   "outputs": [],
   "source": [
    "[[pd1, pd1_config], [pd2, pd2_config]] = read_scope_csv(\n",
    "    './Data/l4_C_data.csv', 2)\n",
    "\n",
    "fig = figure()\n",
    "fig.line(pd1.ts, pd1.mV, legend_label='PD1')\n",
    "fig.line(pd1.ts, pd2.mV, legend_label='PD2', color='red')\n",
    "show(fig)"
   ]
  },
  {
   "cell_type": "code",
   "execution_count": null,
   "id": "922444cf",
   "metadata": {
    "ExecuteTime": {
     "end_time": "2021-06-10T01:29:53.516401Z",
     "start_time": "2021-06-10T01:29:53.404579Z"
    },
    "hidden": true
   },
   "outputs": [],
   "source": [
    "[[pd1, pd1_config], [pd2, pd2_config]] = read_scope_csv(\n",
    "    './Data/l4_C_data3.csv', 2)\n",
    "\n",
    "fig = figure()\n",
    "fig.line(pd1.ts, pd1.mV, legend_label='PD1')\n",
    "fig.line(pd1.ts, nu.fft_filter(pd2.mV, .17), legend_label='PD2', color='red')\n",
    "show(fig)"
   ]
  },
  {
   "cell_type": "markdown",
   "id": "e8d2dff8",
   "metadata": {},
   "source": [
    "### Loading Data"
   ]
  },
  {
   "cell_type": "code",
   "execution_count": null,
   "id": "5a2ca21e",
   "metadata": {
    "ExecuteTime": {
     "end_time": "2021-06-10T01:29:53.618095Z",
     "start_time": "2021-06-10T01:29:53.517457Z"
    },
    "scrolled": true
   },
   "outputs": [],
   "source": [
    "[[pd1, pd1_config], [pd2, pd2_config]] = read_scope_csv(\n",
    "    './Data/l4_C_data4.csv', 2)\n",
    "\n",
    "fig = figure()\n",
    "fig.line(pd1.ts, pd1.mV, legend_label='PD1')\n",
    "fig.line(pd1.ts, pd2.mV, legend_label='PD2', color='red')\n",
    "show(fig)"
   ]
  },
  {
   "cell_type": "code",
   "execution_count": null,
   "id": "856f2dc6",
   "metadata": {
    "ExecuteTime": {
     "end_time": "2021-06-10T01:29:53.725640Z",
     "start_time": "2021-06-10T01:29:53.619144Z"
    },
    "scrolled": false
   },
   "outputs": [],
   "source": [
    "[[pd1_cable, pd1_config], [pd2_cable, pd2_config]] = read_scope_csv(\n",
    "    './Data/l4_C_c_data.csv', 2)\n",
    "\n",
    "fig = figure()\n",
    "fig.line(pd1_cable.ts, pd1_cable.mV, legend_label='PD1_cable')\n",
    "fig.line(pd1_cable.ts, pd2_cable.mV, legend_label='PD2_cable', color='red')\n",
    "show(fig)"
   ]
  },
  {
   "cell_type": "markdown",
   "id": "d8897c9d",
   "metadata": {},
   "source": [
    "### Rising Edge analysis"
   ]
  },
  {
   "cell_type": "code",
   "execution_count": null,
   "id": "3ec37db4",
   "metadata": {
    "ExecuteTime": {
     "end_time": "2021-06-10T01:29:53.738402Z",
     "start_time": "2021-06-10T01:29:53.726602Z"
    }
   },
   "outputs": [],
   "source": [
    "from bokeh.palettes import Category20_4 as colors"
   ]
  },
  {
   "cell_type": "code",
   "execution_count": null,
   "id": "ec2f37f8",
   "metadata": {
    "ExecuteTime": {
     "end_time": "2021-06-10T01:29:53.749605Z",
     "start_time": "2021-06-10T01:29:53.739428Z"
    }
   },
   "outputs": [],
   "source": [
    "from Helper.numbers import rising_edge"
   ]
  },
  {
   "cell_type": "markdown",
   "id": "a38e70df",
   "metadata": {
    "heading_collapsed": true
   },
   "source": [
    "#### First pass"
   ]
  },
  {
   "cell_type": "code",
   "execution_count": null,
   "id": "3c277c92",
   "metadata": {
    "ExecuteTime": {
     "end_time": "2021-06-10T01:29:53.868165Z",
     "start_time": "2021-06-10T01:29:53.751001Z"
    },
    "hidden": true,
    "scrolled": false
   },
   "outputs": [],
   "source": [
    "fig = figure()\n",
    "\n",
    "\"\"\"\n",
    "Create a time vector beginning at zero for alignment purposes.\n",
    "\"\"\"\n",
    "t = pd1.loc[pd1.ts >= 0, 'ts']\n",
    "t.index = range(len(t))\n",
    "\n",
    "\"\"\"\n",
    "Filter all curves such that they are identical. This is really for\n",
    "ease of processing but also because they really should be identical,\n",
    "and any differences must represent some error.\n",
    "\"\"\"\n",
    "pd1_cable_clean = pd.Series(nu.fft_filter(pd1_cable.mV, .44))\n",
    "pd2_cable_clean = pd.Series(nu.fft_filter(pd2_cable.mV, .34))\n",
    "\n",
    "pd1_clean = pd.Series(nu.fft_filter(pd1.mV, .34))\n",
    "pd2_clean = pd.Series(nu.fft_filter(pd2.mV, .34))\n",
    "\n",
    "\"\"\"\n",
    "Caclulate the indeces of the rising edge for all signals, and the\n",
    "locations of 10% and 90%.\n",
    "\"\"\"\n",
    "pd1_cable_inds, pd1_cable_90_10_inds = rising_edge(\n",
    "    pd1_cable_clean, pd1_cable.ts)\n",
    "pd1_inds, pd1_90_10_inds = rising_edge(\n",
    "    pd1_clean, pd1_cable.ts)\n",
    "\n",
    "pd2_cable_inds, pd2_cable_90_20_inds = rising_edge(\n",
    "    pd2_cable_clean, pd2_cable.ts)\n",
    "pd2_inds, pd2_90_20_inds = rising_edge(\n",
    "    pd2_clean, pd2_cable.ts)\n",
    "\n",
    "\"\"\"\n",
    "Align each PD1 curve to the beginning of its rising edge.\n",
    "Align each PD2 curve to the beginning of the rising edge of\n",
    "the corresponding PD1.\n",
    "\"\"\"\n",
    "zi_pd1_cable = pd1_cable_clean[pd1_cable_inds[0]:]\n",
    "zi_pd1 = pd1_clean[pd1_inds[0]:]\n",
    "\n",
    "zi_pd2_cable = pd2_cable_clean[pd1_cable_inds[0]:]\n",
    "zi_pd2 = pd2_clean[pd1_inds[0]:]\n",
    "\n",
    "\"\"\"\n",
    "Normalize each signal on the scale [0, 1].\n",
    "\"\"\"\n",
    "zi_pd1_cable -= zi_pd1_cable.min()\n",
    "zi_pd2_cable -= zi_pd2_cable.min()\n",
    "zi_pd1_cable /= zi_pd1_cable.max()\n",
    "zi_pd2_cable /= zi_pd2_cable.max()\n",
    "\n",
    "zi_pd1 -= zi_pd1.min()\n",
    "zi_pd2 -= zi_pd2.min()\n",
    "zi_pd1 /= zi_pd1.max()\n",
    "zi_pd2 /= zi_pd2.max()\n",
    "\n",
    "\"\"\"\n",
    "Plot each pair of PD1 and PD2 signals, and calculate\n",
    "their locations of etc.\n",
    "\"\"\"\n",
    "results = {}\n",
    "for sig, name, color in zip(\n",
    "    [zi_pd1_cable, zi_pd1, zi_pd2_cable, zi_pd2],\n",
    "    ['PD1_cable', 'PD1', 'PD2_cable', 'PD2'],\n",
    "    colors\n",
    "):\n",
    "    sig.index = range(len(sig))\n",
    "    fig.line(t,\n",
    "             sig[:len(t)],\n",
    "             legend_label=name,\n",
    "             color=color,\n",
    "             line_width=1.6)\n",
    "    times = rising_edge(sig[:len(t)], t)\n",
    "    times = times[0] + times[1]\n",
    "    results.update({name:[t[i] for i in times]})\n",
    "    \n",
    "fig.x_range = Range1d(-.4e-9, 3e-8)\n",
    "show(fig)\n",
    "results = pd.DataFrame(results, index = ['start','stop','10','90']).T"
   ]
  },
  {
   "cell_type": "code",
   "execution_count": null,
   "id": "eb70cf9e",
   "metadata": {
    "ExecuteTime": {
     "end_time": "2021-06-10T01:29:53.885181Z",
     "start_time": "2021-06-10T01:29:53.869154Z"
    },
    "hidden": true
   },
   "outputs": [],
   "source": [
    "diffs = pd.DataFrame(results.T[['PD2_cable', 'PD2']].values -\n",
    "                     results.T[['PD1_cable', 'PD1']].values,\n",
    "                     index=results.columns,\n",
    "                     columns=['cable_diff', 'no-cable_diff'])\n",
    "(diffs.cable_diff-diffs['no-cable_diff']).mean(), (diffs.cable_diff-diffs['no-cable_diff']).std()"
   ]
  },
  {
   "cell_type": "markdown",
   "id": "d2ed7ef7",
   "metadata": {},
   "source": [
    "#### Second Pass"
   ]
  },
  {
   "cell_type": "code",
   "execution_count": null,
   "id": "68c8154a",
   "metadata": {
    "ExecuteTime": {
     "end_time": "2021-06-10T01:30:22.955562Z",
     "start_time": "2021-06-10T01:30:22.937384Z"
    }
   },
   "outputs": [],
   "source": [
    "from scipy.interpolate import interp1d"
   ]
  },
  {
   "cell_type": "code",
   "execution_count": null,
   "id": "445cb02e",
   "metadata": {
    "ExecuteTime": {
     "end_time": "2021-06-10T01:30:23.344295Z",
     "start_time": "2021-06-10T01:30:22.957222Z"
    }
   },
   "outputs": [],
   "source": [
    "res = clean_vis_9010_diff(pd1, pd2)\n",
    "res.iloc[1] - res.iloc[0]"
   ]
  },
  {
   "cell_type": "code",
   "execution_count": null,
   "id": "d655e166",
   "metadata": {
    "ExecuteTime": {
     "end_time": "2021-06-10T01:30:24.033696Z",
     "start_time": "2021-06-10T01:30:23.345735Z"
    },
    "scrolled": false
   },
   "outputs": [],
   "source": [
    "res2 = clean_vis_9010_diff(pd1_cable, pd2_cable)\n",
    "res1 = clean_vis_9010_diff(pd1, pd2)\n",
    "(res2.iloc[1] - res2.iloc[0])-(res1.iloc[1] - res1.iloc[0])"
   ]
  },
  {
   "cell_type": "code",
   "execution_count": null,
   "id": "ec47a78d",
   "metadata": {
    "ExecuteTime": {
     "end_time": "2021-06-10T01:30:24.047981Z",
     "start_time": "2021-06-10T01:30:24.035013Z"
    }
   },
   "outputs": [],
   "source": [
    "difdif = ((res2.iloc[1] - res2.iloc[0])-(res1.iloc[1] - res1.iloc[0]))\n",
    "'Added time due to the longer cable mean and standard deviation: ', difdif.mean(), difdif.std()"
   ]
  },
  {
   "cell_type": "code",
   "execution_count": null,
   "id": "ffa83f43",
   "metadata": {
    "ExecuteTime": {
     "end_time": "2021-06-10T01:30:24.060965Z",
     "start_time": "2021-06-10T01:30:24.049052Z"
    }
   },
   "outputs": [],
   "source": [
    "944.5e-3/difdif.mean()"
   ]
  },
  {
   "cell_type": "code",
   "execution_count": null,
   "id": "e7ca8695",
   "metadata": {
    "ExecuteTime": {
     "end_time": "2021-06-10T01:30:24.074148Z",
     "start_time": "2021-06-10T01:30:24.062157Z"
    }
   },
   "outputs": [],
   "source": [
    "2.9979e8/191673016"
   ]
  },
  {
   "cell_type": "markdown",
   "id": "e8ec1fae",
   "metadata": {},
   "source": [
    "## D"
   ]
  },
  {
   "cell_type": "markdown",
   "id": "19b856a3",
   "metadata": {
    "heading_collapsed": true
   },
   "source": [
    "### Air"
   ]
  },
  {
   "cell_type": "markdown",
   "id": "2447b1ea",
   "metadata": {
    "heading_collapsed": true,
    "hidden": true
   },
   "source": [
    "#### Setup Distances"
   ]
  },
  {
   "cell_type": "code",
   "execution_count": null,
   "id": "c1df48dc",
   "metadata": {
    "ExecuteTime": {
     "end_time": "2021-06-10T14:25:16.836106Z",
     "start_time": "2021-06-10T14:25:16.822028Z"
    },
    "code_folding": [],
    "hidden": true,
    "scrolled": true
   },
   "outputs": [],
   "source": [
    "air_pd2_path = ufloat(917.5, .5) + ufloat(730.0, .5) + ufloat(124.5, .5)\n",
    "air_pd1_path = ufloat(168.5, .5)\n",
    "air_length_diff = air_pd2_path - air_pd1_path\n",
    "air_length_diff *= 1e-3 # convert to meters\n",
    "air_length_diff"
   ]
  },
  {
   "cell_type": "markdown",
   "id": "3b28fbd0",
   "metadata": {
    "heading_collapsed": true,
    "hidden": true
   },
   "source": [
    "#### Loading Data"
   ]
  },
  {
   "cell_type": "code",
   "execution_count": null,
   "id": "4cd3a005",
   "metadata": {
    "ExecuteTime": {
     "end_time": "2021-06-10T14:25:17.259863Z",
     "start_time": "2021-06-10T14:25:17.085464Z"
    },
    "code_folding": [],
    "hidden": true,
    "scrolled": true
   },
   "outputs": [],
   "source": [
    "[[pd1_air, air_config], [pd2_air, air_config]] = read_scope_csv(\n",
    "    './Data/l4_D_1_b.csv', 2)\n",
    "pd1_air.loc[pd1_air.ts > 6e-9, 'mV'] = 0\n",
    "pd2_air.loc[pd2_air.ts > 1.1e-8, 'mV'] = 0\n",
    "\n",
    "fig = figure()\n",
    "\n",
    "fig.line(pd1_air.ts, pd1_air.mV, legend_label='pd1_air')\n",
    "fig.line(pd1_air.ts, pd2_air.mV, legend_label='pd2_air', color='red')\n",
    "show(fig)"
   ]
  },
  {
   "cell_type": "markdown",
   "id": "5f080106",
   "metadata": {
    "heading_collapsed": true,
    "hidden": true
   },
   "source": [
    "#### Time Shift"
   ]
  },
  {
   "cell_type": "code",
   "execution_count": null,
   "id": "d9fd2dac",
   "metadata": {
    "ExecuteTime": {
     "end_time": "2021-06-10T01:30:29.976401Z",
     "start_time": "2021-06-10T01:30:24.201897Z"
    },
    "hidden": true
   },
   "outputs": [],
   "source": [
    "error_opt = pd.DataFrame(columns=['param', 'mean', 'std'])\n",
    "error_opt.param = np.arange(.05, .55, .02)\n",
    "\n",
    "\n",
    "def fun(row):\n",
    "    filter_param = row.param\n",
    "    air_firstpeak_times = clean_vis_9010_diff(\n",
    "        pd1_air, pd2_air, False, filter_param=filter_param, plot=False)\n",
    "    firstpeak_air_vals = (\n",
    "        air_firstpeak_times.iloc[1] - air_firstpeak_times.iloc[0])\n",
    "    row[['mean', 'std']] = firstpeak_air_vals.mean(), firstpeak_air_vals.std()\n",
    "    return row\n",
    "\n",
    "\n",
    "error_opt = error_opt.apply(fun, axis=1)\n",
    "\n",
    "error_opt"
   ]
  },
  {
   "cell_type": "code",
   "execution_count": null,
   "id": "cd954a62",
   "metadata": {
    "ExecuteTime": {
     "end_time": "2021-06-10T01:30:29.993590Z",
     "start_time": "2021-06-10T01:30:29.977401Z"
    },
    "hidden": true
   },
   "outputs": [],
   "source": [
    "firstpeak_air_vals = (error_opt.iloc[1] - error_opt.iloc[0])\n",
    "air_firstpeak_timeshift = ufloat(firstpeak_air_vals.mean(), firstpeak_air_vals.std())\n",
    "nu.print_unc(air_firstpeak_timeshift)"
   ]
  },
  {
   "cell_type": "code",
   "execution_count": null,
   "id": "3ef275a8",
   "metadata": {
    "ExecuteTime": {
     "end_time": "2021-06-10T14:17:37.345155Z",
     "start_time": "2021-06-10T14:17:36.930428Z"
    },
    "hidden": true
   },
   "outputs": [],
   "source": [
    "air_firstpeak_times = clean_vis_9010_diff(\n",
    "    pd1_air, pd2_air, False, filter_param=.51, plot=True)\n",
    "air_firstpeak_times"
   ]
  },
  {
   "cell_type": "code",
   "execution_count": null,
   "id": "ab62080b",
   "metadata": {
    "ExecuteTime": {
     "end_time": "2021-06-10T14:21:00.642867Z",
     "start_time": "2021-06-10T14:21:00.628346Z"
    },
    "hidden": true
   },
   "outputs": [],
   "source": [
    "air_timeshift = error_opt.iloc[22, 1:]\n",
    "air_timeshift = ufloat(air_timeshift['mean'], air_timeshift['std'])\n",
    "air_timeshift"
   ]
  },
  {
   "cell_type": "markdown",
   "id": "b3f51bd1",
   "metadata": {
    "heading_collapsed": true,
    "hidden": true
   },
   "source": [
    "#### Refractive Index"
   ]
  },
  {
   "cell_type": "code",
   "execution_count": null,
   "id": "fb82f3fc",
   "metadata": {
    "ExecuteTime": {
     "end_time": "2021-06-10T14:26:07.214683Z",
     "start_time": "2021-06-10T14:26:07.199784Z"
    },
    "hidden": true,
    "scrolled": true
   },
   "outputs": [],
   "source": [
    "nu.print_unc(299792458/(air_length_diff/air_timeshift))"
   ]
  },
  {
   "cell_type": "markdown",
   "id": "708ef55f",
   "metadata": {
    "heading_collapsed": true
   },
   "source": [
    "### Glass"
   ]
  },
  {
   "cell_type": "markdown",
   "id": "85a17e5c",
   "metadata": {
    "heading_collapsed": true,
    "hidden": true
   },
   "source": [
    "#### Cable Length"
   ]
  },
  {
   "cell_type": "code",
   "execution_count": null,
   "id": "9a9e1e35",
   "metadata": {
    "ExecuteTime": {
     "end_time": "2021-06-10T14:26:29.130588Z",
     "start_time": "2021-06-10T14:26:29.111171Z"
    },
    "hidden": true
   },
   "outputs": [],
   "source": [
    "FO_legth = ufloat(2065.5, .5)*1e-3"
   ]
  },
  {
   "cell_type": "markdown",
   "id": "c327a8c8",
   "metadata": {
    "heading_collapsed": true,
    "hidden": true
   },
   "source": [
    "#### Loading Data"
   ]
  },
  {
   "cell_type": "code",
   "execution_count": null,
   "id": "9c464527",
   "metadata": {
    "ExecuteTime": {
     "end_time": "2021-06-10T01:31:27.164659Z",
     "start_time": "2021-06-10T01:31:27.042199Z"
    },
    "code_folding": [],
    "hidden": true,
    "scrolled": true
   },
   "outputs": [],
   "source": [
    "[[pd1_glass, glass_config], [pd2_glass, glass_config]] = read_scope_csv(\n",
    "    './Data/l4_D_2_b.csv', 2)\n",
    "\n",
    "fig = figure()\n",
    "pd1_glass.loc[pd1_glass.ts > 6e-9, 'mV'] = 0\n",
    "pd2_glass.loc[pd2_glass.ts > 2.1e-8, 'mV'] = 0\n",
    "fig.line(pd1_glass.ts, pd1_glass.mV, legend_label='pd1_glass')\n",
    "fig.line(pd1_glass.ts, pd2_glass.mV, legend_label='pd2_glass', color='red')\n",
    "show(fig)"
   ]
  },
  {
   "cell_type": "markdown",
   "id": "3dead734",
   "metadata": {
    "heading_collapsed": true,
    "hidden": true
   },
   "source": [
    "#### Timeshift"
   ]
  },
  {
   "cell_type": "code",
   "execution_count": null,
   "id": "d3456946",
   "metadata": {
    "ExecuteTime": {
     "end_time": "2021-06-10T14:23:28.704005Z",
     "start_time": "2021-06-10T14:23:28.253441Z"
    },
    "hidden": true,
    "scrolled": true
   },
   "outputs": [],
   "source": [
    "glass_peak_times = clean_vis_9010_diff(pd1_glass, pd2_glass, False, 'fft', .2)\n",
    "\n",
    "glass_timeshift = (glass_peak_times.iloc[1] - glass_peak_times.iloc[0])\n",
    "glass_timeshift = ufloat(glass_timeshift.mean(), glass_timeshift.std())\n",
    "glass_timeshift"
   ]
  },
  {
   "cell_type": "markdown",
   "id": "a9a2d2a6",
   "metadata": {
    "heading_collapsed": true,
    "hidden": true
   },
   "source": [
    "#### Refractive Index"
   ]
  },
  {
   "cell_type": "code",
   "execution_count": null,
   "id": "e683de86",
   "metadata": {
    "ExecuteTime": {
     "end_time": "2021-06-10T14:26:39.273776Z",
     "start_time": "2021-06-10T14:26:39.261871Z"
    },
    "hidden": true
   },
   "outputs": [],
   "source": [
    "FO_shift = glass_timeshift - air_timeshift"
   ]
  },
  {
   "cell_type": "code",
   "execution_count": null,
   "id": "0b64db19",
   "metadata": {
    "ExecuteTime": {
     "end_time": "2021-06-10T14:27:01.321410Z",
     "start_time": "2021-06-10T14:27:01.306850Z"
    },
    "hidden": true,
    "scrolled": false
   },
   "outputs": [],
   "source": [
    "nu.print_unc(2.998e8/(FO_legth / FO_shift))"
   ]
  },
  {
   "cell_type": "markdown",
   "id": "c37883e4",
   "metadata": {},
   "source": [
    "### Water"
   ]
  },
  {
   "cell_type": "markdown",
   "id": "a65fbba6",
   "metadata": {
    "heading_collapsed": true
   },
   "source": [
    "#### Water length"
   ]
  },
  {
   "cell_type": "code",
   "execution_count": null,
   "id": "ec644285",
   "metadata": {
    "ExecuteTime": {
     "end_time": "2021-06-10T14:27:24.760530Z",
     "start_time": "2021-06-10T14:27:24.747195Z"
    },
    "hidden": true
   },
   "outputs": [],
   "source": [
    "water_length = ufloat(614.0, .5)*1e-3"
   ]
  },
  {
   "cell_type": "markdown",
   "id": "e688be51",
   "metadata": {
    "heading_collapsed": true
   },
   "source": [
    "#### Loading Data"
   ]
  },
  {
   "cell_type": "code",
   "execution_count": null,
   "id": "c7c30f52",
   "metadata": {
    "ExecuteTime": {
     "end_time": "2021-06-10T01:31:28.499577Z",
     "start_time": "2021-06-10T01:31:28.375775Z"
    },
    "code_folding": [],
    "hidden": true,
    "scrolled": false
   },
   "outputs": [],
   "source": [
    "[[pd1_water, water_config], [pd2_water, water_config]] = read_scope_csv(\n",
    "    './Data/l4_D_3_b.csv', 2)\n",
    "\n",
    "pd1_water.loc[pd1_water.ts > 6e-9, 'mV'] = 0\n",
    "pd2_water.loc[pd2_water.ts > 1.25e-8, 'mV'] = 0\n",
    "\n",
    "fig = figure()\n",
    "fig.line(pd1_water.ts, pd1_water.mV, legend_label='pd1_water')\n",
    "fig.line(pd1_water.ts, pd2_water.mV, legend_label='pd2_water', color='red')\n",
    "show(fig)"
   ]
  },
  {
   "cell_type": "markdown",
   "id": "621bbfa0",
   "metadata": {
    "heading_collapsed": true
   },
   "source": [
    "#### Time Shift"
   ]
  },
  {
   "cell_type": "code",
   "execution_count": null,
   "id": "05f57299",
   "metadata": {
    "ExecuteTime": {
     "end_time": "2021-06-10T14:28:23.521828Z",
     "start_time": "2021-06-10T14:28:23.081482Z"
    },
    "hidden": true,
    "scrolled": false
   },
   "outputs": [],
   "source": [
    "water_peak_times = clean_vis_9010_diff(pd1_water, pd2_water, False, 'fft', 1.6)\n",
    "\n",
    "water_air_timeshift = (water_peak_times.iloc[1] - water_peak_times.iloc[0])\n",
    "water_air_timeshift = ufloat(water_air_timeshift.mean(), water_air_timeshift.std())\n",
    "water_air_timeshift"
   ]
  },
  {
   "cell_type": "markdown",
   "id": "b12aed2f",
   "metadata": {},
   "source": [
    "#### Refractive Index"
   ]
  },
  {
   "cell_type": "markdown",
   "id": "74035a45",
   "metadata": {},
   "source": [
    "$$T_A = time\\ of\\ flight\\ diff\\ air$$\n",
    "$$T_W = time\\ of\\ flight\\ in\\ water$$\n",
    "$$D_A = distance\\ of\\ air\\ flight\\ path$$\n",
    "$$D_W = distance\\ of\\ water\\ flight\\ path$$\n",
    "$$T_{A-W} = T_A \\cdot \\frac{D_A-D_W}{D_A}$$\n",
    "$$T_W = T_A - T_{A-W}$$"
   ]
  },
  {
   "cell_type": "code",
   "execution_count": null,
   "id": "f361a968",
   "metadata": {
    "ExecuteTime": {
     "end_time": "2021-06-10T14:29:02.499554Z",
     "start_time": "2021-06-10T14:29:02.485518Z"
    }
   },
   "outputs": [],
   "source": [
    "time_not_water = air_timeshift * (air_length_diff-2*water_length)/air_length_diff\n",
    "water_timeshift = water_air_timeshift - time_not_water\n",
    "\n",
    "water_speed = 2*water_length/water_timeshift\n",
    "(2.998e8/water_speed)"
   ]
  },
  {
   "cell_type": "code",
   "execution_count": null,
   "id": "0926ee06",
   "metadata": {},
   "outputs": [],
   "source": []
  },
  {
   "cell_type": "code",
   "execution_count": null,
   "id": "5f6b2202",
   "metadata": {},
   "outputs": [],
   "source": []
  },
  {
   "cell_type": "code",
   "execution_count": null,
   "id": "1cef3dcc",
   "metadata": {},
   "outputs": [],
   "source": []
  },
  {
   "cell_type": "code",
   "execution_count": null,
   "id": "60dff3e4",
   "metadata": {},
   "outputs": [],
   "source": []
  },
  {
   "cell_type": "code",
   "execution_count": null,
   "id": "4dbcc369",
   "metadata": {},
   "outputs": [],
   "source": []
  },
  {
   "cell_type": "code",
   "execution_count": null,
   "id": "bbfcffe3",
   "metadata": {},
   "outputs": [],
   "source": []
  },
  {
   "cell_type": "code",
   "execution_count": null,
   "id": "b6a27053",
   "metadata": {},
   "outputs": [],
   "source": []
  },
  {
   "cell_type": "code",
   "execution_count": null,
   "id": "7062f629",
   "metadata": {},
   "outputs": [],
   "source": []
  },
  {
   "cell_type": "code",
   "execution_count": null,
   "id": "e826a356",
   "metadata": {},
   "outputs": [],
   "source": []
  },
  {
   "cell_type": "code",
   "execution_count": null,
   "id": "d7ec9614",
   "metadata": {},
   "outputs": [],
   "source": []
  },
  {
   "cell_type": "code",
   "execution_count": null,
   "id": "4dd4f7f0",
   "metadata": {},
   "outputs": [],
   "source": []
  },
  {
   "cell_type": "code",
   "execution_count": null,
   "id": "2894b248",
   "metadata": {},
   "outputs": [],
   "source": []
  },
  {
   "cell_type": "code",
   "execution_count": null,
   "id": "550ca03f",
   "metadata": {},
   "outputs": [],
   "source": []
  },
  {
   "cell_type": "code",
   "execution_count": null,
   "id": "3932f66c",
   "metadata": {},
   "outputs": [],
   "source": []
  }
 ],
 "metadata": {
  "kernelspec": {
   "display_name": "Python 3",
   "language": "python",
   "name": "python3"
  },
  "language_info": {
   "codemirror_mode": {
    "name": "ipython",
    "version": 3
   },
   "file_extension": ".py",
   "mimetype": "text/x-python",
   "name": "python",
   "nbconvert_exporter": "python",
   "pygments_lexer": "ipython3",
   "version": "3.8.10"
  },
  "toc": {
   "base_numbering": 1,
   "nav_menu": {},
   "number_sections": true,
   "sideBar": true,
   "skip_h1_title": false,
   "title_cell": "Table of Contents",
   "title_sidebar": "Contents",
   "toc_cell": false,
   "toc_position": {},
   "toc_section_display": true,
   "toc_window_display": false
  }
 },
 "nbformat": 4,
 "nbformat_minor": 5
}
