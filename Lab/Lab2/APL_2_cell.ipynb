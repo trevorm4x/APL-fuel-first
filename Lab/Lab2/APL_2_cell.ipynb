{
 "cells": [
  {
   "cell_type": "code",
   "execution_count": 4,
   "id": "comprehensive-particular",
   "metadata": {
    "ExecuteTime": {
     "end_time": "2021-05-24T14:33:26.652254Z",
     "start_time": "2021-05-24T14:33:26.223448Z"
    }
   },
   "outputs": [],
   "source": [
    "import numpy as np\n",
    "import pandas as pd\n",
    "import matplotlib.pyplot as plt"
   ]
  },
  {
   "cell_type": "code",
   "execution_count": 5,
   "id": "sitting-marsh",
   "metadata": {
    "ExecuteTime": {
     "end_time": "2021-05-24T14:33:26.955569Z",
     "start_time": "2021-05-24T14:33:26.653335Z"
    }
   },
   "outputs": [],
   "source": [
    "from jupyterthemes import jtplot\n",
    "jtplot.style(theme='monokai', context='notebook', ticks=False, grid=False)"
   ]
  },
  {
   "cell_type": "code",
   "execution_count": 6,
   "id": "alpine-variable",
   "metadata": {
    "ExecuteTime": {
     "end_time": "2021-05-24T14:33:26.959123Z",
     "start_time": "2021-05-24T14:33:26.957147Z"
    }
   },
   "outputs": [],
   "source": [
    "import matplotlib as mpl"
   ]
  },
  {
   "cell_type": "code",
   "execution_count": 7,
   "id": "documented-right",
   "metadata": {
    "ExecuteTime": {
     "end_time": "2021-05-24T14:33:26.963790Z",
     "start_time": "2021-05-24T14:33:26.960190Z"
    }
   },
   "outputs": [],
   "source": [
    "# Edit the font, font size, and axes width\n",
    "# mpl.rcParams['font.family'] = 'Avenir'\n",
    "plt.rcParams['font.size'] = 24\n",
    "plt.rcParams['axes.linewidth'] = 2"
   ]
  },
  {
   "cell_type": "code",
   "execution_count": 8,
   "id": "sixth-range",
   "metadata": {
    "ExecuteTime": {
     "end_time": "2021-05-24T14:33:26.978867Z",
     "start_time": "2021-05-24T14:33:26.965155Z"
    }
   },
   "outputs": [],
   "source": [
    "%load_ext autoreload\n",
    "%autoreload 2"
   ]
  },
  {
   "cell_type": "code",
   "execution_count": 9,
   "id": "disciplinary-spare",
   "metadata": {
    "ExecuteTime": {
     "end_time": "2021-05-24T14:33:26.990935Z",
     "start_time": "2021-05-24T14:33:26.980007Z"
    }
   },
   "outputs": [],
   "source": [
    "import sys\n",
    "sys.path.insert(0, '/home/trevormjs/Documents/Science/APL/Lab')"
   ]
  },
  {
   "cell_type": "code",
   "execution_count": 10,
   "id": "golden-underground",
   "metadata": {
    "ExecuteTime": {
     "end_time": "2021-05-24T14:33:27.433464Z",
     "start_time": "2021-05-24T14:33:27.416429Z"
    }
   },
   "outputs": [],
   "source": [
    "from Helper.plotting import my_graph"
   ]
  },
  {
   "cell_type": "markdown",
   "id": "eastern-minnesota",
   "metadata": {},
   "source": [
    "### Part A"
   ]
  },
  {
   "cell_type": "markdown",
   "id": "generic-holmes",
   "metadata": {},
   "source": [
    "#### Measurements"
   ]
  },
  {
   "cell_type": "code",
   "execution_count": 11,
   "id": "binary-apartment",
   "metadata": {
    "ExecuteTime": {
     "end_time": "2021-05-24T14:33:27.937053Z",
     "start_time": "2021-05-24T14:33:27.926593Z"
    }
   },
   "outputs": [],
   "source": [
    "silicon_thickness = 0.54  # mm\n",
    "silicon_dimensions = [32.33, 9.04]\n",
    "wire_colors = {\n",
    "    1: 'purple',\n",
    "    2: 'blue',\n",
    "    3: 'green',\n",
    "    4: 'black',\n",
    "    5: 'white',\n",
    "    6: 'grey'\n",
    "}\n",
    "color_wires = {i:k for k, i in wire_colors.items()}"
   ]
  },
  {
   "cell_type": "code",
   "execution_count": 19,
   "id": "green-yeast",
   "metadata": {
    "ExecuteTime": {
     "end_time": "2021-05-24T14:38:40.291141Z",
     "start_time": "2021-05-24T14:38:40.272412Z"
    },
    "code_folding": [
     0
    ]
   },
   "outputs": [],
   "source": [
    "resistances = pd.DataFrame({\n",
    "    'first':[\n",
    "        'green', 'green', 'green',\n",
    "        'green', 'green', 'blue',\n",
    "        'blue', 'blue', 'blue', \n",
    "        'grey', 'grey', 'grey',\n",
    "        'white', 'white', 'black', \n",
    "    ],\n",
    "    'second':[\n",
    "        'blue', 'grey', 'white',\n",
    "        'black', 'purple', 'grey',\n",
    "        'white', 'black', 'purple',\n",
    "        'white', 'black', 'purple',\n",
    "        'black', 'purple', 'purple',\n",
    "    ],\n",
    "    'resistance':[\n",
    "        22.76e3, 24.55e3, 66.43e3, \n",
    "        26.94e3, 28.57e3, 11.213e3,\n",
    "        12.445e3, 12.06e3, 11.665e3,\n",
    "        51.39e3, 8.8936e3, 9.566e3,\n",
    "        171.76e3, 176.26e3, 12.296e3, \n",
    "    ]\n",
    "})"
   ]
  },
  {
   "cell_type": "code",
   "execution_count": 20,
   "id": "toxic-tulsa",
   "metadata": {
    "ExecuteTime": {
     "end_time": "2021-05-24T14:38:40.404407Z",
     "start_time": "2021-05-24T14:38:40.392387Z"
    }
   },
   "outputs": [],
   "source": [
    "resistances.insert(2, '#1', [color_wires[color] for color in resistances['first']])\n",
    "resistances.insert(3, '#2', [color_wires[color] for color in resistances['second']])"
   ]
  },
  {
   "cell_type": "markdown",
   "id": "varied-bermuda",
   "metadata": {
    "heading_collapsed": true
   },
   "source": [
    "#### Data"
   ]
  },
  {
   "cell_type": "code",
   "execution_count": 64,
   "id": "grand-commander",
   "metadata": {
    "ExecuteTime": {
     "end_time": "2021-05-24T15:09:53.002093Z",
     "start_time": "2021-05-24T15:09:52.986022Z"
    },
    "hidden": true
   },
   "outputs": [],
   "source": [
    "voltages = pd.DataFrame(columns=['current', 'voltage', 'resistance', 'power'])\n",
    "\n",
    "\n",
    "def add_row(c, v, r=12296.0):\n",
    "    voltages.loc[voltages.shape[0], :] = [c, v, r, c*v]\n",
    "    display(voltages.iloc[-1])"
   ]
  },
  {
   "cell_type": "code",
   "execution_count": 65,
   "id": "defensive-source",
   "metadata": {
    "ExecuteTime": {
     "end_time": "2021-05-24T15:09:53.017269Z",
     "start_time": "2021-05-24T15:09:53.003516Z"
    },
    "hidden": true
   },
   "outputs": [
    {
     "data": {
      "text/plain": [
       "current          0.0022\n",
       "voltage          0.0183\n",
       "resistance        12296\n",
       "power         4.026e-05\n",
       "Name: 0, dtype: object"
      ]
     },
     "metadata": {},
     "output_type": "display_data"
    }
   ],
   "source": [
    "add_row(0.0022, 0.0183)"
   ]
  },
  {
   "cell_type": "code",
   "execution_count": 66,
   "id": "exterior-sunset",
   "metadata": {
    "ExecuteTime": {
     "end_time": "2021-05-24T15:09:53.032433Z",
     "start_time": "2021-05-24T15:09:53.019514Z"
    },
    "hidden": true
   },
   "outputs": [
    {
     "data": {
      "text/plain": [
       "current           0.0071\n",
       "voltage           0.0836\n",
       "resistance         12296\n",
       "power         0.00059356\n",
       "Name: 1, dtype: object"
      ]
     },
     "metadata": {},
     "output_type": "display_data"
    }
   ],
   "source": [
    "add_row(0.0071, 0.0836)"
   ]
  },
  {
   "cell_type": "code",
   "execution_count": 67,
   "id": "chronic-railway",
   "metadata": {
    "ExecuteTime": {
     "end_time": "2021-05-24T15:09:53.046973Z",
     "start_time": "2021-05-24T15:09:53.033563Z"
    },
    "hidden": true
   },
   "outputs": [
    {
     "data": {
      "text/plain": [
       "current           0.0128\n",
       "voltage           0.2103\n",
       "resistance         12296\n",
       "power         0.00269184\n",
       "Name: 2, dtype: object"
      ]
     },
     "metadata": {},
     "output_type": "display_data"
    }
   ],
   "source": [
    "add_row(0.0128, 0.2103)"
   ]
  },
  {
   "cell_type": "code",
   "execution_count": 68,
   "id": "critical-memorabilia",
   "metadata": {
    "ExecuteTime": {
     "end_time": "2021-05-24T15:09:53.061773Z",
     "start_time": "2021-05-24T15:09:53.048186Z"
    },
    "hidden": true
   },
   "outputs": [
    {
     "data": {
      "text/plain": [
       "current           0.0201\n",
       "voltage           0.4462\n",
       "resistance         12296\n",
       "power         0.00896862\n",
       "Name: 3, dtype: object"
      ]
     },
     "metadata": {},
     "output_type": "display_data"
    }
   ],
   "source": [
    "add_row(0.0201, 0.4462)"
   ]
  },
  {
   "cell_type": "code",
   "execution_count": 69,
   "id": "eight-frost",
   "metadata": {
    "ExecuteTime": {
     "end_time": "2021-05-24T15:09:53.077100Z",
     "start_time": "2021-05-24T15:09:53.063516Z"
    },
    "hidden": true
   },
   "outputs": [
    {
     "data": {
      "text/plain": [
       "current          0.0441\n",
       "voltage          1.0425\n",
       "resistance        12296\n",
       "power         0.0459743\n",
       "Name: 4, dtype: object"
      ]
     },
     "metadata": {},
     "output_type": "display_data"
    }
   ],
   "source": [
    "add_row(0.0441, 1.0425)"
   ]
  },
  {
   "cell_type": "code",
   "execution_count": 70,
   "id": "rapid-fleece",
   "metadata": {
    "ExecuteTime": {
     "end_time": "2021-05-24T15:09:53.093581Z",
     "start_time": "2021-05-24T15:09:53.079296Z"
    },
    "hidden": true
   },
   "outputs": [
    {
     "data": {
      "text/plain": [
       "current          0.0656\n",
       "voltage           1.501\n",
       "resistance        12296\n",
       "power         0.0984656\n",
       "Name: 5, dtype: object"
      ]
     },
     "metadata": {},
     "output_type": "display_data"
    }
   ],
   "source": [
    "add_row(0.0656, 1.501)"
   ]
  },
  {
   "cell_type": "code",
   "execution_count": 71,
   "id": "painful-italic",
   "metadata": {
    "ExecuteTime": {
     "end_time": "2021-05-24T15:09:53.110656Z",
     "start_time": "2021-05-24T15:09:53.095415Z"
    },
    "hidden": true
   },
   "outputs": [
    {
     "data": {
      "text/plain": [
       "current         -0.0011\n",
       "voltage         -0.0196\n",
       "resistance        12296\n",
       "power         2.156e-05\n",
       "Name: 6, dtype: object"
      ]
     },
     "metadata": {},
     "output_type": "display_data"
    }
   ],
   "source": [
    "add_row(-0.0011, -0.0196)"
   ]
  },
  {
   "cell_type": "code",
   "execution_count": 72,
   "id": "centered-evanescence",
   "metadata": {
    "ExecuteTime": {
     "end_time": "2021-05-24T15:09:53.128958Z",
     "start_time": "2021-05-24T15:09:53.113380Z"
    },
    "hidden": true
   },
   "outputs": [
    {
     "data": {
      "text/plain": [
       "current          -0.0044\n",
       "voltage          -0.0603\n",
       "resistance         12296\n",
       "power         0.00026532\n",
       "Name: 7, dtype: object"
      ]
     },
     "metadata": {},
     "output_type": "display_data"
    }
   ],
   "source": [
    "add_row(-0.0044, -0.0603)"
   ]
  },
  {
   "cell_type": "code",
   "execution_count": 73,
   "id": "affiliated-bahamas",
   "metadata": {
    "ExecuteTime": {
     "end_time": "2021-05-24T15:09:53.143751Z",
     "start_time": "2021-05-24T15:09:53.130267Z"
    },
    "hidden": true
   },
   "outputs": [
    {
     "data": {
      "text/plain": [
       "current         -0.0105\n",
       "voltage          -0.155\n",
       "resistance        12296\n",
       "power         0.0016275\n",
       "Name: 8, dtype: object"
      ]
     },
     "metadata": {},
     "output_type": "display_data"
    }
   ],
   "source": [
    "add_row(-0.0105, -0.1550)"
   ]
  },
  {
   "cell_type": "code",
   "execution_count": 74,
   "id": "heated-coalition",
   "metadata": {
    "ExecuteTime": {
     "end_time": "2021-05-24T15:09:53.160096Z",
     "start_time": "2021-05-24T15:09:53.145551Z"
    },
    "hidden": true
   },
   "outputs": [
    {
     "data": {
      "text/plain": [
       "current          -0.0133\n",
       "voltage          -0.2201\n",
       "resistance         12296\n",
       "power         0.00292733\n",
       "Name: 9, dtype: object"
      ]
     },
     "metadata": {},
     "output_type": "display_data"
    }
   ],
   "source": [
    "add_row(-0.0133, -0.2201)"
   ]
  },
  {
   "cell_type": "code",
   "execution_count": 75,
   "id": "independent-anger",
   "metadata": {
    "ExecuteTime": {
     "end_time": "2021-05-24T15:09:53.175156Z",
     "start_time": "2021-05-24T15:09:53.162367Z"
    },
    "hidden": true
   },
   "outputs": [
    {
     "data": {
      "text/plain": [
       "current         -0.0236\n",
       "voltage         -0.5823\n",
       "resistance        12296\n",
       "power         0.0137423\n",
       "Name: 10, dtype: object"
      ]
     },
     "metadata": {},
     "output_type": "display_data"
    }
   ],
   "source": [
    "add_row(-0.0236, -0.5823)"
   ]
  },
  {
   "cell_type": "code",
   "execution_count": 76,
   "id": "champion-scotland",
   "metadata": {
    "ExecuteTime": {
     "end_time": "2021-05-24T15:09:53.190010Z",
     "start_time": "2021-05-24T15:09:53.176657Z"
    },
    "hidden": true
   },
   "outputs": [
    {
     "data": {
      "text/plain": [
       "current         -0.0306\n",
       "voltage         -0.9142\n",
       "resistance        12296\n",
       "power         0.0279745\n",
       "Name: 11, dtype: object"
      ]
     },
     "metadata": {},
     "output_type": "display_data"
    }
   ],
   "source": [
    "add_row(-0.0306,\n",
    "        -0.9142)"
   ]
  },
  {
   "cell_type": "code",
   "execution_count": 77,
   "id": "literary-coordinator",
   "metadata": {
    "ExecuteTime": {
     "end_time": "2021-05-24T15:09:53.207586Z",
     "start_time": "2021-05-24T15:09:53.191134Z"
    },
    "hidden": true
   },
   "outputs": [
    {
     "data": {
      "text/plain": [
       "current         -0.0352\n",
       "voltage         -1.1616\n",
       "resistance        12296\n",
       "power         0.0408883\n",
       "Name: 12, dtype: object"
      ]
     },
     "metadata": {},
     "output_type": "display_data"
    }
   ],
   "source": [
    "add_row(-0.0352,\n",
    "        -1.1616)"
   ]
  },
  {
   "cell_type": "code",
   "execution_count": 78,
   "id": "rubber-concert",
   "metadata": {
    "ExecuteTime": {
     "end_time": "2021-05-24T15:09:53.226314Z",
     "start_time": "2021-05-24T15:09:53.210255Z"
    },
    "hidden": true
   },
   "outputs": [
    {
     "data": {
      "text/plain": [
       "current         -0.0383\n",
       "voltage          -1.349\n",
       "resistance        12296\n",
       "power         0.0516667\n",
       "Name: 13, dtype: object"
      ]
     },
     "metadata": {},
     "output_type": "display_data"
    }
   ],
   "source": [
    "add_row(-0.0383,\n",
    "        -1.3490)"
   ]
  },
  {
   "cell_type": "code",
   "execution_count": 79,
   "id": "romance-replacement",
   "metadata": {
    "ExecuteTime": {
     "end_time": "2021-05-24T15:09:53.243338Z",
     "start_time": "2021-05-24T15:09:53.227545Z"
    },
    "hidden": true
   },
   "outputs": [
    {
     "data": {
      "text/plain": [
       "current         -0.0424\n",
       "voltage          -1.588\n",
       "resistance        12296\n",
       "power         0.0673312\n",
       "Name: 14, dtype: object"
      ]
     },
     "metadata": {},
     "output_type": "display_data"
    }
   ],
   "source": [
    "add_row(-0.0424,\n",
    "        -1.5880)"
   ]
  },
  {
   "cell_type": "code",
   "execution_count": 80,
   "id": "opposite-footage",
   "metadata": {
    "ExecuteTime": {
     "end_time": "2021-05-24T15:09:53.260464Z",
     "start_time": "2021-05-24T15:09:53.245239Z"
    },
    "hidden": true
   },
   "outputs": [
    {
     "data": {
      "text/plain": [
       "current       -0.0482\n",
       "voltage       -1.9278\n",
       "resistance      12296\n",
       "power         0.09292\n",
       "Name: 15, dtype: object"
      ]
     },
     "metadata": {},
     "output_type": "display_data"
    }
   ],
   "source": [
    "add_row(-0.0482,\n",
    "        -1.9278)"
   ]
  },
  {
   "cell_type": "code",
   "execution_count": 81,
   "id": "upset-rover",
   "metadata": {
    "ExecuteTime": {
     "end_time": "2021-05-24T15:09:53.281092Z",
     "start_time": "2021-05-24T15:09:53.262030Z"
    },
    "hidden": true
   },
   "outputs": [
    {
     "data": {
      "text/html": [
       "<div>\n",
       "<style scoped>\n",
       "    .dataframe tbody tr th:only-of-type {\n",
       "        vertical-align: middle;\n",
       "    }\n",
       "\n",
       "    .dataframe tbody tr th {\n",
       "        vertical-align: top;\n",
       "    }\n",
       "\n",
       "    .dataframe thead th {\n",
       "        text-align: right;\n",
       "    }\n",
       "</style>\n",
       "<table border=\"1\" class=\"dataframe\">\n",
       "  <thead>\n",
       "    <tr style=\"text-align: right;\">\n",
       "      <th></th>\n",
       "      <th>current</th>\n",
       "      <th>voltage</th>\n",
       "      <th>resistance</th>\n",
       "      <th>power</th>\n",
       "    </tr>\n",
       "  </thead>\n",
       "  <tbody>\n",
       "    <tr>\n",
       "      <th>0</th>\n",
       "      <td>0.0022</td>\n",
       "      <td>0.0183</td>\n",
       "      <td>12296</td>\n",
       "      <td>4.026e-05</td>\n",
       "    </tr>\n",
       "    <tr>\n",
       "      <th>1</th>\n",
       "      <td>0.0071</td>\n",
       "      <td>0.0836</td>\n",
       "      <td>12296</td>\n",
       "      <td>0.00059356</td>\n",
       "    </tr>\n",
       "    <tr>\n",
       "      <th>2</th>\n",
       "      <td>0.0128</td>\n",
       "      <td>0.2103</td>\n",
       "      <td>12296</td>\n",
       "      <td>0.00269184</td>\n",
       "    </tr>\n",
       "    <tr>\n",
       "      <th>3</th>\n",
       "      <td>0.0201</td>\n",
       "      <td>0.4462</td>\n",
       "      <td>12296</td>\n",
       "      <td>0.00896862</td>\n",
       "    </tr>\n",
       "    <tr>\n",
       "      <th>4</th>\n",
       "      <td>0.0441</td>\n",
       "      <td>1.0425</td>\n",
       "      <td>12296</td>\n",
       "      <td>0.0459743</td>\n",
       "    </tr>\n",
       "    <tr>\n",
       "      <th>5</th>\n",
       "      <td>0.0656</td>\n",
       "      <td>1.501</td>\n",
       "      <td>12296</td>\n",
       "      <td>0.0984656</td>\n",
       "    </tr>\n",
       "    <tr>\n",
       "      <th>6</th>\n",
       "      <td>-0.0011</td>\n",
       "      <td>-0.0196</td>\n",
       "      <td>12296</td>\n",
       "      <td>2.156e-05</td>\n",
       "    </tr>\n",
       "    <tr>\n",
       "      <th>7</th>\n",
       "      <td>-0.0044</td>\n",
       "      <td>-0.0603</td>\n",
       "      <td>12296</td>\n",
       "      <td>0.00026532</td>\n",
       "    </tr>\n",
       "    <tr>\n",
       "      <th>8</th>\n",
       "      <td>-0.0105</td>\n",
       "      <td>-0.155</td>\n",
       "      <td>12296</td>\n",
       "      <td>0.0016275</td>\n",
       "    </tr>\n",
       "    <tr>\n",
       "      <th>9</th>\n",
       "      <td>-0.0133</td>\n",
       "      <td>-0.2201</td>\n",
       "      <td>12296</td>\n",
       "      <td>0.00292733</td>\n",
       "    </tr>\n",
       "    <tr>\n",
       "      <th>10</th>\n",
       "      <td>-0.0236</td>\n",
       "      <td>-0.5823</td>\n",
       "      <td>12296</td>\n",
       "      <td>0.0137423</td>\n",
       "    </tr>\n",
       "    <tr>\n",
       "      <th>11</th>\n",
       "      <td>-0.0306</td>\n",
       "      <td>-0.9142</td>\n",
       "      <td>12296</td>\n",
       "      <td>0.0279745</td>\n",
       "    </tr>\n",
       "    <tr>\n",
       "      <th>12</th>\n",
       "      <td>-0.0352</td>\n",
       "      <td>-1.1616</td>\n",
       "      <td>12296</td>\n",
       "      <td>0.0408883</td>\n",
       "    </tr>\n",
       "    <tr>\n",
       "      <th>13</th>\n",
       "      <td>-0.0383</td>\n",
       "      <td>-1.349</td>\n",
       "      <td>12296</td>\n",
       "      <td>0.0516667</td>\n",
       "    </tr>\n",
       "    <tr>\n",
       "      <th>14</th>\n",
       "      <td>-0.0424</td>\n",
       "      <td>-1.588</td>\n",
       "      <td>12296</td>\n",
       "      <td>0.0673312</td>\n",
       "    </tr>\n",
       "    <tr>\n",
       "      <th>15</th>\n",
       "      <td>-0.0482</td>\n",
       "      <td>-1.9278</td>\n",
       "      <td>12296</td>\n",
       "      <td>0.09292</td>\n",
       "    </tr>\n",
       "  </tbody>\n",
       "</table>\n",
       "</div>"
      ],
      "text/plain": [
       "   current voltage resistance       power\n",
       "0   0.0022  0.0183      12296   4.026e-05\n",
       "1   0.0071  0.0836      12296  0.00059356\n",
       "2   0.0128  0.2103      12296  0.00269184\n",
       "3   0.0201  0.4462      12296  0.00896862\n",
       "4   0.0441  1.0425      12296   0.0459743\n",
       "5   0.0656   1.501      12296   0.0984656\n",
       "6  -0.0011 -0.0196      12296   2.156e-05\n",
       "7  -0.0044 -0.0603      12296  0.00026532\n",
       "8  -0.0105  -0.155      12296   0.0016275\n",
       "9  -0.0133 -0.2201      12296  0.00292733\n",
       "10 -0.0236 -0.5823      12296   0.0137423\n",
       "11 -0.0306 -0.9142      12296   0.0279745\n",
       "12 -0.0352 -1.1616      12296   0.0408883\n",
       "13 -0.0383  -1.349      12296   0.0516667\n",
       "14 -0.0424  -1.588      12296   0.0673312\n",
       "15 -0.0482 -1.9278      12296     0.09292"
      ]
     },
     "execution_count": 81,
     "metadata": {},
     "output_type": "execute_result"
    }
   ],
   "source": [
    "voltages"
   ]
  },
  {
   "cell_type": "markdown",
   "id": "maritime-scope",
   "metadata": {
    "heading_collapsed": true
   },
   "source": [
    "#### Results"
   ]
  },
  {
   "cell_type": "code",
   "execution_count": 82,
   "id": "completed-alexandria",
   "metadata": {
    "ExecuteTime": {
     "end_time": "2021-05-24T15:09:53.457729Z",
     "start_time": "2021-05-24T15:09:53.282417Z"
    },
    "hidden": true
   },
   "outputs": [
    {
     "data": {
      "image/png": "[encoded data removed]",
      "text/plain": [
       "<Figure size 504x252 with 1 Axes>"
      ]
     },
     "metadata": {},
     "output_type": "display_data"
    }
   ],
   "source": [
    "my_graph(voltages.voltage, voltages.current, 'linear','linear','Voltage (V)', 'Current (A)', 'l2_a_1', '')"
   ]
  },
  {
   "cell_type": "code",
   "execution_count": 84,
   "id": "general-injury",
   "metadata": {
    "ExecuteTime": {
     "end_time": "2021-05-24T15:11:16.304716Z",
     "start_time": "2021-05-24T15:11:16.293535Z"
    },
    "hidden": true
   },
   "outputs": [],
   "source": [
    "rohms = 'Resistance ($\\\\mathregular{\\\\Omega}$)'"
   ]
  },
  {
   "cell_type": "code",
   "execution_count": 91,
   "id": "measured-exploration",
   "metadata": {
    "ExecuteTime": {
     "end_time": "2021-05-24T15:13:14.089788Z",
     "start_time": "2021-05-24T15:13:13.906919Z"
    },
    "hidden": true
   },
   "outputs": [
    {
     "data": {
      "image/png": "[encoded data removed]",
      "text/plain": [
       "<Figure size 504x252 with 1 Axes>"
      ]
     },
     "metadata": {},
     "output_type": "display_data"
    }
   ],
   "source": [
    "my_graph(voltages.voltage, voltages.voltage/voltages.current,\n",
    "         'linear', 'linear', 'Voltage (V)', rohms,  'l2_a_2', '')"
   ]
  },
  {
   "cell_type": "markdown",
   "id": "essential-ceramic",
   "metadata": {},
   "source": [
    "### Part B"
   ]
  },
  {
   "cell_type": "markdown",
   "id": "bearing-communication",
   "metadata": {},
   "source": [
    "#### Measurements"
   ]
  },
  {
   "cell_type": "code",
   "execution_count": 97,
   "id": "falling-workplace",
   "metadata": {
    "ExecuteTime": {
     "end_time": "2021-05-24T15:29:13.994012Z",
     "start_time": "2021-05-24T15:29:13.979841Z"
    },
    "code_folding": [
     3
    ]
   },
   "outputs": [],
   "source": [
    "volts = 0.9083\n",
    "amps = 0.0396e-3\n",
    "\n",
    "fourwire = pd.DataFrame({\n",
    "    'start':[\n",
    "        'blue','white',\n",
    "    ],\n",
    "    'end':[\n",
    "        'green','grey',\n",
    "    ],\n",
    "    'voltage':[\n",
    "        5.84e-3, 9.33e-3\n",
    "    ]\n",
    "})"
   ]
  },
  {
   "cell_type": "markdown",
   "id": "sustained-texas",
   "metadata": {},
   "source": [
    "#### Calculations"
   ]
  },
  {
   "cell_type": "code",
   "execution_count": 98,
   "id": "herbal-flexibility",
   "metadata": {
    "ExecuteTime": {
     "end_time": "2021-05-24T15:29:14.155789Z",
     "start_time": "2021-05-24T15:29:14.138161Z"
    }
   },
   "outputs": [
    {
     "data": {
      "text/html": [
       "<div>\n",
       "<style scoped>\n",
       "    .dataframe tbody tr th:only-of-type {\n",
       "        vertical-align: middle;\n",
       "    }\n",
       "\n",
       "    .dataframe tbody tr th {\n",
       "        vertical-align: top;\n",
       "    }\n",
       "\n",
       "    .dataframe thead th {\n",
       "        text-align: right;\n",
       "    }\n",
       "</style>\n",
       "<table border=\"1\" class=\"dataframe\">\n",
       "  <thead>\n",
       "    <tr style=\"text-align: right;\">\n",
       "      <th></th>\n",
       "      <th>start</th>\n",
       "      <th>end</th>\n",
       "      <th>voltage</th>\n",
       "      <th>resistance</th>\n",
       "      <th>distance</th>\n",
       "    </tr>\n",
       "  </thead>\n",
       "  <tbody>\n",
       "    <tr>\n",
       "      <th>0</th>\n",
       "      <td>blue</td>\n",
       "      <td>green</td>\n",
       "      <td>0.00584</td>\n",
       "      <td>147.474747</td>\n",
       "      <td>9.46</td>\n",
       "    </tr>\n",
       "    <tr>\n",
       "      <th>1</th>\n",
       "      <td>white</td>\n",
       "      <td>grey</td>\n",
       "      <td>0.00933</td>\n",
       "      <td>235.606061</td>\n",
       "      <td>11.63</td>\n",
       "    </tr>\n",
       "  </tbody>\n",
       "</table>\n",
       "</div>"
      ],
      "text/plain": [
       "   start    end  voltage  resistance  distance\n",
       "0   blue  green  0.00584  147.474747      9.46\n",
       "1  white   grey  0.00933  235.606061     11.63"
      ]
     },
     "execution_count": 98,
     "metadata": {},
     "output_type": "execute_result"
    }
   ],
   "source": [
    "fourwire.insert(3, 'resistance', fourwire.voltage/amps)\n",
    "fourwire.insert(4, 'distance', [9.46, 11.63])\n",
    "fourwire"
   ]
  },
  {
   "cell_type": "code",
   "execution_count": 105,
   "id": "allied-merchandise",
   "metadata": {
    "ExecuteTime": {
     "end_time": "2021-05-24T15:32:29.929403Z",
     "start_time": "2021-05-24T15:32:29.918633Z"
    }
   },
   "outputs": [],
   "source": [
    "csa = cross_sectional_area = silicon_dimensions[1] * silicon_thickness * 1e-3**2"
   ]
  },
  {
   "cell_type": "code",
   "execution_count": 106,
   "id": "cosmetic-provincial",
   "metadata": {
    "ExecuteTime": {
     "end_time": "2021-05-24T15:32:39.825702Z",
     "start_time": "2021-05-24T15:32:39.812231Z"
    }
   },
   "outputs": [],
   "source": [
    "fourwire.insert(5, 'rho', fourwire.resistance * csa / fourwire.distance)"
   ]
  },
  {
   "cell_type": "code",
   "execution_count": 107,
   "id": "designed-mobility",
   "metadata": {
    "ExecuteTime": {
     "end_time": "2021-05-24T15:32:40.450158Z",
     "start_time": "2021-05-24T15:32:40.439292Z"
    }
   },
   "outputs": [],
   "source": [
    "fourwire.insert(6, 'measured_R', [20.2e3, 213.6e3])"
   ]
  },
  {
   "cell_type": "code",
   "execution_count": 108,
   "id": "assigned-hampton",
   "metadata": {
    "ExecuteTime": {
     "end_time": "2021-05-24T15:32:43.071051Z",
     "start_time": "2021-05-24T15:32:43.053201Z"
    }
   },
   "outputs": [
    {
     "data": {
      "text/html": [
       "<div>\n",
       "<style scoped>\n",
       "    .dataframe tbody tr th:only-of-type {\n",
       "        vertical-align: middle;\n",
       "    }\n",
       "\n",
       "    .dataframe tbody tr th {\n",
       "        vertical-align: top;\n",
       "    }\n",
       "\n",
       "    .dataframe thead th {\n",
       "        text-align: right;\n",
       "    }\n",
       "</style>\n",
       "<table border=\"1\" class=\"dataframe\">\n",
       "  <thead>\n",
       "    <tr style=\"text-align: right;\">\n",
       "      <th></th>\n",
       "      <th>start</th>\n",
       "      <th>end</th>\n",
       "      <th>voltage</th>\n",
       "      <th>resistance</th>\n",
       "      <th>distance</th>\n",
       "      <th>rho</th>\n",
       "      <th>measured_R</th>\n",
       "    </tr>\n",
       "  </thead>\n",
       "  <tbody>\n",
       "    <tr>\n",
       "      <th>0</th>\n",
       "      <td>blue</td>\n",
       "      <td>green</td>\n",
       "      <td>0.00584</td>\n",
       "      <td>147.474747</td>\n",
       "      <td>9.46</td>\n",
       "      <td>0.000076</td>\n",
       "      <td>20200.0</td>\n",
       "    </tr>\n",
       "    <tr>\n",
       "      <th>1</th>\n",
       "      <td>white</td>\n",
       "      <td>grey</td>\n",
       "      <td>0.00933</td>\n",
       "      <td>235.606061</td>\n",
       "      <td>11.63</td>\n",
       "      <td>0.000099</td>\n",
       "      <td>213600.0</td>\n",
       "    </tr>\n",
       "  </tbody>\n",
       "</table>\n",
       "</div>"
      ],
      "text/plain": [
       "   start    end  voltage  resistance  distance       rho  measured_R\n",
       "0   blue  green  0.00584  147.474747      9.46  0.000076     20200.0\n",
       "1  white   grey  0.00933  235.606061     11.63  0.000099    213600.0"
      ]
     },
     "execution_count": 108,
     "metadata": {},
     "output_type": "execute_result"
    }
   ],
   "source": [
    "fourwire"
   ]
  },
  {
   "cell_type": "code",
   "execution_count": null,
   "id": "outdoor-green",
   "metadata": {},
   "outputs": [],
   "source": []
  },
  {
   "cell_type": "code",
   "execution_count": null,
   "id": "residential-journalism",
   "metadata": {},
   "outputs": [],
   "source": []
  },
  {
   "cell_type": "code",
   "execution_count": null,
   "id": "quick-style",
   "metadata": {},
   "outputs": [],
   "source": []
  },
  {
   "cell_type": "code",
   "execution_count": null,
   "id": "possible-happiness",
   "metadata": {},
   "outputs": [],
   "source": []
  }
 ],
 "metadata": {
  "kernelspec": {
   "display_name": "Python 3",
   "language": "python",
   "name": "python3"
  },
  "language_info": {
   "codemirror_mode": {
    "name": "ipython",
    "version": 3
   },
   "file_extension": ".py",
   "mimetype": "text/x-python",
   "name": "python",
   "nbconvert_exporter": "python",
   "pygments_lexer": "ipython3",
   "version": "3.8.8"
  },
  "toc": {
   "base_numbering": 1,
   "nav_menu": {},
   "number_sections": true,
   "sideBar": true,
   "skip_h1_title": false,
   "title_cell": "Table of Contents",
   "title_sidebar": "Contents",
   "toc_cell": false,
   "toc_position": {},
   "toc_section_display": true,
   "toc_window_display": false
  }
 },
 "nbformat": 4,
 "nbformat_minor": 5
}
