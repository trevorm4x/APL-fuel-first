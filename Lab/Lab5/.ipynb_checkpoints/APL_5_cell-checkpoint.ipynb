{
 "cells": [
  {
   "cell_type": "code",
   "execution_count": null,
   "id": "58c3c905",
   "metadata": {},
   "outputs": [],
   "source": [
    "if True:\n",
    "    import numpy as np\n",
    "    import pandas as pd\n",
    "\n",
    "    # Add lab library\n",
    "    import sys\n",
    "    sys.path.insert(0, '/home/trevormjs/Documents/Science/APL/Lab')\n",
    "\n",
    "    #---------------------------------------------------------------------#\n",
    "    #                        matplotlib plotting                          #\n",
    "    #---------------------------------------------------------------------#\n",
    "    import matplotlib.pyplot as plt\n",
    "    import matplotlib as mpl\n",
    "    from jupyterthemes import jtplot\n",
    "    from Helper.plotting import my_graph\n",
    "    # Edit the font, font size, and axes width\n",
    "    # mpl.rcParams['font.family'] = 'Avenir'\n",
    "    plt.rcParams['font.size'] = 24\n",
    "    plt.rcParams['axes.linewidth'] = 2\n",
    "    jtplot.style(theme='monokai', context='notebook', ticks=False, grid=False)\n",
    "\n",
    "    #---------------------------------------------------------------------#\n",
    "    #                           bokeh plotting                            #\n",
    "    #---------------------------------------------------------------------#\n",
    "    from bokeh.plotting import figure, show, output_notebook\n",
    "    from bokeh.themes import Theme\n",
    "    from bokeh.io import curdoc, export_png\n",
    "    from bokeh.models import (Range1d, Label, ColumnDataSource, LabelSet,\n",
    "                              Legend)\n",
    "    from Helper.plotting import style\n",
    "    output_notebook()\n",
    "    # curdoc().theme = Theme(filename=\"../Helper/theme.yml\")\n",
    "\n",
    "    #---------------------------------------------------------------------#\n",
    "    #                       error and unit handling                       #\n",
    "    #---------------------------------------------------------------------#\n",
    "    from uncertainties import ufloat\n",
    "    import Helper.numbers as nu\n",
    "    from Helper.record import Measurement, Unit\n",
    "\n",
    "    %load_ext autoreload\n",
    "    %autoreload 2"
   ]
  }
 ],
 "metadata": {
  "kernelspec": {
   "display_name": "Python 3",
   "language": "python",
   "name": "python3"
  },
  "language_info": {
   "codemirror_mode": {
    "name": "ipython",
    "version": 3
   },
   "file_extension": ".py",
   "mimetype": "text/x-python",
   "name": "python",
   "nbconvert_exporter": "python",
   "pygments_lexer": "ipython3",
   "version": "3.8.10"
  },
  "toc": {
   "base_numbering": 1,
   "nav_menu": {},
   "number_sections": true,
   "sideBar": true,
   "skip_h1_title": false,
   "title_cell": "Table of Contents",
   "title_sidebar": "Contents",
   "toc_cell": false,
   "toc_position": {},
   "toc_section_display": true,
   "toc_window_display": false
  }
 },
 "nbformat": 4,
 "nbformat_minor": 5
}
